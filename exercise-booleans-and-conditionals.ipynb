{
 "cells": [
  {
   "cell_type": "markdown",
   "id": "96eaec96",
   "metadata": {
    "papermill": {
     "duration": 0.029635,
     "end_time": "2021-08-06T17:18:26.994107",
     "exception": false,
     "start_time": "2021-08-06T17:18:26.964472",
     "status": "completed"
    },
    "tags": []
   },
   "source": [
    "**This notebook is an exercise in the [Python](https://www.kaggle.com/learn/python) course.  You can reference the tutorial at [this link](https://www.kaggle.com/colinmorris/booleans-and-conditionals).**\n",
    "\n",
    "---\n"
   ]
  },
  {
   "cell_type": "markdown",
   "id": "93512051",
   "metadata": {
    "papermill": {
     "duration": 0.027505,
     "end_time": "2021-08-06T17:18:27.051833",
     "exception": false,
     "start_time": "2021-08-06T17:18:27.024328",
     "status": "completed"
    },
    "tags": []
   },
   "source": [
    "In this exercise, you'll put to work what you have learned about booleans and conditionals.\n",
    "\n",
    "To get started, **run the setup code below** before writing your own code (and if you leave this notebook and come back later, don't forget to run the setup code again)."
   ]
  },
  {
   "cell_type": "code",
   "execution_count": 1,
   "id": "93c09d6d",
   "metadata": {
    "execution": {
     "iopub.execute_input": "2021-08-06T17:18:27.120280Z",
     "iopub.status.busy": "2021-08-06T17:18:27.119630Z",
     "iopub.status.idle": "2021-08-06T17:18:27.258485Z",
     "shell.execute_reply": "2021-08-06T17:18:27.257558Z",
     "shell.execute_reply.started": "2021-08-06T17:15:03.532775Z"
    },
    "papermill": {
     "duration": 0.178278,
     "end_time": "2021-08-06T17:18:27.258742",
     "exception": false,
     "start_time": "2021-08-06T17:18:27.080464",
     "status": "completed"
    },
    "tags": []
   },
   "outputs": [
    {
     "name": "stdout",
     "output_type": "stream",
     "text": [
      "Setup complete.\n"
     ]
    }
   ],
   "source": [
    "from learntools.core import binder; binder.bind(globals())\n",
    "from learntools.python.ex3 import *\n",
    "print('Setup complete.')"
   ]
  },
  {
   "cell_type": "markdown",
   "id": "41c40afe",
   "metadata": {
    "papermill": {
     "duration": 0.037106,
     "end_time": "2021-08-06T17:18:27.326030",
     "exception": false,
     "start_time": "2021-08-06T17:18:27.288924",
     "status": "completed"
    },
    "tags": []
   },
   "source": [
    "# 1.\n",
    "\n",
    "Many programming languages have [`sign`](https://en.wikipedia.org/wiki/Sign_function) available as a built-in function. Python doesn't, but we can define our own!\n",
    "\n",
    "In the cell below, define a function called `sign` which takes a numerical argument and returns -1 if it's negative, 1 if it's positive, and 0 if it's 0."
   ]
  },
  {
   "cell_type": "code",
   "execution_count": 2,
   "id": "e51ccaf7",
   "metadata": {
    "execution": {
     "iopub.execute_input": "2021-08-06T17:18:27.408041Z",
     "iopub.status.busy": "2021-08-06T17:18:27.407314Z",
     "iopub.status.idle": "2021-08-06T17:18:27.415703Z",
     "shell.execute_reply": "2021-08-06T17:18:27.415149Z",
     "shell.execute_reply.started": "2021-08-06T07:39:56.872075Z"
    },
    "papermill": {
     "duration": 0.052373,
     "end_time": "2021-08-06T17:18:27.415845",
     "exception": false,
     "start_time": "2021-08-06T17:18:27.363472",
     "status": "completed"
    },
    "tags": []
   },
   "outputs": [
    {
     "data": {
      "application/javascript": [
       "parent.postMessage({\"jupyterEvent\": \"custom.exercise_interaction\", \"data\": {\"outcomeType\": 1, \"valueTowardsCompletion\": 0.2, \"interactionType\": 1, \"questionType\": 2, \"questionId\": \"1_SignFunctionProblem\", \"learnToolsVersion\": \"0.3.4\", \"failureMessage\": \"\", \"exceptionClass\": \"\", \"trace\": \"\"}}, \"*\")"
      ],
      "text/plain": [
       "<IPython.core.display.Javascript object>"
      ]
     },
     "metadata": {},
     "output_type": "display_data"
    },
    {
     "data": {
      "text/markdown": [
       "<span style=\"color:#33cc33\">Correct</span>"
      ],
      "text/plain": [
       "Correct"
      ]
     },
     "metadata": {},
     "output_type": "display_data"
    }
   ],
   "source": [
    "# Your code goes here. Define a function called 'sign'\n",
    "def sign(num):\n",
    "    if num > 0:\n",
    "        return 1\n",
    "    elif num < 0:\n",
    "        return -1\n",
    "    else:\n",
    "        return 0\n",
    "# Check your answer\n",
    "q1.check()"
   ]
  },
  {
   "cell_type": "code",
   "execution_count": 3,
   "id": "61ed0bcc",
   "metadata": {
    "execution": {
     "iopub.execute_input": "2021-08-06T17:18:27.482436Z",
     "iopub.status.busy": "2021-08-06T17:18:27.481803Z",
     "iopub.status.idle": "2021-08-06T17:18:27.484001Z",
     "shell.execute_reply": "2021-08-06T17:18:27.484485Z",
     "shell.execute_reply.started": "2021-08-06T07:40:17.046917Z"
    },
    "papermill": {
     "duration": 0.038182,
     "end_time": "2021-08-06T17:18:27.484677",
     "exception": false,
     "start_time": "2021-08-06T17:18:27.446495",
     "status": "completed"
    },
    "tags": []
   },
   "outputs": [],
   "source": [
    "#q1.solution()"
   ]
  },
  {
   "cell_type": "markdown",
   "id": "c6f3379e",
   "metadata": {
    "papermill": {
     "duration": 0.029095,
     "end_time": "2021-08-06T17:18:27.543273",
     "exception": false,
     "start_time": "2021-08-06T17:18:27.514178",
     "status": "completed"
    },
    "tags": []
   },
   "source": [
    "# 2.\n",
    "\n",
    "We've decided to add \"logging\" to our `to_smash` function from the previous exercise."
   ]
  },
  {
   "cell_type": "code",
   "execution_count": 4,
   "id": "44448ac2",
   "metadata": {
    "execution": {
     "iopub.execute_input": "2021-08-06T17:18:27.606787Z",
     "iopub.status.busy": "2021-08-06T17:18:27.605744Z",
     "iopub.status.idle": "2021-08-06T17:18:27.616018Z",
     "shell.execute_reply": "2021-08-06T17:18:27.616672Z",
     "shell.execute_reply.started": "2021-08-06T07:40:57.755403Z"
    },
    "papermill": {
     "duration": 0.043446,
     "end_time": "2021-08-06T17:18:27.616884",
     "exception": false,
     "start_time": "2021-08-06T17:18:27.573438",
     "status": "completed"
    },
    "tags": []
   },
   "outputs": [
    {
     "name": "stdout",
     "output_type": "stream",
     "text": [
      "Splitting 91 candies\n"
     ]
    },
    {
     "data": {
      "text/plain": [
       "1"
      ]
     },
     "execution_count": 4,
     "metadata": {},
     "output_type": "execute_result"
    }
   ],
   "source": [
    "def to_smash(total_candies):\n",
    "    \"\"\"Return the number of leftover candies that must be smashed after distributing\n",
    "    the given number of candies evenly between 3 friends.\n",
    "    \n",
    "    >>> to_smash(91)\n",
    "    1\n",
    "    \"\"\"\n",
    "    print(\"Splitting\", total_candies, \"candies\")\n",
    "    return total_candies % 3\n",
    "\n",
    "to_smash(91)"
   ]
  },
  {
   "cell_type": "markdown",
   "id": "f3bd5794",
   "metadata": {
    "papermill": {
     "duration": 0.029842,
     "end_time": "2021-08-06T17:18:27.677129",
     "exception": false,
     "start_time": "2021-08-06T17:18:27.647287",
     "status": "completed"
    },
    "tags": []
   },
   "source": [
    "What happens if we call it with `total_candies = 1`?"
   ]
  },
  {
   "cell_type": "code",
   "execution_count": 5,
   "id": "53382692",
   "metadata": {
    "execution": {
     "iopub.execute_input": "2021-08-06T17:18:27.744353Z",
     "iopub.status.busy": "2021-08-06T17:18:27.743296Z",
     "iopub.status.idle": "2021-08-06T17:18:27.748724Z",
     "shell.execute_reply": "2021-08-06T17:18:27.748148Z",
     "shell.execute_reply.started": "2021-08-06T07:41:01.229165Z"
    },
    "papermill": {
     "duration": 0.041535,
     "end_time": "2021-08-06T17:18:27.748873",
     "exception": false,
     "start_time": "2021-08-06T17:18:27.707338",
     "status": "completed"
    },
    "tags": []
   },
   "outputs": [
    {
     "name": "stdout",
     "output_type": "stream",
     "text": [
      "Splitting 1 candies\n"
     ]
    },
    {
     "data": {
      "text/plain": [
       "1"
      ]
     },
     "execution_count": 5,
     "metadata": {},
     "output_type": "execute_result"
    }
   ],
   "source": [
    "to_smash(1)"
   ]
  },
  {
   "cell_type": "markdown",
   "id": "14390269",
   "metadata": {
    "papermill": {
     "duration": 0.030426,
     "end_time": "2021-08-06T17:18:27.810083",
     "exception": false,
     "start_time": "2021-08-06T17:18:27.779657",
     "status": "completed"
    },
    "tags": []
   },
   "source": [
    "That isn't great grammar!\n",
    "\n",
    "Modify the definition in the cell below to correct the grammar of our print statement. (If there's only one candy, we should use the singular \"candy\" instead of the plural \"candies\")"
   ]
  },
  {
   "cell_type": "code",
   "execution_count": 6,
   "id": "c32fdaff",
   "metadata": {
    "execution": {
     "iopub.execute_input": "2021-08-06T17:18:27.878886Z",
     "iopub.status.busy": "2021-08-06T17:18:27.878185Z",
     "iopub.status.idle": "2021-08-06T17:18:27.884140Z",
     "shell.execute_reply": "2021-08-06T17:18:27.884889Z",
     "shell.execute_reply.started": "2021-08-06T07:42:38.051589Z"
    },
    "papermill": {
     "duration": 0.044426,
     "end_time": "2021-08-06T17:18:27.885139",
     "exception": false,
     "start_time": "2021-08-06T17:18:27.840713",
     "status": "completed"
    },
    "tags": []
   },
   "outputs": [
    {
     "name": "stdout",
     "output_type": "stream",
     "text": [
      "Splitting 91 candies\n",
      "splitting 1 candy\n"
     ]
    },
    {
     "data": {
      "text/plain": [
       "1"
      ]
     },
     "execution_count": 6,
     "metadata": {},
     "output_type": "execute_result"
    }
   ],
   "source": [
    "def to_smash(total_candies):\n",
    "    \"\"\"Return the number of leftover candies that must be smashed after distributing\n",
    "    the given number of candies evenly between 3 friends.\n",
    "    \n",
    "    >>> to_smash(91)\n",
    "    1\n",
    "    \"\"\"\n",
    "    if total_candies == 1:\n",
    "        print(\"splitting\", total_candies, \"candy\")\n",
    "    else:\n",
    "        print(\"Splitting\", total_candies, \"candies\")\n",
    "    return total_candies % 3\n",
    "\n",
    "to_smash(91)\n",
    "to_smash(1)"
   ]
  },
  {
   "cell_type": "markdown",
   "id": "36a703e0",
   "metadata": {
    "papermill": {
     "duration": 0.03113,
     "end_time": "2021-08-06T17:18:27.947957",
     "exception": false,
     "start_time": "2021-08-06T17:18:27.916827",
     "status": "completed"
    },
    "tags": []
   },
   "source": [
    "To get credit for completing this problem, and to see the official answer, run the code cell below."
   ]
  },
  {
   "cell_type": "code",
   "execution_count": 7,
   "id": "ab46aa19",
   "metadata": {
    "execution": {
     "iopub.execute_input": "2021-08-06T17:18:28.016333Z",
     "iopub.status.busy": "2021-08-06T17:18:28.015509Z",
     "iopub.status.idle": "2021-08-06T17:18:28.022525Z",
     "shell.execute_reply": "2021-08-06T17:18:28.021844Z",
     "shell.execute_reply.started": "2021-08-06T07:42:20.255029Z"
    },
    "papermill": {
     "duration": 0.042867,
     "end_time": "2021-08-06T17:18:28.022688",
     "exception": false,
     "start_time": "2021-08-06T17:18:27.979821",
     "status": "completed"
    },
    "tags": []
   },
   "outputs": [
    {
     "data": {
      "application/javascript": [
       "parent.postMessage({\"jupyterEvent\": \"custom.exercise_interaction\", \"data\": {\"interactionType\": 3, \"questionType\": 4, \"questionId\": \"2_PluralizationProblem\", \"learnToolsVersion\": \"0.3.4\", \"valueTowardsCompletion\": 0.0, \"failureMessage\": \"\", \"exceptionClass\": \"\", \"trace\": \"\", \"outcomeType\": 4}}, \"*\")"
      ],
      "text/plain": [
       "<IPython.core.display.Javascript object>"
      ]
     },
     "metadata": {},
     "output_type": "display_data"
    },
    {
     "data": {
      "text/markdown": [
       "<span style=\"color:#33cc99\">Solution:</span> A straightforward (and totally fine) solution is to replace the original `print` call with:\n",
       "\n",
       "```python\n",
       "if total_candies == 1:\n",
       "    print(\"Splitting 1 candy\")\n",
       "else:\n",
       "    print(\"Splitting\", total_candies, \"candies\")\n",
       "```\n",
       "\n",
       "Here's a slightly more succinct solution using a conditional expression:\n",
       "\n",
       "```python\n",
       "print(\"Splitting\", total_candies, \"candy\" if total_candies == 1 else \"candies\")\n",
       "```"
      ],
      "text/plain": [
       "Solution: A straightforward (and totally fine) solution is to replace the original `print` call with:\n",
       "\n",
       "```python\n",
       "if total_candies == 1:\n",
       "    print(\"Splitting 1 candy\")\n",
       "else:\n",
       "    print(\"Splitting\", total_candies, \"candies\")\n",
       "```\n",
       "\n",
       "Here's a slightly more succinct solution using a conditional expression:\n",
       "\n",
       "```python\n",
       "print(\"Splitting\", total_candies, \"candy\" if total_candies == 1 else \"candies\")\n",
       "```"
      ]
     },
     "metadata": {},
     "output_type": "display_data"
    }
   ],
   "source": [
    "# Check your answer (Run this code cell to receive credit!)\n",
    "q2.solution()"
   ]
  },
  {
   "cell_type": "markdown",
   "id": "c731b0eb",
   "metadata": {
    "papermill": {
     "duration": 0.034823,
     "end_time": "2021-08-06T17:18:28.090163",
     "exception": false,
     "start_time": "2021-08-06T17:18:28.055340",
     "status": "completed"
    },
    "tags": []
   },
   "source": [
    "# 3. <span title=\"A bit spicy\" style=\"color: darkgreen \">🌶️</span>\n",
    "\n",
    "In the tutorial, we talked about deciding whether we're prepared for the weather. I said that I'm safe from today's weather if...\n",
    "- I have an umbrella...\n",
    "- or if the rain isn't too heavy and I have a hood...\n",
    "- otherwise, I'm still fine unless it's raining *and* it's a workday\n",
    "\n",
    "The function below uses our first attempt at turning this logic into a Python expression. I claimed that there was a bug in that code. Can you find it?\n",
    "\n",
    "To prove that `prepared_for_weather` is buggy, come up with a set of inputs where either:\n",
    "- the function returns `False` (but should have returned `True`), or\n",
    "- the function returned `True` (but should have returned `False`).\n",
    "\n",
    "To get credit for completing this question, your code should return a <font color='#33cc33'>Correct</font> result."
   ]
  },
  {
   "cell_type": "code",
   "execution_count": 8,
   "id": "d998729a",
   "metadata": {
    "execution": {
     "iopub.execute_input": "2021-08-06T17:18:28.165381Z",
     "iopub.status.busy": "2021-08-06T17:18:28.164663Z",
     "iopub.status.idle": "2021-08-06T17:18:28.174035Z",
     "shell.execute_reply": "2021-08-06T17:18:28.173375Z",
     "shell.execute_reply.started": "2021-08-06T07:46:49.154452Z"
    },
    "papermill": {
     "duration": 0.049295,
     "end_time": "2021-08-06T17:18:28.174211",
     "exception": false,
     "start_time": "2021-08-06T17:18:28.124916",
     "status": "completed"
    },
    "tags": []
   },
   "outputs": [
    {
     "name": "stdout",
     "output_type": "stream",
     "text": [
      "False\n"
     ]
    },
    {
     "data": {
      "application/javascript": [
       "parent.postMessage({\"jupyterEvent\": \"custom.exercise_interaction\", \"data\": {\"outcomeType\": 1, \"valueTowardsCompletion\": 0.2, \"interactionType\": 1, \"questionType\": 1, \"questionId\": \"3_WeatherDebug\", \"learnToolsVersion\": \"0.3.4\", \"failureMessage\": \"\", \"exceptionClass\": \"\", \"trace\": \"\"}}, \"*\")"
      ],
      "text/plain": [
       "<IPython.core.display.Javascript object>"
      ]
     },
     "metadata": {},
     "output_type": "display_data"
    },
    {
     "data": {
      "text/markdown": [
       "<span style=\"color:#33cc33\">Correct:</span> \n",
       "\n",
       "One example of a failing test case is:\n",
       "\n",
       "```python\n",
       "have_umbrella = False\n",
       "rain_level = 0.0\n",
       "have_hood = False\n",
       "is_workday = False\n",
       "```\n",
       "\n",
       "Clearly we're prepared for the weather in this case. It's not raining. Not only that, it's not a workday, so we don't even need to leave the house! But our function will return False on these inputs.\n",
       "\n",
       "The key problem is that Python implictly parenthesizes the last part as:\n",
       "\n",
       "```python\n",
       "(not (rain_level > 0)) and is_workday\n",
       "```\n",
       "\n",
       "Whereas what we were trying to express would look more like:\n",
       "\n",
       "```python\n",
       "not (rain_level > 0 and is_workday)\n",
       "```\n"
      ],
      "text/plain": [
       "Correct: \n",
       "\n",
       "One example of a failing test case is:\n",
       "\n",
       "```python\n",
       "have_umbrella = False\n",
       "rain_level = 0.0\n",
       "have_hood = False\n",
       "is_workday = False\n",
       "```\n",
       "\n",
       "Clearly we're prepared for the weather in this case. It's not raining. Not only that, it's not a workday, so we don't even need to leave the house! But our function will return False on these inputs.\n",
       "\n",
       "The key problem is that Python implictly parenthesizes the last part as:\n",
       "\n",
       "```python\n",
       "(not (rain_level > 0)) and is_workday\n",
       "```\n",
       "\n",
       "Whereas what we were trying to express would look more like:\n",
       "\n",
       "```python\n",
       "not (rain_level > 0 and is_workday)\n",
       "```"
      ]
     },
     "metadata": {},
     "output_type": "display_data"
    }
   ],
   "source": [
    "def prepared_for_weather(have_umbrella, rain_level, have_hood, is_workday):\n",
    "    # Don't change this code. Our goal is just to find the bug, not fix it!\n",
    "    return have_umbrella or rain_level < 5 and have_hood or not rain_level > 0 and is_workday\n",
    "\n",
    "# Change the values of these inputs so they represent a case where prepared_for_weather\n",
    "# returns the wrong answer.\n",
    "have_umbrella = False\n",
    "rain_level = 5.1\n",
    "have_hood = False\n",
    "is_workday = False\n",
    "\n",
    "# Check what the function returns given the current values of the variables above\n",
    "actual = prepared_for_weather(have_umbrella, rain_level, have_hood, is_workday)\n",
    "print(actual)\n",
    "\n",
    "# Check your answer\n",
    "q3.check()"
   ]
  },
  {
   "cell_type": "code",
   "execution_count": 9,
   "id": "e7759294",
   "metadata": {
    "execution": {
     "iopub.execute_input": "2021-08-06T17:18:28.248413Z",
     "iopub.status.busy": "2021-08-06T17:18:28.247670Z",
     "iopub.status.idle": "2021-08-06T17:18:28.250643Z",
     "shell.execute_reply": "2021-08-06T17:18:28.249988Z"
    },
    "papermill": {
     "duration": 0.040991,
     "end_time": "2021-08-06T17:18:28.250784",
     "exception": false,
     "start_time": "2021-08-06T17:18:28.209793",
     "status": "completed"
    },
    "tags": []
   },
   "outputs": [],
   "source": [
    "#q3.hint()\n",
    "#q3.solution()"
   ]
  },
  {
   "cell_type": "markdown",
   "id": "f09493fd",
   "metadata": {
    "papermill": {
     "duration": 0.033979,
     "end_time": "2021-08-06T17:18:28.318825",
     "exception": false,
     "start_time": "2021-08-06T17:18:28.284846",
     "status": "completed"
    },
    "tags": []
   },
   "source": [
    "# 4.\n",
    "\n",
    "The function `is_negative` below is implemented correctly - it returns True if the given number is negative and False otherwise.\n",
    "\n",
    "However, it's more verbose than it needs to be. We can actually reduce the number of lines of code in this function by *75%* while keeping the same behaviour. \n",
    "\n",
    "See if you can come up with an equivalent body that uses just **one line** of code, and put it in the function `concise_is_negative`. (HINT: you don't even need Python's ternary syntax)"
   ]
  },
  {
   "cell_type": "code",
   "execution_count": 10,
   "id": "7ba71ea8",
   "metadata": {
    "execution": {
     "iopub.execute_input": "2021-08-06T17:18:28.389739Z",
     "iopub.status.busy": "2021-08-06T17:18:28.389051Z",
     "iopub.status.idle": "2021-08-06T17:18:28.397286Z",
     "shell.execute_reply": "2021-08-06T17:18:28.396762Z",
     "shell.execute_reply.started": "2021-08-06T07:51:20.624107Z"
    },
    "papermill": {
     "duration": 0.044561,
     "end_time": "2021-08-06T17:18:28.397431",
     "exception": false,
     "start_time": "2021-08-06T17:18:28.352870",
     "status": "completed"
    },
    "tags": []
   },
   "outputs": [
    {
     "data": {
      "application/javascript": [
       "parent.postMessage({\"jupyterEvent\": \"custom.exercise_interaction\", \"data\": {\"outcomeType\": 1, \"valueTowardsCompletion\": 0.2, \"interactionType\": 1, \"questionType\": 2, \"questionId\": \"4_ConciseIsNegative\", \"learnToolsVersion\": \"0.3.4\", \"failureMessage\": \"\", \"exceptionClass\": \"\", \"trace\": \"\"}}, \"*\")"
      ],
      "text/plain": [
       "<IPython.core.display.Javascript object>"
      ]
     },
     "metadata": {},
     "output_type": "display_data"
    },
    {
     "data": {
      "text/markdown": [
       "<span style=\"color:#33cc33\">Correct</span>"
      ],
      "text/plain": [
       "Correct"
      ]
     },
     "metadata": {},
     "output_type": "display_data"
    }
   ],
   "source": [
    "def is_negative(number):\n",
    "    if number < 0:\n",
    "        return True\n",
    "    else:\n",
    "        return False\n",
    "\n",
    "def concise_is_negative(number):\n",
    "    # Your code goes here (try to keep it to one line!)\n",
    "    return number<0\n",
    "\n",
    "# Check your answer\n",
    "q4.check()"
   ]
  },
  {
   "cell_type": "code",
   "execution_count": 11,
   "id": "49e4c8f0",
   "metadata": {
    "execution": {
     "iopub.execute_input": "2021-08-06T17:18:28.473193Z",
     "iopub.status.busy": "2021-08-06T17:18:28.472469Z",
     "iopub.status.idle": "2021-08-06T17:18:28.476385Z",
     "shell.execute_reply": "2021-08-06T17:18:28.475795Z",
     "shell.execute_reply.started": "2021-08-06T07:50:56.348228Z"
    },
    "papermill": {
     "duration": 0.043332,
     "end_time": "2021-08-06T17:18:28.476544",
     "exception": false,
     "start_time": "2021-08-06T17:18:28.433212",
     "status": "completed"
    },
    "tags": []
   },
   "outputs": [],
   "source": [
    "#q4.hint()\n",
    "#q4.solution()"
   ]
  },
  {
   "cell_type": "markdown",
   "id": "a8f57874",
   "metadata": {
    "papermill": {
     "duration": 0.035413,
     "end_time": "2021-08-06T17:18:28.547170",
     "exception": false,
     "start_time": "2021-08-06T17:18:28.511757",
     "status": "completed"
    },
    "tags": []
   },
   "source": [
    "# 5a.\n",
    "\n",
    "The boolean variables `ketchup`, `mustard` and `onion` represent whether a customer wants a particular topping on their hot dog. We want to implement a number of boolean functions that correspond to some yes-or-no questions about the customer's order. For example:"
   ]
  },
  {
   "cell_type": "code",
   "execution_count": 12,
   "id": "1034d44b",
   "metadata": {
    "execution": {
     "iopub.execute_input": "2021-08-06T17:18:28.622676Z",
     "iopub.status.busy": "2021-08-06T17:18:28.621955Z",
     "iopub.status.idle": "2021-08-06T17:18:28.625077Z",
     "shell.execute_reply": "2021-08-06T17:18:28.624546Z",
     "shell.execute_reply.started": "2021-08-06T07:52:30.013512Z"
    },
    "papermill": {
     "duration": 0.043025,
     "end_time": "2021-08-06T17:18:28.625273",
     "exception": false,
     "start_time": "2021-08-06T17:18:28.582248",
     "status": "completed"
    },
    "tags": []
   },
   "outputs": [],
   "source": [
    "def onionless(ketchup, mustard, onion):\n",
    "    \"\"\"Return whether the customer doesn't want onions.\n",
    "    \"\"\"\n",
    "    return not onion"
   ]
  },
  {
   "cell_type": "code",
   "execution_count": 13,
   "id": "f6d769a0",
   "metadata": {
    "execution": {
     "iopub.execute_input": "2021-08-06T17:18:28.701918Z",
     "iopub.status.busy": "2021-08-06T17:18:28.701198Z",
     "iopub.status.idle": "2021-08-06T17:18:28.706734Z",
     "shell.execute_reply": "2021-08-06T17:18:28.707198Z",
     "shell.execute_reply.started": "2021-08-06T07:54:46.480213Z"
    },
    "papermill": {
     "duration": 0.046722,
     "end_time": "2021-08-06T17:18:28.707375",
     "exception": false,
     "start_time": "2021-08-06T17:18:28.660653",
     "status": "completed"
    },
    "tags": []
   },
   "outputs": [
    {
     "data": {
      "application/javascript": [
       "parent.postMessage({\"jupyterEvent\": \"custom.exercise_interaction\", \"data\": {\"outcomeType\": 1, \"valueTowardsCompletion\": 0.2, \"interactionType\": 1, \"questionType\": 2, \"questionId\": \"5.1_AllToppings\", \"learnToolsVersion\": \"0.3.4\", \"failureMessage\": \"\", \"exceptionClass\": \"\", \"trace\": \"\"}}, \"*\")"
      ],
      "text/plain": [
       "<IPython.core.display.Javascript object>"
      ]
     },
     "metadata": {},
     "output_type": "display_data"
    },
    {
     "data": {
      "text/markdown": [
       "<span style=\"color:#33cc33\">Correct</span>"
      ],
      "text/plain": [
       "Correct"
      ]
     },
     "metadata": {},
     "output_type": "display_data"
    }
   ],
   "source": [
    "def wants_all_toppings(ketchup, mustard, onion):\n",
    "    \"\"\"Return whether the customer wants \"the works\" (all 3 toppings)\n",
    "    \"\"\"\n",
    "    return ketchup and mustard and onion\n",
    "\n",
    "# Check your answer\n",
    "q5.a.check()"
   ]
  },
  {
   "cell_type": "code",
   "execution_count": 14,
   "id": "d3940bc7",
   "metadata": {
    "execution": {
     "iopub.execute_input": "2021-08-06T17:18:28.784436Z",
     "iopub.status.busy": "2021-08-06T17:18:28.783781Z",
     "iopub.status.idle": "2021-08-06T17:18:28.787050Z",
     "shell.execute_reply": "2021-08-06T17:18:28.786500Z",
     "shell.execute_reply.started": "2021-08-06T07:54:21.281469Z"
    },
    "papermill": {
     "duration": 0.043068,
     "end_time": "2021-08-06T17:18:28.787187",
     "exception": false,
     "start_time": "2021-08-06T17:18:28.744119",
     "status": "completed"
    },
    "tags": []
   },
   "outputs": [],
   "source": [
    "#q5.a.hint()\n",
    "#q5.a.solution()"
   ]
  },
  {
   "cell_type": "markdown",
   "id": "d450a7b8",
   "metadata": {
    "papermill": {
     "duration": 0.037653,
     "end_time": "2021-08-06T17:18:28.860752",
     "exception": false,
     "start_time": "2021-08-06T17:18:28.823099",
     "status": "completed"
    },
    "tags": []
   },
   "source": [
    "# 5b.\n",
    "\n",
    "For the next function, fill in the body to match the English description in the docstring. "
   ]
  },
  {
   "cell_type": "code",
   "execution_count": 15,
   "id": "75332850",
   "metadata": {
    "execution": {
     "iopub.execute_input": "2021-08-06T17:18:28.940151Z",
     "iopub.status.busy": "2021-08-06T17:18:28.939110Z",
     "iopub.status.idle": "2021-08-06T17:18:28.944525Z",
     "shell.execute_reply": "2021-08-06T17:18:28.943850Z",
     "shell.execute_reply.started": "2021-08-06T07:56:48.294503Z"
    },
    "papermill": {
     "duration": 0.04743,
     "end_time": "2021-08-06T17:18:28.944681",
     "exception": false,
     "start_time": "2021-08-06T17:18:28.897251",
     "status": "completed"
    },
    "tags": []
   },
   "outputs": [
    {
     "data": {
      "application/javascript": [
       "parent.postMessage({\"jupyterEvent\": \"custom.exercise_interaction\", \"data\": {\"outcomeType\": 1, \"valueTowardsCompletion\": 0.2, \"interactionType\": 1, \"questionType\": 2, \"questionId\": \"5.2_PlainDog\", \"learnToolsVersion\": \"0.3.4\", \"failureMessage\": \"\", \"exceptionClass\": \"\", \"trace\": \"\"}}, \"*\")"
      ],
      "text/plain": [
       "<IPython.core.display.Javascript object>"
      ]
     },
     "metadata": {},
     "output_type": "display_data"
    },
    {
     "data": {
      "text/markdown": [
       "<span style=\"color:#33cc33\">Correct:</span> \n",
       "\n",
       "One solution looks like:\n",
       "```python\n",
       "return not ketchup and not mustard and not onion\n",
       "```\n",
       "\n",
       "We can also [\"factor out\" the nots](https://en.wikipedia.org/wiki/De_Morgan%27s_laws) to get:\n",
       "\n",
       "```python\n",
       "return not (ketchup or mustard or onion)\n",
       "```"
      ],
      "text/plain": [
       "Correct: \n",
       "\n",
       "One solution looks like:\n",
       "```python\n",
       "return not ketchup and not mustard and not onion\n",
       "```\n",
       "\n",
       "We can also [\"factor out\" the nots](https://en.wikipedia.org/wiki/De_Morgan%27s_laws) to get:\n",
       "\n",
       "```python\n",
       "return not (ketchup or mustard or onion)\n",
       "```"
      ]
     },
     "metadata": {},
     "output_type": "display_data"
    }
   ],
   "source": [
    "def wants_plain_hotdog(ketchup, mustard, onion):\n",
    "    \"\"\"Return whether the customer wants a plain hot dog with no toppings.\n",
    "    \"\"\"\n",
    "    return not (ketchup or mustard or onion)\n",
    "\n",
    "# Check your answer\n",
    "q5.b.check()"
   ]
  },
  {
   "cell_type": "code",
   "execution_count": 16,
   "id": "709a7d5b",
   "metadata": {
    "execution": {
     "iopub.execute_input": "2021-08-06T17:18:29.023910Z",
     "iopub.status.busy": "2021-08-06T17:18:29.023231Z",
     "iopub.status.idle": "2021-08-06T17:18:29.025327Z",
     "shell.execute_reply": "2021-08-06T17:18:29.025813Z"
    },
    "papermill": {
     "duration": 0.043975,
     "end_time": "2021-08-06T17:18:29.025992",
     "exception": false,
     "start_time": "2021-08-06T17:18:28.982017",
     "status": "completed"
    },
    "tags": []
   },
   "outputs": [],
   "source": [
    "#q5.b.hint()\n",
    "#q5.b.solution()"
   ]
  },
  {
   "cell_type": "markdown",
   "id": "3c947ca2",
   "metadata": {
    "papermill": {
     "duration": 0.037633,
     "end_time": "2021-08-06T17:18:29.101548",
     "exception": false,
     "start_time": "2021-08-06T17:18:29.063915",
     "status": "completed"
    },
    "tags": []
   },
   "source": [
    "# 5c.\n",
    "\n",
    "You know what to do: for the next function, fill in the body to match the English description in the docstring."
   ]
  },
  {
   "cell_type": "code",
   "execution_count": 17,
   "id": "53c0d0fc",
   "metadata": {
    "execution": {
     "iopub.execute_input": "2021-08-06T17:18:29.179838Z",
     "iopub.status.busy": "2021-08-06T17:18:29.179137Z",
     "iopub.status.idle": "2021-08-06T17:18:29.186191Z",
     "shell.execute_reply": "2021-08-06T17:18:29.186669Z",
     "shell.execute_reply.started": "2021-08-06T07:59:26.584725Z"
    },
    "papermill": {
     "duration": 0.047478,
     "end_time": "2021-08-06T17:18:29.186849",
     "exception": false,
     "start_time": "2021-08-06T17:18:29.139371",
     "status": "completed"
    },
    "tags": []
   },
   "outputs": [
    {
     "data": {
      "application/javascript": [
       "parent.postMessage({\"jupyterEvent\": \"custom.exercise_interaction\", \"data\": {\"outcomeType\": 1, \"valueTowardsCompletion\": 0.2, \"interactionType\": 1, \"questionType\": 2, \"questionId\": \"5.3_OneSauce\", \"learnToolsVersion\": \"0.3.4\", \"failureMessage\": \"\", \"exceptionClass\": \"\", \"trace\": \"\"}}, \"*\")"
      ],
      "text/plain": [
       "<IPython.core.display.Javascript object>"
      ]
     },
     "metadata": {},
     "output_type": "display_data"
    },
    {
     "data": {
      "text/markdown": [
       "<span style=\"color:#33cc33\">Correct</span>"
      ],
      "text/plain": [
       "Correct"
      ]
     },
     "metadata": {},
     "output_type": "display_data"
    }
   ],
   "source": [
    "def exactly_one_sauce(ketchup, mustard, onion):\n",
    "    \"\"\"Return whether the customer wants either ketchup or mustard, but not both.\n",
    "    (You may be familiar with this operation under the name \"exclusive or\")\n",
    "    \"\"\"\n",
    "    return (ketchup and not mustard) or (mustard and not ketchup)\n",
    "\n",
    "# Check your answer\n",
    "q5.c.check()"
   ]
  },
  {
   "cell_type": "code",
   "execution_count": 18,
   "id": "2d81b53a",
   "metadata": {
    "execution": {
     "iopub.execute_input": "2021-08-06T17:18:29.270311Z",
     "iopub.status.busy": "2021-08-06T17:18:29.269639Z",
     "iopub.status.idle": "2021-08-06T17:18:29.272688Z",
     "shell.execute_reply": "2021-08-06T17:18:29.273132Z",
     "shell.execute_reply.started": "2021-08-06T08:02:22.249256Z"
    },
    "papermill": {
     "duration": 0.045518,
     "end_time": "2021-08-06T17:18:29.273338",
     "exception": false,
     "start_time": "2021-08-06T17:18:29.227820",
     "status": "completed"
    },
    "tags": []
   },
   "outputs": [],
   "source": [
    "#q5.c.hint()\n",
    "#q5.c.solution()"
   ]
  },
  {
   "cell_type": "markdown",
   "id": "2276ff47",
   "metadata": {
    "papermill": {
     "duration": 0.037793,
     "end_time": "2021-08-06T17:18:29.349399",
     "exception": false,
     "start_time": "2021-08-06T17:18:29.311606",
     "status": "completed"
    },
    "tags": []
   },
   "source": [
    "# 6. <span title=\"A bit spicy\" style=\"color: darkgreen \">🌶️</span>\n",
    "\n",
    "We’ve seen that calling `bool()` on an integer returns `False` if it’s equal to 0 and `True` otherwise. What happens if we call `int()` on a bool? Try it out in the notebook cell below.\n",
    "\n",
    "Can you take advantage of this to write a succinct function that corresponds to the English sentence \"does the customer want exactly one topping?\"?"
   ]
  },
  {
   "cell_type": "code",
   "execution_count": 19,
   "id": "d27abe66",
   "metadata": {
    "execution": {
     "iopub.execute_input": "2021-08-06T17:18:29.428538Z",
     "iopub.status.busy": "2021-08-06T17:18:29.427901Z",
     "iopub.status.idle": "2021-08-06T17:18:29.435614Z",
     "shell.execute_reply": "2021-08-06T17:18:29.435075Z",
     "shell.execute_reply.started": "2021-08-06T08:01:33.691093Z"
    },
    "papermill": {
     "duration": 0.048329,
     "end_time": "2021-08-06T17:18:29.435764",
     "exception": false,
     "start_time": "2021-08-06T17:18:29.387435",
     "status": "completed"
    },
    "tags": []
   },
   "outputs": [
    {
     "data": {
      "application/javascript": [
       "parent.postMessage({\"jupyterEvent\": \"custom.exercise_interaction\", \"data\": {\"outcomeType\": 1, \"valueTowardsCompletion\": 0.2, \"interactionType\": 1, \"questionType\": 2, \"questionId\": \"6_OneTopping\", \"learnToolsVersion\": \"0.3.4\", \"failureMessage\": \"\", \"exceptionClass\": \"\", \"trace\": \"\"}}, \"*\")"
      ],
      "text/plain": [
       "<IPython.core.display.Javascript object>"
      ]
     },
     "metadata": {},
     "output_type": "display_data"
    },
    {
     "data": {
      "text/markdown": [
       "<span style=\"color:#33cc33\">Correct:</span> \n",
       "\n",
       "This condition would be pretty complicated to express using just `and`, `or` and `not`, but using boolean-to-integer conversion gives us this short solution:\n",
       "```python\n",
       "return (int(ketchup) + int(mustard) + int(onion)) == 1\n",
       "```\n",
       "\n",
       "Fun fact: we don't technically need to call `int` on the arguments. Just by doing addition with booleans, Python implicitly does the integer conversion. So we could also write...\n",
       "\n",
       "```python\n",
       "return (ketchup + mustard + onion) == 1\n",
       "```"
      ],
      "text/plain": [
       "Correct: \n",
       "\n",
       "This condition would be pretty complicated to express using just `and`, `or` and `not`, but using boolean-to-integer conversion gives us this short solution:\n",
       "```python\n",
       "return (int(ketchup) + int(mustard) + int(onion)) == 1\n",
       "```\n",
       "\n",
       "Fun fact: we don't technically need to call `int` on the arguments. Just by doing addition with booleans, Python implicitly does the integer conversion. So we could also write...\n",
       "\n",
       "```python\n",
       "return (ketchup + mustard + onion) == 1\n",
       "```"
      ]
     },
     "metadata": {},
     "output_type": "display_data"
    }
   ],
   "source": [
    "def exactly_one_topping(ketchup, mustard, onion):\n",
    "    \"\"\"Return whether the customer wants exactly one of the three available toppings\n",
    "    on their hot dog.\n",
    "    \"\"\"\n",
    "    return (ketchup + mustard + onion) == 1\n",
    "\n",
    "# Check your answer\n",
    "q6.check()"
   ]
  },
  {
   "cell_type": "code",
   "execution_count": 20,
   "id": "47a1232b",
   "metadata": {
    "execution": {
     "iopub.execute_input": "2021-08-06T17:18:29.519319Z",
     "iopub.status.busy": "2021-08-06T17:18:29.518205Z",
     "iopub.status.idle": "2021-08-06T17:18:29.520476Z",
     "shell.execute_reply": "2021-08-06T17:18:29.521006Z",
     "shell.execute_reply.started": "2021-08-06T08:02:05.529559Z"
    },
    "papermill": {
     "duration": 0.045994,
     "end_time": "2021-08-06T17:18:29.521181",
     "exception": false,
     "start_time": "2021-08-06T17:18:29.475187",
     "status": "completed"
    },
    "tags": []
   },
   "outputs": [],
   "source": [
    "#q6.hint()\n",
    "#q6.solution()"
   ]
  },
  {
   "cell_type": "markdown",
   "id": "0596d76a",
   "metadata": {
    "papermill": {
     "duration": 0.038664,
     "end_time": "2021-08-06T17:18:29.598906",
     "exception": false,
     "start_time": "2021-08-06T17:18:29.560242",
     "status": "completed"
    },
    "tags": []
   },
   "source": [
    "# 7. <span title=\"A bit spicy\" style=\"color: darkgreen \">🌶️</span> (Optional)\n",
    "\n",
    "In this problem we'll be working with a simplified version of [blackjack](https://en.wikipedia.org/wiki/Blackjack) (aka twenty-one). In this version there is one player (who you'll control) and a dealer. Play proceeds as follows:\n",
    "\n",
    "- The player is dealt two face-up cards. The dealer is dealt one face-up card.\n",
    "- The player may ask to be dealt another card ('hit') as many times as they wish. If the sum of their cards exceeds 21, they lose the round immediately.\n",
    "- The dealer then deals additional cards to himself until either:\n",
    "    - the sum of the dealer's cards exceeds 21, in which case the player wins the round\n",
    "    - the sum of the dealer's cards is greater than or equal to 17. If the player's total is greater than the dealer's, the player wins. Otherwise, the dealer wins (even in case of a tie).\n",
    "    \n",
    "When calculating the sum of cards, Jack, Queen, and King count for 10. Aces can count as 1 or 11 (when referring to a player's \"total\" above, we mean the largest total that can be made without exceeding 21. So e.g. A+8 = 19, A+8+8 = 17)\n",
    "\n",
    "For this problem, you'll write a function representing the player's decision-making strategy in this game. We've provided a very unintelligent implementation below:"
   ]
  },
  {
   "cell_type": "code",
   "execution_count": 21,
   "id": "77120339",
   "metadata": {
    "execution": {
     "iopub.execute_input": "2021-08-06T17:18:29.682609Z",
     "iopub.status.busy": "2021-08-06T17:18:29.681525Z",
     "iopub.status.idle": "2021-08-06T17:18:29.686817Z",
     "shell.execute_reply": "2021-08-06T17:18:29.687294Z"
    },
    "papermill": {
     "duration": 0.049064,
     "end_time": "2021-08-06T17:18:29.687472",
     "exception": false,
     "start_time": "2021-08-06T17:18:29.638408",
     "status": "completed"
    },
    "tags": []
   },
   "outputs": [],
   "source": [
    "def should_hit(dealer_total, player_total, player_low_aces, player_high_aces):\n",
    "    \"\"\"Return True if the player should hit (request another card) given the current game\n",
    "    state, or False if the player should stay.\n",
    "    When calculating a hand's total value, we count aces as \"high\" (with value 11) if doing so\n",
    "    doesn't bring the total above 21, otherwise we count them as low (with value 1). \n",
    "    For example, if the player's hand is {A, A, A, 7}, we will count it as 11 + 1 + 1 + 7,\n",
    "    and therefore set player_total=20, player_low_aces=2, player_high_aces=1.\n",
    "    \"\"\"\n",
    "    return False"
   ]
  },
  {
   "cell_type": "markdown",
   "id": "d3165796",
   "metadata": {
    "papermill": {
     "duration": 0.039133,
     "end_time": "2021-08-06T17:18:29.766032",
     "exception": false,
     "start_time": "2021-08-06T17:18:29.726899",
     "status": "completed"
    },
    "tags": []
   },
   "source": [
    "This very conservative agent *always* sticks with the hand of two cards that they're dealt.\n",
    "\n",
    "We'll be simulating games between your player agent and our own dealer agent by calling your function.\n",
    "\n",
    "Try running the function below to see an example of a simulated game:"
   ]
  },
  {
   "cell_type": "code",
   "execution_count": 22,
   "id": "a8553432",
   "metadata": {
    "execution": {
     "iopub.execute_input": "2021-08-06T17:18:29.850175Z",
     "iopub.status.busy": "2021-08-06T17:18:29.849479Z",
     "iopub.status.idle": "2021-08-06T17:18:29.855869Z",
     "shell.execute_reply": "2021-08-06T17:18:29.855331Z",
     "shell.execute_reply.started": "2021-08-06T17:16:12.835656Z"
    },
    "papermill": {
     "duration": 0.05045,
     "end_time": "2021-08-06T17:18:29.856014",
     "exception": false,
     "start_time": "2021-08-06T17:18:29.805564",
     "status": "completed"
    },
    "tags": []
   },
   "outputs": [
    {
     "name": "stdout",
     "output_type": "stream",
     "text": [
      "Player starts with J and A (total = 21)\n",
      "Dealer starts with 3\n",
      "\n",
      "__Player's turn__\n",
      "Player stays\n",
      "\n",
      "__Dealer's turn__\n",
      "Dealer hits and receives 3. (total = 6)\n",
      "Dealer hits and receives 2. (total = 8)\n",
      "Dealer hits and receives 8. (total = 16)\n",
      "Dealer hits and receives 5. (total = 21)\n",
      "Dealer stands.\n",
      "Dealer wins. 21 >= 21\n"
     ]
    }
   ],
   "source": [
    "q7.simulate_one_game()"
   ]
  },
  {
   "cell_type": "markdown",
   "id": "a35d80b6",
   "metadata": {
    "papermill": {
     "duration": 0.039287,
     "end_time": "2021-08-06T17:18:29.934987",
     "exception": false,
     "start_time": "2021-08-06T17:18:29.895700",
     "status": "completed"
    },
    "tags": []
   },
   "source": [
    "The real test of your agent's mettle is their average win rate over many games. Try calling the function below to simulate 50000 games of blackjack (it may take a couple seconds):"
   ]
  },
  {
   "cell_type": "code",
   "execution_count": 23,
   "id": "3a2125ab",
   "metadata": {
    "execution": {
     "iopub.execute_input": "2021-08-06T17:18:30.044335Z",
     "iopub.status.busy": "2021-08-06T17:18:30.028734Z",
     "iopub.status.idle": "2021-08-06T17:18:32.046492Z",
     "shell.execute_reply": "2021-08-06T17:18:32.045942Z"
    },
    "papermill": {
     "duration": 2.07128,
     "end_time": "2021-08-06T17:18:32.046669",
     "exception": false,
     "start_time": "2021-08-06T17:18:29.975389",
     "status": "completed"
    },
    "tags": []
   },
   "outputs": [
    {
     "name": "stdout",
     "output_type": "stream",
     "text": [
      "Player won 18980 out of 50000 games (win rate = 38.0%)\n"
     ]
    }
   ],
   "source": [
    "q7.simulate(n_games=50000)"
   ]
  },
  {
   "cell_type": "markdown",
   "id": "a5e440f3",
   "metadata": {
    "papermill": {
     "duration": 0.04082,
     "end_time": "2021-08-06T17:18:32.129636",
     "exception": false,
     "start_time": "2021-08-06T17:18:32.088816",
     "status": "completed"
    },
    "tags": []
   },
   "source": [
    "Our dumb agent that completely ignores the game state still manages to win shockingly often!\n",
    "\n",
    "Try adding some more smarts to the `should_hit` function and see how it affects the results."
   ]
  },
  {
   "cell_type": "code",
   "execution_count": 24,
   "id": "f6de4bbe",
   "metadata": {
    "execution": {
     "iopub.execute_input": "2021-08-06T17:18:32.229832Z",
     "iopub.status.busy": "2021-08-06T17:18:32.219437Z",
     "iopub.status.idle": "2021-08-06T17:18:34.225358Z",
     "shell.execute_reply": "2021-08-06T17:18:34.224391Z"
    },
    "papermill": {
     "duration": 2.055954,
     "end_time": "2021-08-06T17:18:34.225612",
     "exception": false,
     "start_time": "2021-08-06T17:18:32.169658",
     "status": "completed"
    },
    "tags": []
   },
   "outputs": [
    {
     "name": "stdout",
     "output_type": "stream",
     "text": [
      "Player won 19151 out of 50000 games (win rate = 38.3%)\n"
     ]
    }
   ],
   "source": [
    "def should_hit(dealer_total, player_total, player_low_aces, player_high_aces):\n",
    "    \"\"\"Return True if the player should hit (request another card) given the current game\n",
    "    state, or False if the player should stay.\n",
    "    When calculating a hand's total value, we count aces as \"high\" (with value 11) if doing so\n",
    "    doesn't bring the total above 21, otherwise we count them as low (with value 1). \n",
    "    For example, if the player's hand is {A, A, A, 7}, we will count it as 11 + 1 + 1 + 7,\n",
    "    and therefore set player_total=20, player_low_aces=2, player_high_aces=1.\n",
    "    \"\"\"\n",
    "    return False\n",
    "\n",
    "q7.simulate(n_games=50000)"
   ]
  },
  {
   "cell_type": "markdown",
   "id": "f4508671",
   "metadata": {
    "papermill": {
     "duration": 0.040889,
     "end_time": "2021-08-06T17:18:34.307800",
     "exception": false,
     "start_time": "2021-08-06T17:18:34.266911",
     "status": "completed"
    },
    "tags": []
   },
   "source": [
    "# Keep Going\n",
    "\n",
    "Learn about **[lists and tuples](https://www.kaggle.com/colinmorris/lists)** to handle multiple items of data in a systematic way."
   ]
  },
  {
   "cell_type": "markdown",
   "id": "bc137d86",
   "metadata": {
    "papermill": {
     "duration": 0.040395,
     "end_time": "2021-08-06T17:18:34.389086",
     "exception": false,
     "start_time": "2021-08-06T17:18:34.348691",
     "status": "completed"
    },
    "tags": []
   },
   "source": [
    "---\n",
    "\n",
    "\n",
    "\n",
    "\n",
    "*Have questions or comments? Visit the [Learn Discussion forum](https://www.kaggle.com/learn-forum/161283) to chat with other Learners.*"
   ]
  }
 ],
 "metadata": {
  "kernelspec": {
   "display_name": "Python 3",
   "language": "python",
   "name": "python3"
  },
  "language_info": {
   "codemirror_mode": {
    "name": "ipython",
    "version": 3
   },
   "file_extension": ".py",
   "mimetype": "text/x-python",
   "name": "python",
   "nbconvert_exporter": "python",
   "pygments_lexer": "ipython3",
   "version": "3.7.10"
  },
  "papermill": {
   "default_parameters": {},
   "duration": 16.918191,
   "end_time": "2021-08-06T17:18:35.140216",
   "environment_variables": {},
   "exception": null,
   "input_path": "__notebook__.ipynb",
   "output_path": "__notebook__.ipynb",
   "parameters": {},
   "start_time": "2021-08-06T17:18:18.222025",
   "version": "2.3.3"
  }
 },
 "nbformat": 4,
 "nbformat_minor": 5
}
