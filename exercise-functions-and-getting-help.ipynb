{
 "cells": [
  {
   "cell_type": "markdown",
   "id": "617f7ddc",
   "metadata": {
    "papermill": {
     "duration": 0.015198,
     "end_time": "2021-08-05T16:44:14.000931",
     "exception": false,
     "start_time": "2021-08-05T16:44:13.985733",
     "status": "completed"
    },
    "tags": []
   },
   "source": [
    "**This notebook is an exercise in the [Python](https://www.kaggle.com/learn/python) course.  You can reference the tutorial at [this link](https://www.kaggle.com/colinmorris/functions-and-getting-help).**\n",
    "\n",
    "---\n"
   ]
  },
  {
   "cell_type": "markdown",
   "id": "6b40e2fe",
   "metadata": {
    "papermill": {
     "duration": 0.013567,
     "end_time": "2021-08-05T16:44:14.029383",
     "exception": false,
     "start_time": "2021-08-05T16:44:14.015816",
     "status": "completed"
    },
    "tags": []
   },
   "source": [
    "Functions are powerful. Try writing some yourself.\n",
    "\n",
    "As before, don't forget to run the setup code below before jumping into question 1."
   ]
  },
  {
   "cell_type": "code",
   "execution_count": 1,
   "id": "3be4f3cd",
   "metadata": {
    "_kg_hide-input": true,
    "_kg_hide-output": true,
    "execution": {
     "iopub.execute_input": "2021-08-05T16:44:14.061879Z",
     "iopub.status.busy": "2021-08-05T16:44:14.060709Z",
     "iopub.status.idle": "2021-08-05T16:44:14.205579Z",
     "shell.execute_reply": "2021-08-05T16:44:14.206168Z",
     "shell.execute_reply.started": "2021-08-05T16:28:40.573367Z"
    },
    "papermill": {
     "duration": 0.162618,
     "end_time": "2021-08-05T16:44:14.206447",
     "exception": false,
     "start_time": "2021-08-05T16:44:14.043829",
     "status": "completed"
    },
    "tags": []
   },
   "outputs": [
    {
     "name": "stdout",
     "output_type": "stream",
     "text": [
      "Setup complete.\n"
     ]
    }
   ],
   "source": [
    "# SETUP. You don't need to worry for now about what this code does or how it works.\n",
    "from learntools.core import binder; binder.bind(globals())\n",
    "from learntools.python.ex2 import *\n",
    "print('Setup complete.')"
   ]
  },
  {
   "cell_type": "markdown",
   "id": "1210c657",
   "metadata": {
    "papermill": {
     "duration": 0.014042,
     "end_time": "2021-08-05T16:44:14.236539",
     "exception": false,
     "start_time": "2021-08-05T16:44:14.222497",
     "status": "completed"
    },
    "tags": []
   },
   "source": [
    "# 1.\n",
    "\n",
    "Complete the body of the following function according to its docstring.\n",
    "\n",
    "HINT: Python has a built-in function `round`."
   ]
  },
  {
   "cell_type": "code",
   "execution_count": 2,
   "id": "9326acb5",
   "metadata": {
    "execution": {
     "iopub.execute_input": "2021-08-05T16:44:14.274405Z",
     "iopub.status.busy": "2021-08-05T16:44:14.273612Z",
     "iopub.status.idle": "2021-08-05T16:44:14.280053Z",
     "shell.execute_reply": "2021-08-05T16:44:14.279522Z",
     "shell.execute_reply.started": "2021-08-05T16:33:38.505365Z"
    },
    "papermill": {
     "duration": 0.029288,
     "end_time": "2021-08-05T16:44:14.280223",
     "exception": false,
     "start_time": "2021-08-05T16:44:14.250935",
     "status": "completed"
    },
    "tags": []
   },
   "outputs": [
    {
     "data": {
      "application/javascript": [
       "parent.postMessage({\"jupyterEvent\": \"custom.exercise_interaction\", \"data\": {\"outcomeType\": 1, \"valueTowardsCompletion\": 0.16666666666666666, \"interactionType\": 1, \"questionType\": 2, \"questionId\": \"1_RoundFunctionProblem\", \"learnToolsVersion\": \"0.3.4\", \"failureMessage\": \"\", \"exceptionClass\": \"\", \"trace\": \"\"}}, \"*\")"
      ],
      "text/plain": [
       "<IPython.core.display.Javascript object>"
      ]
     },
     "metadata": {},
     "output_type": "display_data"
    },
    {
     "data": {
      "text/markdown": [
       "<span style=\"color:#33cc33\">Correct</span>"
      ],
      "text/plain": [
       "Correct"
      ]
     },
     "metadata": {},
     "output_type": "display_data"
    }
   ],
   "source": [
    "def round_to_two_places(num):\n",
    "    \"\"\"Return the given number rounded to two decimal places. \n",
    "    \n",
    "    >>> round_to_two_places(3.14159)\n",
    "    3.14\n",
    "    \"\"\"\n",
    "    # Replace this body with your own code.\n",
    "    # (\"pass\" is a keyword that does literally nothing. We used it as a placeholder\n",
    "    # because after we begin a code block, Python requires at least one line of code)\n",
    "    return round(num,2)\n",
    "\n",
    "# Check your answer\n",
    "q1.check()"
   ]
  },
  {
   "cell_type": "code",
   "execution_count": 3,
   "id": "bbc0fb13",
   "metadata": {
    "execution": {
     "iopub.execute_input": "2021-08-05T16:44:14.318883Z",
     "iopub.status.busy": "2021-08-05T16:44:14.318180Z",
     "iopub.status.idle": "2021-08-05T16:44:14.321040Z",
     "shell.execute_reply": "2021-08-05T16:44:14.321634Z",
     "shell.execute_reply.started": "2021-08-05T16:33:59.588543Z"
    },
    "papermill": {
     "duration": 0.024719,
     "end_time": "2021-08-05T16:44:14.321822",
     "exception": false,
     "start_time": "2021-08-05T16:44:14.297103",
     "status": "completed"
    },
    "tags": []
   },
   "outputs": [],
   "source": [
    "# Uncomment the following for a hint\n",
    "#q1.hint()\n",
    "# Or uncomment the following to peek at the solution\n",
    "#q1.solution()"
   ]
  },
  {
   "cell_type": "markdown",
   "id": "d73a2021",
   "metadata": {
    "papermill": {
     "duration": 0.018552,
     "end_time": "2021-08-05T16:44:14.356597",
     "exception": false,
     "start_time": "2021-08-05T16:44:14.338045",
     "status": "completed"
    },
    "tags": []
   },
   "source": [
    "# 2.\n",
    "The help for `round` says that `ndigits` (the second argument) may be negative.\n",
    "What do you think will happen when it is? Try some examples in the following cell."
   ]
  },
  {
   "cell_type": "code",
   "execution_count": 4,
   "id": "37750983",
   "metadata": {
    "execution": {
     "iopub.execute_input": "2021-08-05T16:44:14.399214Z",
     "iopub.status.busy": "2021-08-05T16:44:14.398098Z",
     "iopub.status.idle": "2021-08-05T16:44:14.403343Z",
     "shell.execute_reply": "2021-08-05T16:44:14.402313Z",
     "shell.execute_reply.started": "2021-08-05T16:36:41.020791Z"
    },
    "papermill": {
     "duration": 0.030475,
     "end_time": "2021-08-05T16:44:14.403562",
     "exception": false,
     "start_time": "2021-08-05T16:44:14.373087",
     "status": "completed"
    },
    "tags": []
   },
   "outputs": [
    {
     "name": "stdout",
     "output_type": "stream",
     "text": [
      "6000.0\n"
     ]
    }
   ],
   "source": [
    "num = 5674.6958132\n",
    "print(round(num, -3))"
   ]
  },
  {
   "cell_type": "markdown",
   "id": "1fc7f26b",
   "metadata": {
    "papermill": {
     "duration": 0.02235,
     "end_time": "2021-08-05T16:44:14.444264",
     "exception": false,
     "start_time": "2021-08-05T16:44:14.421914",
     "status": "completed"
    },
    "tags": []
   },
   "source": [
    "Can you think of a case where this would be useful?  Once you're ready, run the code cell below to see the answer and to receive credit for completing the problem."
   ]
  },
  {
   "cell_type": "code",
   "execution_count": 5,
   "id": "9d880574",
   "metadata": {
    "execution": {
     "iopub.execute_input": "2021-08-05T16:44:14.490139Z",
     "iopub.status.busy": "2021-08-05T16:44:14.489427Z",
     "iopub.status.idle": "2021-08-05T16:44:14.498473Z",
     "shell.execute_reply": "2021-08-05T16:44:14.497826Z",
     "shell.execute_reply.started": "2021-08-05T16:36:00.520795Z"
    },
    "papermill": {
     "duration": 0.034468,
     "end_time": "2021-08-05T16:44:14.498624",
     "exception": false,
     "start_time": "2021-08-05T16:44:14.464156",
     "status": "completed"
    },
    "tags": []
   },
   "outputs": [
    {
     "data": {
      "application/javascript": [
       "parent.postMessage({\"jupyterEvent\": \"custom.exercise_interaction\", \"data\": {\"interactionType\": 3, \"questionType\": 4, \"questionId\": \"2_RoundNdigitsProblem\", \"learnToolsVersion\": \"0.3.4\", \"valueTowardsCompletion\": 0.0, \"failureMessage\": \"\", \"exceptionClass\": \"\", \"trace\": \"\", \"outcomeType\": 4}}, \"*\")"
      ],
      "text/plain": [
       "<IPython.core.display.Javascript object>"
      ]
     },
     "metadata": {},
     "output_type": "display_data"
    },
    {
     "data": {
      "text/markdown": [
       "<span style=\"color:#33cc99\">Solution:</span> As you've seen, `ndigits=-1` rounds to the nearest 10, `ndigits=-2` rounds to the nearest 100 and so on. Where might this be useful? Suppose we're dealing with large numbers:\n",
       "\n",
       "> The area of Finland is 338,424 km²  \n",
       "> The area of Greenland is 2,166,086 km²\n",
       "\n",
       "We probably don't care whether it's really 338,424, or 338,425, or 338,177. All those digits of accuracy are just distracting. We can chop them off by calling `round()` with `ndigits=-3`:\n",
       "\n",
       "> The area of Finland is 338,000 km²  \n",
       "> The area of Greenland is 2,166,000 km²\n",
       "\n",
       "(We'll talk about how we would get the commas later when we talk about string formatting :))\n"
      ],
      "text/plain": [
       "Solution: As you've seen, `ndigits=-1` rounds to the nearest 10, `ndigits=-2` rounds to the nearest 100 and so on. Where might this be useful? Suppose we're dealing with large numbers:\n",
       "\n",
       "> The area of Finland is 338,424 km²  \n",
       "> The area of Greenland is 2,166,086 km²\n",
       "\n",
       "We probably don't care whether it's really 338,424, or 338,425, or 338,177. All those digits of accuracy are just distracting. We can chop them off by calling `round()` with `ndigits=-3`:\n",
       "\n",
       "> The area of Finland is 338,000 km²  \n",
       "> The area of Greenland is 2,166,000 km²\n",
       "\n",
       "(We'll talk about how we would get the commas later when we talk about string formatting :))"
      ]
     },
     "metadata": {},
     "output_type": "display_data"
    }
   ],
   "source": [
    "# Check your answer (Run this code cell to receive credit!)\n",
    "q2.solution()"
   ]
  },
  {
   "cell_type": "markdown",
   "id": "a5cdc3a2",
   "metadata": {
    "papermill": {
     "duration": 0.016583,
     "end_time": "2021-08-05T16:44:14.532018",
     "exception": false,
     "start_time": "2021-08-05T16:44:14.515435",
     "status": "completed"
    },
    "tags": []
   },
   "source": [
    "# 3.\n",
    "\n",
    "In the previous exercise, the candy-sharing friends Alice, Bob and Carol tried to split candies evenly. For the sake of their friendship, any candies left over would be smashed. For example, if they collectively bring home 91 candies, they'll take 30 each and smash 1.\n",
    "\n",
    "Below is a simple function that will calculate the number of candies to smash for *any* number of total candies.\n",
    "\n",
    "Modify it so that it optionally takes a second argument representing the number of friends the candies are being split between. If no second argument is provided, it should assume 3 friends, as before.\n",
    "\n",
    "Update the docstring to reflect this new behaviour."
   ]
  },
  {
   "cell_type": "code",
   "execution_count": 6,
   "id": "ddc63666",
   "metadata": {
    "execution": {
     "iopub.execute_input": "2021-08-05T16:44:14.570714Z",
     "iopub.status.busy": "2021-08-05T16:44:14.570044Z",
     "iopub.status.idle": "2021-08-05T16:44:14.579090Z",
     "shell.execute_reply": "2021-08-05T16:44:14.578456Z",
     "shell.execute_reply.started": "2021-08-05T16:39:20.970149Z"
    },
    "papermill": {
     "duration": 0.028619,
     "end_time": "2021-08-05T16:44:14.579237",
     "exception": false,
     "start_time": "2021-08-05T16:44:14.550618",
     "status": "completed"
    },
    "tags": []
   },
   "outputs": [
    {
     "data": {
      "application/javascript": [
       "parent.postMessage({\"jupyterEvent\": \"custom.exercise_interaction\", \"data\": {\"outcomeType\": 1, \"valueTowardsCompletion\": 0.16666666666666666, \"interactionType\": 1, \"questionType\": 2, \"questionId\": \"3_CandySmashingFunctionProblem\", \"learnToolsVersion\": \"0.3.4\", \"failureMessage\": \"\", \"exceptionClass\": \"\", \"trace\": \"\"}}, \"*\")"
      ],
      "text/plain": [
       "<IPython.core.display.Javascript object>"
      ]
     },
     "metadata": {},
     "output_type": "display_data"
    },
    {
     "data": {
      "text/markdown": [
       "<span style=\"color:#33cc33\">Correct</span>"
      ],
      "text/plain": [
       "Correct"
      ]
     },
     "metadata": {},
     "output_type": "display_data"
    }
   ],
   "source": [
    "def to_smash(total_candies, n=3):\n",
    "    \"\"\"Return the number of leftover candies that must be smashed after distributing\n",
    "    the given number of candies evenly between 3 friends.\n",
    "    \n",
    "    >>> to_smash(91)\n",
    "    1\n",
    "    \"\"\"\n",
    "    return total_candies % n\n",
    "\n",
    "# Check your answer\n",
    "q3.check()"
   ]
  },
  {
   "cell_type": "code",
   "execution_count": 7,
   "id": "e87b0649",
   "metadata": {
    "execution": {
     "iopub.execute_input": "2021-08-05T16:44:14.620969Z",
     "iopub.status.busy": "2021-08-05T16:44:14.619919Z",
     "iopub.status.idle": "2021-08-05T16:44:14.622700Z",
     "shell.execute_reply": "2021-08-05T16:44:14.623322Z"
    },
    "papermill": {
     "duration": 0.026445,
     "end_time": "2021-08-05T16:44:14.623497",
     "exception": false,
     "start_time": "2021-08-05T16:44:14.597052",
     "status": "completed"
    },
    "tags": []
   },
   "outputs": [],
   "source": [
    "#q3.hint()"
   ]
  },
  {
   "cell_type": "code",
   "execution_count": 8,
   "id": "979e9350",
   "metadata": {
    "execution": {
     "iopub.execute_input": "2021-08-05T16:44:14.664532Z",
     "iopub.status.busy": "2021-08-05T16:44:14.663504Z",
     "iopub.status.idle": "2021-08-05T16:44:14.666325Z",
     "shell.execute_reply": "2021-08-05T16:44:14.666805Z"
    },
    "papermill": {
     "duration": 0.025652,
     "end_time": "2021-08-05T16:44:14.666982",
     "exception": false,
     "start_time": "2021-08-05T16:44:14.641330",
     "status": "completed"
    },
    "tags": []
   },
   "outputs": [],
   "source": [
    "#q3.solution()"
   ]
  },
  {
   "cell_type": "markdown",
   "id": "338cb867",
   "metadata": {
    "papermill": {
     "duration": 0.017613,
     "end_time": "2021-08-05T16:44:14.703357",
     "exception": false,
     "start_time": "2021-08-05T16:44:14.685744",
     "status": "completed"
    },
    "tags": []
   },
   "source": [
    "# 4. (Optional)\n",
    "\n",
    "It may not be fun, but reading and understanding error messages will be an important part of your Python career.\n",
    "\n",
    "Each code cell below contains some commented buggy code. For each cell...\n",
    "\n",
    "1. Read the code and predict what you think will happen when it's run.\n",
    "2. Then uncomment the code and run it to see what happens. (**Tip**: In the kernel editor, you can highlight several lines and press `ctrl`+`/` to toggle commenting.)\n",
    "3. Fix the code (so that it accomplishes its intended purpose without throwing an exception)\n",
    "\n",
    "<!-- TODO: should this be autochecked? Delta is probably pretty small. -->"
   ]
  },
  {
   "cell_type": "code",
   "execution_count": 9,
   "id": "252dfbf4",
   "metadata": {
    "execution": {
     "iopub.execute_input": "2021-08-05T16:44:14.744672Z",
     "iopub.status.busy": "2021-08-05T16:44:14.743717Z",
     "iopub.status.idle": "2021-08-05T16:44:14.748685Z",
     "shell.execute_reply": "2021-08-05T16:44:14.747933Z",
     "shell.execute_reply.started": "2021-08-05T16:39:50.137291Z"
    },
    "papermill": {
     "duration": 0.027623,
     "end_time": "2021-08-05T16:44:14.748838",
     "exception": false,
     "start_time": "2021-08-05T16:44:14.721215",
     "status": "completed"
    },
    "tags": []
   },
   "outputs": [
    {
     "data": {
      "text/plain": [
       "10.0"
      ]
     },
     "execution_count": 9,
     "metadata": {},
     "output_type": "execute_result"
    }
   ],
   "source": [
    "round_to_two_places(9.9999)"
   ]
  },
  {
   "cell_type": "code",
   "execution_count": 10,
   "id": "9b4402e7",
   "metadata": {
    "execution": {
     "iopub.execute_input": "2021-08-05T16:44:14.791440Z",
     "iopub.status.busy": "2021-08-05T16:44:14.790760Z",
     "iopub.status.idle": "2021-08-05T16:44:14.795322Z",
     "shell.execute_reply": "2021-08-05T16:44:14.794755Z",
     "shell.execute_reply.started": "2021-08-05T16:43:31.739732Z"
    },
    "papermill": {
     "duration": 0.028311,
     "end_time": "2021-08-05T16:44:14.795462",
     "exception": false,
     "start_time": "2021-08-05T16:44:14.767151",
     "status": "completed"
    },
    "tags": []
   },
   "outputs": [
    {
     "data": {
      "text/plain": [
       "5"
      ]
     },
     "execution_count": 10,
     "metadata": {},
     "output_type": "execute_result"
    }
   ],
   "source": [
    "x = -10\n",
    "y = 5\n",
    "# Which of the two variables above has the smallest absolute value?\n",
    "smallest_abs = min(abs(x),abs(y))\n",
    "smallest_abs"
   ]
  },
  {
   "cell_type": "code",
   "execution_count": 11,
   "id": "5173a8c6",
   "metadata": {
    "execution": {
     "iopub.execute_input": "2021-08-05T16:44:14.837667Z",
     "iopub.status.busy": "2021-08-05T16:44:14.836920Z",
     "iopub.status.idle": "2021-08-05T16:44:14.839496Z",
     "shell.execute_reply": "2021-08-05T16:44:14.838918Z"
    },
    "papermill": {
     "duration": 0.02523,
     "end_time": "2021-08-05T16:44:14.839638",
     "exception": false,
     "start_time": "2021-08-05T16:44:14.814408",
     "status": "completed"
    },
    "tags": []
   },
   "outputs": [],
   "source": [
    "# def f(x):\n",
    "#     y = abs(x)\n",
    "# return y\n",
    "\n",
    "# print(f(5))"
   ]
  },
  {
   "cell_type": "markdown",
   "id": "565fc847",
   "metadata": {
    "papermill": {
     "duration": 0.018596,
     "end_time": "2021-08-05T16:44:14.877418",
     "exception": false,
     "start_time": "2021-08-05T16:44:14.858822",
     "status": "completed"
    },
    "tags": []
   },
   "source": [
    "# Keep Going\n",
    "\n",
    "Nice job with the code. Next up, you'll learn about *conditionals*, which you'll need to **[write interesting programs](https://www.kaggle.com/colinmorris/booleans-and-conditionals)**. "
   ]
  },
  {
   "cell_type": "markdown",
   "id": "b53790dc",
   "metadata": {
    "papermill": {
     "duration": 0.018854,
     "end_time": "2021-08-05T16:44:14.915174",
     "exception": false,
     "start_time": "2021-08-05T16:44:14.896320",
     "status": "completed"
    },
    "tags": []
   },
   "source": [
    "---\n",
    "\n",
    "\n",
    "\n",
    "\n",
    "*Have questions or comments? Visit the [Learn Discussion forum](https://www.kaggle.com/learn-forum/161283) to chat with other Learners.*"
   ]
  }
 ],
 "metadata": {
  "kernelspec": {
   "display_name": "Python 3",
   "language": "python",
   "name": "python3"
  },
  "language_info": {
   "codemirror_mode": {
    "name": "ipython",
    "version": 3
   },
   "file_extension": ".py",
   "mimetype": "text/x-python",
   "name": "python",
   "nbconvert_exporter": "python",
   "pygments_lexer": "ipython3",
   "version": "3.7.10"
  },
  "papermill": {
   "default_parameters": {},
   "duration": 10.919693,
   "end_time": "2021-08-05T16:44:16.176738",
   "environment_variables": {},
   "exception": null,
   "input_path": "__notebook__.ipynb",
   "output_path": "__notebook__.ipynb",
   "parameters": {},
   "start_time": "2021-08-05T16:44:05.257045",
   "version": "2.3.3"
  }
 },
 "nbformat": 4,
 "nbformat_minor": 5
}
