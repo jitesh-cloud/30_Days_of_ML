{
 "cells": [
  {
   "cell_type": "markdown",
   "id": "58d9ebec",
   "metadata": {
    "papermill": {
     "duration": 0.016182,
     "end_time": "2021-08-07T18:05:45.293534",
     "exception": false,
     "start_time": "2021-08-07T18:05:45.277352",
     "status": "completed"
    },
    "tags": []
   },
   "source": [
    "**This notebook is an exercise in the [Python](https://www.kaggle.com/learn/python) course.  You can reference the tutorial at [this link](https://www.kaggle.com/colinmorris/lists).**\n",
    "\n",
    "---\n"
   ]
  },
  {
   "cell_type": "markdown",
   "id": "ef6fd91f",
   "metadata": {
    "papermill": {
     "duration": 0.014046,
     "end_time": "2021-08-07T18:05:45.322517",
     "exception": false,
     "start_time": "2021-08-07T18:05:45.308471",
     "status": "completed"
    },
    "tags": []
   },
   "source": [
    "Things get more interesting with lists. You'll apply your new knowledge to solve the questions below. Remember to run the following cell first."
   ]
  },
  {
   "cell_type": "code",
   "execution_count": 1,
   "id": "d9294d95",
   "metadata": {
    "execution": {
     "iopub.execute_input": "2021-08-07T18:05:45.360364Z",
     "iopub.status.busy": "2021-08-07T18:05:45.359698Z",
     "iopub.status.idle": "2021-08-07T18:05:45.496997Z",
     "shell.execute_reply": "2021-08-07T18:05:45.496302Z",
     "shell.execute_reply.started": "2021-08-07T17:16:17.890937Z"
    },
    "papermill": {
     "duration": 0.160238,
     "end_time": "2021-08-07T18:05:45.497156",
     "exception": false,
     "start_time": "2021-08-07T18:05:45.336918",
     "status": "completed"
    },
    "tags": []
   },
   "outputs": [
    {
     "name": "stdout",
     "output_type": "stream",
     "text": [
      "Setup complete.\n"
     ]
    }
   ],
   "source": [
    "from learntools.core import binder; binder.bind(globals())\n",
    "from learntools.python.ex4 import *\n",
    "print('Setup complete.')"
   ]
  },
  {
   "cell_type": "markdown",
   "id": "d1c67f6f",
   "metadata": {
    "papermill": {
     "duration": 0.014938,
     "end_time": "2021-08-07T18:05:45.527280",
     "exception": false,
     "start_time": "2021-08-07T18:05:45.512342",
     "status": "completed"
    },
    "tags": []
   },
   "source": [
    "# 1.\n",
    "\n",
    "Complete the function below according to its docstring."
   ]
  },
  {
   "cell_type": "code",
   "execution_count": 2,
   "id": "6670f4cb",
   "metadata": {
    "execution": {
     "iopub.execute_input": "2021-08-07T18:05:45.565524Z",
     "iopub.status.busy": "2021-08-07T18:05:45.562328Z",
     "iopub.status.idle": "2021-08-07T18:05:45.572205Z",
     "shell.execute_reply": "2021-08-07T18:05:45.571536Z",
     "shell.execute_reply.started": "2021-08-07T17:19:58.589364Z"
    },
    "papermill": {
     "duration": 0.029932,
     "end_time": "2021-08-07T18:05:45.572348",
     "exception": false,
     "start_time": "2021-08-07T18:05:45.542416",
     "status": "completed"
    },
    "tags": []
   },
   "outputs": [
    {
     "data": {
      "application/javascript": [
       "parent.postMessage({\"jupyterEvent\": \"custom.exercise_interaction\", \"data\": {\"outcomeType\": 1, \"valueTowardsCompletion\": 0.2, \"interactionType\": 1, \"questionType\": 2, \"questionId\": \"1_SelectSecondItem\", \"learnToolsVersion\": \"0.3.4\", \"failureMessage\": \"\", \"exceptionClass\": \"\", \"trace\": \"\"}}, \"*\")"
      ],
      "text/plain": [
       "<IPython.core.display.Javascript object>"
      ]
     },
     "metadata": {},
     "output_type": "display_data"
    },
    {
     "data": {
      "text/markdown": [
       "<span style=\"color:#33cc33\">Correct</span>"
      ],
      "text/plain": [
       "Correct"
      ]
     },
     "metadata": {},
     "output_type": "display_data"
    }
   ],
   "source": [
    "def select_second(L):\n",
    "    \"\"\"Return the second element of the given list. If the list has no second\n",
    "    element, return None.\n",
    "    \"\"\"\n",
    "    if len(L)<2:\n",
    "        return None\n",
    "    return L[1]\n",
    "    \n",
    "\n",
    "# Check your answer\n",
    "q1.check()"
   ]
  },
  {
   "cell_type": "code",
   "execution_count": 3,
   "id": "7859d0ba",
   "metadata": {
    "execution": {
     "iopub.execute_input": "2021-08-07T18:05:45.608681Z",
     "iopub.status.busy": "2021-08-07T18:05:45.607950Z",
     "iopub.status.idle": "2021-08-07T18:05:45.611307Z",
     "shell.execute_reply": "2021-08-07T18:05:45.610628Z",
     "shell.execute_reply.started": "2021-08-07T17:20:07.767127Z"
    },
    "papermill": {
     "duration": 0.023147,
     "end_time": "2021-08-07T18:05:45.611462",
     "exception": false,
     "start_time": "2021-08-07T18:05:45.588315",
     "status": "completed"
    },
    "tags": []
   },
   "outputs": [],
   "source": [
    "#q1.hint()\n",
    "#q1.solution()"
   ]
  },
  {
   "cell_type": "markdown",
   "id": "448a8c2f",
   "metadata": {
    "papermill": {
     "duration": 0.015599,
     "end_time": "2021-08-07T18:05:45.643447",
     "exception": false,
     "start_time": "2021-08-07T18:05:45.627848",
     "status": "completed"
    },
    "tags": []
   },
   "source": [
    "# 2.\n",
    "\n",
    "You are analyzing sports teams.  Members of each team are stored in a list. The Coach is the first name in the list, the captain is the second name in the list, and other players are listed after that. \n",
    "These lists are stored in another list, which starts with the best team and proceeds through the list to the worst team last.  Complete the function below to select the **captain** of the worst team."
   ]
  },
  {
   "cell_type": "code",
   "execution_count": 4,
   "id": "cc0562ae",
   "metadata": {
    "execution": {
     "iopub.execute_input": "2021-08-07T18:05:45.682760Z",
     "iopub.status.busy": "2021-08-07T18:05:45.681890Z",
     "iopub.status.idle": "2021-08-07T18:05:45.687869Z",
     "shell.execute_reply": "2021-08-07T18:05:45.687205Z",
     "shell.execute_reply.started": "2021-08-07T17:21:30.665180Z"
    },
    "papermill": {
     "duration": 0.028535,
     "end_time": "2021-08-07T18:05:45.688016",
     "exception": false,
     "start_time": "2021-08-07T18:05:45.659481",
     "status": "completed"
    },
    "tags": []
   },
   "outputs": [
    {
     "data": {
      "application/javascript": [
       "parent.postMessage({\"jupyterEvent\": \"custom.exercise_interaction\", \"data\": {\"outcomeType\": 1, \"valueTowardsCompletion\": 0.2, \"interactionType\": 1, \"questionType\": 2, \"questionId\": \"2_LosingTeamCaptain\", \"learnToolsVersion\": \"0.3.4\", \"failureMessage\": \"\", \"exceptionClass\": \"\", \"trace\": \"\"}}, \"*\")"
      ],
      "text/plain": [
       "<IPython.core.display.Javascript object>"
      ]
     },
     "metadata": {},
     "output_type": "display_data"
    },
    {
     "data": {
      "text/markdown": [
       "<span style=\"color:#33cc33\">Correct</span>"
      ],
      "text/plain": [
       "Correct"
      ]
     },
     "metadata": {},
     "output_type": "display_data"
    }
   ],
   "source": [
    "def losing_team_captain(teams):\n",
    "    \"\"\"Given a list of teams, where each team is a list of names, return the 2nd player (captain)\n",
    "    from the last listed team\n",
    "    \"\"\"\n",
    "    return teams[-1][1]\n",
    "\n",
    "# Check your answer\n",
    "q2.check()"
   ]
  },
  {
   "cell_type": "code",
   "execution_count": 5,
   "id": "7c289b40",
   "metadata": {
    "collapsed": true,
    "execution": {
     "iopub.execute_input": "2021-08-07T18:05:45.726738Z",
     "iopub.status.busy": "2021-08-07T18:05:45.726057Z",
     "iopub.status.idle": "2021-08-07T18:05:45.729146Z",
     "shell.execute_reply": "2021-08-07T18:05:45.728595Z"
    },
    "jupyter": {
     "outputs_hidden": true
    },
    "papermill": {
     "duration": 0.02419,
     "end_time": "2021-08-07T18:05:45.729284",
     "exception": false,
     "start_time": "2021-08-07T18:05:45.705094",
     "status": "completed"
    },
    "tags": []
   },
   "outputs": [],
   "source": [
    "#q2.hint()\n",
    "#q2.solution()"
   ]
  },
  {
   "cell_type": "code",
   "execution_count": null,
   "id": "e0c7986a",
   "metadata": {
    "papermill": {
     "duration": 0.016995,
     "end_time": "2021-08-07T18:05:45.763579",
     "exception": false,
     "start_time": "2021-08-07T18:05:45.746584",
     "status": "completed"
    },
    "tags": []
   },
   "outputs": [],
   "source": []
  },
  {
   "cell_type": "markdown",
   "id": "8d219753",
   "metadata": {
    "papermill": {
     "duration": 0.016821,
     "end_time": "2021-08-07T18:05:45.797481",
     "exception": false,
     "start_time": "2021-08-07T18:05:45.780660",
     "status": "completed"
    },
    "tags": []
   },
   "source": [
    "# 3.\n",
    "\n",
    "The next iteration of Mario Kart will feature an extra-infuriating new item, the *Purple Shell*. When used, it warps the last place racer into first place and the first place racer into last place. Complete the function below to implement the Purple Shell's effect."
   ]
  },
  {
   "cell_type": "code",
   "execution_count": 6,
   "id": "85852b3c",
   "metadata": {
    "execution": {
     "iopub.execute_input": "2021-08-07T18:05:45.837555Z",
     "iopub.status.busy": "2021-08-07T18:05:45.836914Z",
     "iopub.status.idle": "2021-08-07T18:05:45.843438Z",
     "shell.execute_reply": "2021-08-07T18:05:45.842913Z",
     "shell.execute_reply.started": "2021-08-07T17:33:03.723389Z"
    },
    "papermill": {
     "duration": 0.028954,
     "end_time": "2021-08-07T18:05:45.843579",
     "exception": false,
     "start_time": "2021-08-07T18:05:45.814625",
     "status": "completed"
    },
    "tags": []
   },
   "outputs": [
    {
     "data": {
      "application/javascript": [
       "parent.postMessage({\"jupyterEvent\": \"custom.exercise_interaction\", \"data\": {\"outcomeType\": 1, \"valueTowardsCompletion\": 0.2, \"interactionType\": 1, \"questionType\": 2, \"questionId\": \"3_PurpleShell\", \"learnToolsVersion\": \"0.3.4\", \"failureMessage\": \"\", \"exceptionClass\": \"\", \"trace\": \"\"}}, \"*\")"
      ],
      "text/plain": [
       "<IPython.core.display.Javascript object>"
      ]
     },
     "metadata": {},
     "output_type": "display_data"
    },
    {
     "data": {
      "text/markdown": [
       "<span style=\"color:#33cc33\">Correct</span>"
      ],
      "text/plain": [
       "Correct"
      ]
     },
     "metadata": {},
     "output_type": "display_data"
    }
   ],
   "source": [
    "def purple_shell(racers):\n",
    "    \"\"\"Given a list of racers, set the first place racer (at the front of the list) to last\n",
    "    place and vice versa.\n",
    "    \n",
    "    >>> r = [\"Mario\", \"Bowser\", \"Luigi\"]\n",
    "    >>> purple_shell(r)\n",
    "    >>> r\n",
    "    [\"Luigi\", \"Bowser\", \"Mario\"]\n",
    "    \"\"\"\n",
    "    racers[-1], racers[0] = racers[0], racers[-1]\n",
    "\n",
    "# Check your answer\n",
    "q3.check()"
   ]
  },
  {
   "cell_type": "code",
   "execution_count": 7,
   "id": "a1639da8",
   "metadata": {
    "collapsed": true,
    "execution": {
     "iopub.execute_input": "2021-08-07T18:05:45.885199Z",
     "iopub.status.busy": "2021-08-07T18:05:45.884531Z",
     "iopub.status.idle": "2021-08-07T18:05:45.887758Z",
     "shell.execute_reply": "2021-08-07T18:05:45.887235Z"
    },
    "jupyter": {
     "outputs_hidden": true
    },
    "papermill": {
     "duration": 0.02546,
     "end_time": "2021-08-07T18:05:45.887902",
     "exception": false,
     "start_time": "2021-08-07T18:05:45.862442",
     "status": "completed"
    },
    "tags": []
   },
   "outputs": [],
   "source": [
    "#q3.hint()\n",
    "#q3.solution()"
   ]
  },
  {
   "cell_type": "markdown",
   "id": "07eebc69",
   "metadata": {
    "papermill": {
     "duration": 0.01933,
     "end_time": "2021-08-07T18:05:45.926229",
     "exception": false,
     "start_time": "2021-08-07T18:05:45.906899",
     "status": "completed"
    },
    "tags": []
   },
   "source": [
    "# 4.\n",
    "\n",
    "What are the lengths of the following lists? Fill in the variable `lengths` with your predictions. (Try to make a prediction for each list *without* just calling `len()` on it.)"
   ]
  },
  {
   "cell_type": "code",
   "execution_count": 8,
   "id": "f3d01cb6",
   "metadata": {
    "execution": {
     "iopub.execute_input": "2021-08-07T18:05:45.985852Z",
     "iopub.status.busy": "2021-08-07T18:05:45.984752Z",
     "iopub.status.idle": "2021-08-07T18:05:45.992432Z",
     "shell.execute_reply": "2021-08-07T18:05:45.993316Z",
     "shell.execute_reply.started": "2021-08-07T17:51:35.918672Z"
    },
    "papermill": {
     "duration": 0.041353,
     "end_time": "2021-08-07T18:05:45.993562",
     "exception": false,
     "start_time": "2021-08-07T18:05:45.952209",
     "status": "completed"
    },
    "tags": []
   },
   "outputs": [
    {
     "data": {
      "application/javascript": [
       "parent.postMessage({\"jupyterEvent\": \"custom.exercise_interaction\", \"data\": {\"outcomeType\": 1, \"valueTowardsCompletion\": 0.2, \"interactionType\": 1, \"questionType\": 1, \"questionId\": \"4_UnderstandLen\", \"learnToolsVersion\": \"0.3.4\", \"failureMessage\": \"\", \"exceptionClass\": \"\", \"trace\": \"\"}}, \"*\")"
      ],
      "text/plain": [
       "<IPython.core.display.Javascript object>"
      ]
     },
     "metadata": {},
     "output_type": "display_data"
    },
    {
     "data": {
      "text/markdown": [
       "<span style=\"color:#33cc33\">Correct:</span> \n",
       "\n",
       "\n",
       "- a: There are three items in this list. Nothing tricky yet.\n",
       "- b: The list `[2, 3]` counts as a single item. It has one item before it. So we have 2 items in the list\n",
       "- c: The empty list has 0 items\n",
       "- d: The expression is the same as the list `[2, 3]`, which has length 2."
      ],
      "text/plain": [
       "Correct: \n",
       "\n",
       "\n",
       "- a: There are three items in this list. Nothing tricky yet.\n",
       "- b: The list `[2, 3]` counts as a single item. It has one item before it. So we have 2 items in the list\n",
       "- c: The empty list has 0 items\n",
       "- d: The expression is the same as the list `[2, 3]`, which has length 2."
      ]
     },
     "metadata": {},
     "output_type": "display_data"
    }
   ],
   "source": [
    "a = [1, 2, 3]\n",
    "b = [1, [2, 3]]\n",
    "c = []\n",
    "d = [1, 2, 3][1:]\n",
    "\n",
    "# Put your predictions in the list below. Lengths should contain 4 numbers, the\n",
    "# first being the length of a, the second being the length of b and so on.\n",
    "lengths = [3,2,0,2]\n",
    "\n",
    "# Check your answer\n",
    "q4.check()"
   ]
  },
  {
   "cell_type": "code",
   "execution_count": 9,
   "id": "bdf58240",
   "metadata": {
    "collapsed": true,
    "execution": {
     "iopub.execute_input": "2021-08-07T18:05:46.046891Z",
     "iopub.status.busy": "2021-08-07T18:05:46.045931Z",
     "iopub.status.idle": "2021-08-07T18:05:46.050625Z",
     "shell.execute_reply": "2021-08-07T18:05:46.050115Z"
    },
    "jupyter": {
     "outputs_hidden": true
    },
    "papermill": {
     "duration": 0.031105,
     "end_time": "2021-08-07T18:05:46.050785",
     "exception": false,
     "start_time": "2021-08-07T18:05:46.019680",
     "status": "completed"
    },
    "tags": []
   },
   "outputs": [],
   "source": [
    "# line below provides some explanation\n",
    "#q4.solution()"
   ]
  },
  {
   "cell_type": "markdown",
   "id": "1f0d6fa4",
   "metadata": {
    "papermill": {
     "duration": 0.018916,
     "end_time": "2021-08-07T18:05:46.089297",
     "exception": false,
     "start_time": "2021-08-07T18:05:46.070381",
     "status": "completed"
    },
    "tags": []
   },
   "source": [
    "# 5. <span title=\"A bit spicy\" style=\"color: darkgreen \">🌶️</span>\n",
    "\n",
    "We're using lists to record people who attended our party and what order they arrived in. For example, the following list represents a party with 7 guests, in which Adela showed up first and Ford was the last to arrive:\n",
    "\n",
    "    party_attendees = ['Adela', 'Fleda', 'Owen', 'May', 'Mona', 'Gilbert', 'Ford']\n",
    "\n",
    "A guest is considered 'fashionably late' if they arrived after at least half of the party's guests. However, they must not be the very last guest (that's taking it too far). In the above example, Mona and Gilbert are the only guests who were fashionably late.\n",
    "\n",
    "Complete the function below which takes a list of party attendees as well as a person, and tells us whether that person is fashionably late."
   ]
  },
  {
   "cell_type": "code",
   "execution_count": 10,
   "id": "8b2c83e5",
   "metadata": {
    "execution": {
     "iopub.execute_input": "2021-08-07T18:05:46.137322Z",
     "iopub.status.busy": "2021-08-07T18:05:46.136491Z",
     "iopub.status.idle": "2021-08-07T18:05:46.142848Z",
     "shell.execute_reply": "2021-08-07T18:05:46.142261Z",
     "shell.execute_reply.started": "2021-08-07T18:05:06.188604Z"
    },
    "papermill": {
     "duration": 0.033726,
     "end_time": "2021-08-07T18:05:46.143007",
     "exception": false,
     "start_time": "2021-08-07T18:05:46.109281",
     "status": "completed"
    },
    "tags": []
   },
   "outputs": [
    {
     "data": {
      "application/javascript": [
       "parent.postMessage({\"jupyterEvent\": \"custom.exercise_interaction\", \"data\": {\"outcomeType\": 1, \"valueTowardsCompletion\": 0.2, \"interactionType\": 1, \"questionType\": 2, \"questionId\": \"5_FashionablyLate\", \"learnToolsVersion\": \"0.3.4\", \"failureMessage\": \"\", \"exceptionClass\": \"\", \"trace\": \"\"}}, \"*\")"
      ],
      "text/plain": [
       "<IPython.core.display.Javascript object>"
      ]
     },
     "metadata": {},
     "output_type": "display_data"
    },
    {
     "data": {
      "text/markdown": [
       "<span style=\"color:#33cc33\">Correct</span>"
      ],
      "text/plain": [
       "Correct"
      ]
     },
     "metadata": {},
     "output_type": "display_data"
    }
   ],
   "source": [
    "def fashionably_late(arrivals, name):\n",
    "    \"\"\"Given an ordered list of arrivals to the party and a name, return whether the guest with that\n",
    "    name was fashionably late.\n",
    "    \"\"\"\n",
    "    late = len(arrivals)/2\n",
    "    late = round(late)\n",
    "    fl = arrivals[late:-1]\n",
    "    if name in fl:\n",
    "        return True\n",
    "    else:\n",
    "        return False\n",
    "\n",
    "# Check your answer\n",
    "q5.check()"
   ]
  },
  {
   "cell_type": "code",
   "execution_count": 11,
   "id": "05c96eb6",
   "metadata": {
    "collapsed": true,
    "execution": {
     "iopub.execute_input": "2021-08-07T18:05:46.187933Z",
     "iopub.status.busy": "2021-08-07T18:05:46.187246Z",
     "iopub.status.idle": "2021-08-07T18:05:46.190325Z",
     "shell.execute_reply": "2021-08-07T18:05:46.190845Z"
    },
    "jupyter": {
     "outputs_hidden": true
    },
    "papermill": {
     "duration": 0.026757,
     "end_time": "2021-08-07T18:05:46.191022",
     "exception": false,
     "start_time": "2021-08-07T18:05:46.164265",
     "status": "completed"
    },
    "tags": []
   },
   "outputs": [],
   "source": [
    "#q5.hint()\n",
    "#q5.solution()"
   ]
  },
  {
   "cell_type": "markdown",
   "id": "b1b47f71",
   "metadata": {
    "papermill": {
     "duration": 0.019863,
     "end_time": "2021-08-07T18:05:46.231466",
     "exception": false,
     "start_time": "2021-08-07T18:05:46.211603",
     "status": "completed"
    },
    "tags": []
   },
   "source": [
    "# Keep Going\n",
    "\n",
    "That's it for lists and tuples! Now you have the baseline knowledge to **[learn about loops](https://www.kaggle.com/colinmorris/loops-and-list-comprehensions)**, which is where lists and tuples get really interesting. "
   ]
  },
  {
   "cell_type": "markdown",
   "id": "cdd60add",
   "metadata": {
    "papermill": {
     "duration": 0.021528,
     "end_time": "2021-08-07T18:05:46.273320",
     "exception": false,
     "start_time": "2021-08-07T18:05:46.251792",
     "status": "completed"
    },
    "tags": []
   },
   "source": [
    "---\n",
    "\n",
    "\n",
    "\n",
    "\n",
    "*Have questions or comments? Visit the [Learn Discussion forum](https://www.kaggle.com/learn-forum/161283) to chat with other Learners.*"
   ]
  }
 ],
 "metadata": {
  "kernelspec": {
   "display_name": "Python 3",
   "language": "python",
   "name": "python3"
  },
  "language_info": {
   "codemirror_mode": {
    "name": "ipython",
    "version": 3
   },
   "file_extension": ".py",
   "mimetype": "text/x-python",
   "name": "python",
   "nbconvert_exporter": "python",
   "pygments_lexer": "ipython3",
   "version": "3.7.10"
  },
  "papermill": {
   "default_parameters": {},
   "duration": 9.735191,
   "end_time": "2021-08-07T18:05:46.903350",
   "environment_variables": {},
   "exception": null,
   "input_path": "__notebook__.ipynb",
   "output_path": "__notebook__.ipynb",
   "parameters": {},
   "start_time": "2021-08-07T18:05:37.168159",
   "version": "2.3.3"
  }
 },
 "nbformat": 4,
 "nbformat_minor": 5
}
