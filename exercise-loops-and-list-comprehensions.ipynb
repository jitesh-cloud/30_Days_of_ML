{
 "cells": [
  {
   "cell_type": "markdown",
   "id": "e202fe8e",
   "metadata": {
    "papermill": {
     "duration": 0.01675,
     "end_time": "2021-08-07T18:32:52.747159",
     "exception": false,
     "start_time": "2021-08-07T18:32:52.730409",
     "status": "completed"
    },
    "tags": []
   },
   "source": [
    "**This notebook is an exercise in the [Python](https://www.kaggle.com/learn/python) course.  You can reference the tutorial at [this link](https://www.kaggle.com/colinmorris/loops-and-list-comprehensions).**\n",
    "\n",
    "---\n"
   ]
  },
  {
   "cell_type": "markdown",
   "id": "2a1a0b11",
   "metadata": {
    "papermill": {
     "duration": 0.015465,
     "end_time": "2021-08-07T18:32:52.779626",
     "exception": false,
     "start_time": "2021-08-07T18:32:52.764161",
     "status": "completed"
    },
    "tags": []
   },
   "source": [
    "With all you've learned, you can start writing much more interesting programs. See if you can solve the problems below.\n",
    "\n",
    "As always, run the setup code below before working on the questions."
   ]
  },
  {
   "cell_type": "code",
   "execution_count": 1,
   "id": "7c9cd7c7",
   "metadata": {
    "execution": {
     "iopub.execute_input": "2021-08-07T18:32:52.818652Z",
     "iopub.status.busy": "2021-08-07T18:32:52.816806Z",
     "iopub.status.idle": "2021-08-07T18:32:52.968821Z",
     "shell.execute_reply": "2021-08-07T18:32:52.969384Z",
     "shell.execute_reply.started": "2021-08-07T18:08:42.473719Z"
    },
    "papermill": {
     "duration": 0.174157,
     "end_time": "2021-08-07T18:32:52.969684",
     "exception": false,
     "start_time": "2021-08-07T18:32:52.795527",
     "status": "completed"
    },
    "tags": []
   },
   "outputs": [
    {
     "name": "stdout",
     "output_type": "stream",
     "text": [
      "Setup complete.\n"
     ]
    }
   ],
   "source": [
    "from learntools.core import binder; binder.bind(globals())\n",
    "from learntools.python.ex5 import *\n",
    "print('Setup complete.')"
   ]
  },
  {
   "cell_type": "markdown",
   "id": "eda72b7e",
   "metadata": {
    "papermill": {
     "duration": 0.015784,
     "end_time": "2021-08-07T18:32:53.001893",
     "exception": false,
     "start_time": "2021-08-07T18:32:52.986109",
     "status": "completed"
    },
    "tags": []
   },
   "source": [
    "# 1.\n",
    "\n",
    "Have you ever felt debugging involved a bit of luck? The following program has a bug. Try to identify the bug and fix it."
   ]
  },
  {
   "cell_type": "code",
   "execution_count": 2,
   "id": "d3e7bcf1",
   "metadata": {
    "execution": {
     "iopub.execute_input": "2021-08-07T18:32:53.037869Z",
     "iopub.status.busy": "2021-08-07T18:32:53.036883Z",
     "iopub.status.idle": "2021-08-07T18:32:53.042107Z",
     "shell.execute_reply": "2021-08-07T18:32:53.042669Z",
     "shell.execute_reply.started": "2021-08-07T18:09:18.476865Z"
    },
    "papermill": {
     "duration": 0.024827,
     "end_time": "2021-08-07T18:32:53.042848",
     "exception": false,
     "start_time": "2021-08-07T18:32:53.018021",
     "status": "completed"
    },
    "tags": []
   },
   "outputs": [],
   "source": [
    "def has_lucky_number(nums):\n",
    "    \"\"\"Return whether the given list of numbers is lucky. A lucky list contains\n",
    "    at least one number divisible by 7.\n",
    "    \"\"\"\n",
    "    for num in nums:\n",
    "        if num % 7 == 0:\n",
    "            return True\n",
    "        else:\n",
    "            return False"
   ]
  },
  {
   "cell_type": "markdown",
   "id": "f23acc52",
   "metadata": {
    "papermill": {
     "duration": 0.016184,
     "end_time": "2021-08-07T18:32:53.075130",
     "exception": false,
     "start_time": "2021-08-07T18:32:53.058946",
     "status": "completed"
    },
    "tags": []
   },
   "source": [
    "Try to identify the bug and fix it in the cell below:"
   ]
  },
  {
   "cell_type": "code",
   "execution_count": 3,
   "id": "9ad06bbb",
   "metadata": {
    "execution": {
     "iopub.execute_input": "2021-08-07T18:32:53.111527Z",
     "iopub.status.busy": "2021-08-07T18:32:53.110550Z",
     "iopub.status.idle": "2021-08-07T18:32:53.123107Z",
     "shell.execute_reply": "2021-08-07T18:32:53.122537Z",
     "shell.execute_reply.started": "2021-08-07T18:10:22.215059Z"
    },
    "papermill": {
     "duration": 0.03187,
     "end_time": "2021-08-07T18:32:53.123273",
     "exception": false,
     "start_time": "2021-08-07T18:32:53.091403",
     "status": "completed"
    },
    "tags": []
   },
   "outputs": [
    {
     "data": {
      "application/javascript": [
       "parent.postMessage({\"jupyterEvent\": \"custom.exercise_interaction\", \"data\": {\"outcomeType\": 1, \"valueTowardsCompletion\": 0.25, \"interactionType\": 1, \"questionType\": 2, \"questionId\": \"1_EarlyExitDebugging\", \"learnToolsVersion\": \"0.3.4\", \"failureMessage\": \"\", \"exceptionClass\": \"\", \"trace\": \"\"}}, \"*\")"
      ],
      "text/plain": [
       "<IPython.core.display.Javascript object>"
      ]
     },
     "metadata": {},
     "output_type": "display_data"
    },
    {
     "data": {
      "text/markdown": [
       "<span style=\"color:#33cc33\">Correct:</span> \n",
       "\n",
       "Remember that `return` causes a function to exit immediately. So our original implementation always ran for just one iteration. We can only return `False` if we've looked at every element of the list (and confirmed that none of them are lucky). Though we can return early if the answer is `True`:\n",
       "\n",
       "```python\n",
       "def has_lucky_number(nums):\n",
       "    for num in nums:\n",
       "        if num % 7 == 0:\n",
       "            return True\n",
       "    # We've exhausted the list without finding a lucky number\n",
       "    return False\n",
       "```\n",
       "\n",
       "Here's a one-line version using a list comprehension with Python's `any` function (you can read about what it does by calling `help(any)`):\n",
       "\n",
       "```python\n",
       "def has_lucky_number(nums):\n",
       "    return any([num % 7 == 0 for num in nums])\n",
       "```\n"
      ],
      "text/plain": [
       "Correct: \n",
       "\n",
       "Remember that `return` causes a function to exit immediately. So our original implementation always ran for just one iteration. We can only return `False` if we've looked at every element of the list (and confirmed that none of them are lucky). Though we can return early if the answer is `True`:\n",
       "\n",
       "```python\n",
       "def has_lucky_number(nums):\n",
       "    for num in nums:\n",
       "        if num % 7 == 0:\n",
       "            return True\n",
       "    # We've exhausted the list without finding a lucky number\n",
       "    return False\n",
       "```\n",
       "\n",
       "Here's a one-line version using a list comprehension with Python's `any` function (you can read about what it does by calling `help(any)`):\n",
       "\n",
       "```python\n",
       "def has_lucky_number(nums):\n",
       "    return any([num % 7 == 0 for num in nums])\n",
       "```"
      ]
     },
     "metadata": {},
     "output_type": "display_data"
    }
   ],
   "source": [
    "def has_lucky_number(nums):\n",
    "    \"\"\"Return whether the given list of numbers is lucky. A lucky list contains\n",
    "    at least one number divisible by 7.\n",
    "    \"\"\"\n",
    "    for num in nums:\n",
    "        if num % 7 == 0:\n",
    "            return True\n",
    "    return False\n",
    "\n",
    "# Check your answer\n",
    "q1.check()"
   ]
  },
  {
   "cell_type": "code",
   "execution_count": 4,
   "id": "b69c59fa",
   "metadata": {
    "execution": {
     "iopub.execute_input": "2021-08-07T18:32:53.163749Z",
     "iopub.status.busy": "2021-08-07T18:32:53.163098Z",
     "iopub.status.idle": "2021-08-07T18:32:53.165649Z",
     "shell.execute_reply": "2021-08-07T18:32:53.166125Z",
     "shell.execute_reply.started": "2021-08-07T18:13:29.442467Z"
    },
    "papermill": {
     "duration": 0.025722,
     "end_time": "2021-08-07T18:32:53.166323",
     "exception": false,
     "start_time": "2021-08-07T18:32:53.140601",
     "status": "completed"
    },
    "tags": []
   },
   "outputs": [
    {
     "name": "stdout",
     "output_type": "stream",
     "text": [
      "True\n"
     ]
    }
   ],
   "source": [
    "#q1.hint()\n",
    "#q1.solution()\n",
    "def has_lucky_number(nums):\n",
    "    return any([num % 7 == 0 for num in nums])\n",
    "print(has_lucky_number([5,4,6,21,6]))"
   ]
  },
  {
   "cell_type": "markdown",
   "id": "ec11b661",
   "metadata": {
    "papermill": {
     "duration": 0.017186,
     "end_time": "2021-08-07T18:32:53.201132",
     "exception": false,
     "start_time": "2021-08-07T18:32:53.183946",
     "status": "completed"
    },
    "tags": []
   },
   "source": [
    "# 2.\n",
    "Look at the Python expression below. What do you think we'll get when we run it? When you've made your prediction, uncomment the code and run the cell to see if you were right."
   ]
  },
  {
   "cell_type": "code",
   "execution_count": 5,
   "id": "b69332b9",
   "metadata": {
    "execution": {
     "iopub.execute_input": "2021-08-07T18:32:53.239152Z",
     "iopub.status.busy": "2021-08-07T18:32:53.238531Z",
     "iopub.status.idle": "2021-08-07T18:32:53.241804Z",
     "shell.execute_reply": "2021-08-07T18:32:53.242301Z",
     "shell.execute_reply.started": "2021-08-07T18:14:09.078333Z"
    },
    "papermill": {
     "duration": 0.023862,
     "end_time": "2021-08-07T18:32:53.242465",
     "exception": false,
     "start_time": "2021-08-07T18:32:53.218603",
     "status": "completed"
    },
    "tags": []
   },
   "outputs": [],
   "source": [
    "#[1, 2, 3, 4] > 2"
   ]
  },
  {
   "cell_type": "markdown",
   "id": "e6025149",
   "metadata": {
    "papermill": {
     "duration": 0.017276,
     "end_time": "2021-08-07T18:32:53.277347",
     "exception": false,
     "start_time": "2021-08-07T18:32:53.260071",
     "status": "completed"
    },
    "tags": []
   },
   "source": [
    "R and Python have some libraries (like numpy and pandas) compare each element of the list to 2 (i.e. do an 'element-wise' comparison) and give us a list of booleans like `[False, False, True, True]`. \n",
    "\n",
    "Implement a function that reproduces this behaviour, returning a list of booleans corresponding to whether the corresponding element is greater than n."
   ]
  },
  {
   "cell_type": "code",
   "execution_count": 6,
   "id": "923770db",
   "metadata": {
    "execution": {
     "iopub.execute_input": "2021-08-07T18:32:53.316077Z",
     "iopub.status.busy": "2021-08-07T18:32:53.315443Z",
     "iopub.status.idle": "2021-08-07T18:32:53.335806Z",
     "shell.execute_reply": "2021-08-07T18:32:53.336547Z",
     "shell.execute_reply.started": "2021-08-07T18:22:25.091237Z"
    },
    "papermill": {
     "duration": 0.041609,
     "end_time": "2021-08-07T18:32:53.336816",
     "exception": false,
     "start_time": "2021-08-07T18:32:53.295207",
     "status": "completed"
    },
    "tags": []
   },
   "outputs": [
    {
     "data": {
      "application/javascript": [
       "parent.postMessage({\"jupyterEvent\": \"custom.exercise_interaction\", \"data\": {\"outcomeType\": 1, \"valueTowardsCompletion\": 0.25, \"interactionType\": 1, \"questionType\": 2, \"questionId\": \"2_ElementWiseComparison\", \"learnToolsVersion\": \"0.3.4\", \"failureMessage\": \"\", \"exceptionClass\": \"\", \"trace\": \"\"}}, \"*\")"
      ],
      "text/plain": [
       "<IPython.core.display.Javascript object>"
      ]
     },
     "metadata": {},
     "output_type": "display_data"
    },
    {
     "data": {
      "text/markdown": [
       "<span style=\"color:#33cc33\">Correct:</span> \n",
       "\n",
       "Here's one solution:\n",
       "```python\n",
       "def elementwise_greater_than(L, thresh):\n",
       "    res = []\n",
       "    for ele in L:\n",
       "        res.append(ele > thresh)\n",
       "    return res\n",
       "```\n",
       "\n",
       "And here's the list comprehension version:\n",
       "```python\n",
       "def elementwise_greater_than(L, thresh):\n",
       "    return [ele > thresh for ele in L]\n",
       "```\n"
      ],
      "text/plain": [
       "Correct: \n",
       "\n",
       "Here's one solution:\n",
       "```python\n",
       "def elementwise_greater_than(L, thresh):\n",
       "    res = []\n",
       "    for ele in L:\n",
       "        res.append(ele > thresh)\n",
       "    return res\n",
       "```\n",
       "\n",
       "And here's the list comprehension version:\n",
       "```python\n",
       "def elementwise_greater_than(L, thresh):\n",
       "    return [ele > thresh for ele in L]\n",
       "```"
      ]
     },
     "metadata": {},
     "output_type": "display_data"
    }
   ],
   "source": [
    "def elementwise_greater_than(L, thresh):\n",
    "    \"\"\"Return a list with the same length as L, where the value at index i is \n",
    "    True if L[i] is greater than thresh, and False otherwise.\n",
    "    \n",
    "    >>> elementwise_greater_than([1, 2, 3, 4], 2)\n",
    "    [False, False, True, True]\n",
    "    \"\"\"\n",
    "    l = []\n",
    "    for i in L:\n",
    "        l.append(i>thresh)\n",
    "    return l\n",
    "\n",
    "# Check your answer\n",
    "q2.check()"
   ]
  },
  {
   "cell_type": "code",
   "execution_count": 7,
   "id": "2bb8efc6",
   "metadata": {
    "execution": {
     "iopub.execute_input": "2021-08-07T18:32:53.389116Z",
     "iopub.status.busy": "2021-08-07T18:32:53.387991Z",
     "iopub.status.idle": "2021-08-07T18:32:53.390124Z",
     "shell.execute_reply": "2021-08-07T18:32:53.390978Z"
    },
    "papermill": {
     "duration": 0.027935,
     "end_time": "2021-08-07T18:32:53.391244",
     "exception": false,
     "start_time": "2021-08-07T18:32:53.363309",
     "status": "completed"
    },
    "tags": []
   },
   "outputs": [],
   "source": [
    "#q2.solution()"
   ]
  },
  {
   "cell_type": "markdown",
   "id": "69755c47",
   "metadata": {
    "papermill": {
     "duration": 0.019133,
     "end_time": "2021-08-07T18:32:53.434322",
     "exception": false,
     "start_time": "2021-08-07T18:32:53.415189",
     "status": "completed"
    },
    "tags": []
   },
   "source": [
    "# 3.\n",
    "\n",
    "Complete the body of the function below according to its docstring."
   ]
  },
  {
   "cell_type": "code",
   "execution_count": 8,
   "id": "9c9566c4",
   "metadata": {
    "execution": {
     "iopub.execute_input": "2021-08-07T18:32:53.476505Z",
     "iopub.status.busy": "2021-08-07T18:32:53.475817Z",
     "iopub.status.idle": "2021-08-07T18:32:53.484611Z",
     "shell.execute_reply": "2021-08-07T18:32:53.484085Z",
     "shell.execute_reply.started": "2021-08-07T18:27:41.907934Z"
    },
    "papermill": {
     "duration": 0.030899,
     "end_time": "2021-08-07T18:32:53.484756",
     "exception": false,
     "start_time": "2021-08-07T18:32:53.453857",
     "status": "completed"
    },
    "tags": []
   },
   "outputs": [
    {
     "data": {
      "application/javascript": [
       "parent.postMessage({\"jupyterEvent\": \"custom.exercise_interaction\", \"data\": {\"outcomeType\": 1, \"valueTowardsCompletion\": 0.25, \"interactionType\": 1, \"questionType\": 2, \"questionId\": \"3_BoringMenu\", \"learnToolsVersion\": \"0.3.4\", \"failureMessage\": \"\", \"exceptionClass\": \"\", \"trace\": \"\"}}, \"*\")"
      ],
      "text/plain": [
       "<IPython.core.display.Javascript object>"
      ]
     },
     "metadata": {},
     "output_type": "display_data"
    },
    {
     "data": {
      "text/markdown": [
       "<span style=\"color:#33cc33\">Correct:</span> \n",
       "\n",
       "\n",
       "\n",
       "```python\n",
       "def menu_is_boring(meals):\n",
       "    # Iterate over all indices of the list, except the last one\n",
       "    for i in range(len(meals)-1):\n",
       "        if meals[i] == meals[i+1]:\n",
       "            return True\n",
       "    return False\n",
       "```\n",
       "\n",
       "The key to our solution is the call to `range`. `range(len(meals))` would give us all the indices of `meals`. If we had used that range, the last iteration of the loop would be comparing the last element to the element after it, which is... `IndexError`! `range(len(meals)-1)` gives us all the indices except the index of the last element.\n",
       "\n",
       "But don't we need to check if `meals` is empty? Turns out that `range(0) == range(-1)` - they're both empty. So if `meals` has length 0 or 1, we just won't do any iterations of our for loop.\n"
      ],
      "text/plain": [
       "Correct: \n",
       "\n",
       "\n",
       "\n",
       "```python\n",
       "def menu_is_boring(meals):\n",
       "    # Iterate over all indices of the list, except the last one\n",
       "    for i in range(len(meals)-1):\n",
       "        if meals[i] == meals[i+1]:\n",
       "            return True\n",
       "    return False\n",
       "```\n",
       "\n",
       "The key to our solution is the call to `range`. `range(len(meals))` would give us all the indices of `meals`. If we had used that range, the last iteration of the loop would be comparing the last element to the element after it, which is... `IndexError`! `range(len(meals)-1)` gives us all the indices except the index of the last element.\n",
       "\n",
       "But don't we need to check if `meals` is empty? Turns out that `range(0) == range(-1)` - they're both empty. So if `meals` has length 0 or 1, we just won't do any iterations of our for loop."
      ]
     },
     "metadata": {},
     "output_type": "display_data"
    }
   ],
   "source": [
    "def menu_is_boring(meals):\n",
    "    \"\"\"Given a list of meals served over some period of time, return True if the\n",
    "    same meal has ever been served two days in a row, and False otherwise.\n",
    "    \"\"\"\n",
    "    for i in range(1,len(meals)):\n",
    "        if meals[i-1] == meals[i]:\n",
    "            return True\n",
    "    return False        \n",
    "\n",
    "# Check your answer\n",
    "q3.check()"
   ]
  },
  {
   "cell_type": "code",
   "execution_count": 9,
   "id": "004e5a38",
   "metadata": {
    "execution": {
     "iopub.execute_input": "2021-08-07T18:32:53.529895Z",
     "iopub.status.busy": "2021-08-07T18:32:53.529036Z",
     "iopub.status.idle": "2021-08-07T18:32:53.532075Z",
     "shell.execute_reply": "2021-08-07T18:32:53.531556Z"
    },
    "papermill": {
     "duration": 0.026918,
     "end_time": "2021-08-07T18:32:53.532225",
     "exception": false,
     "start_time": "2021-08-07T18:32:53.505307",
     "status": "completed"
    },
    "tags": []
   },
   "outputs": [],
   "source": [
    "#q3.hint()\n",
    "#q3.solution()"
   ]
  },
  {
   "cell_type": "markdown",
   "id": "2bcadfd2",
   "metadata": {
    "papermill": {
     "duration": 0.019814,
     "end_time": "2021-08-07T18:32:53.572915",
     "exception": false,
     "start_time": "2021-08-07T18:32:53.553101",
     "status": "completed"
    },
    "tags": []
   },
   "source": [
    "# 4. <span title=\"A bit spicy\" style=\"color: darkgreen \">🌶️</span>\n",
    "\n",
    "Next to the Blackjack table, the Python Challenge Casino has a slot machine. You can get a result from the slot machine by calling `play_slot_machine()`. The number it returns is your winnings in dollars. Usually it returns 0.  But sometimes you'll get lucky and get a big payday. Try running it below:"
   ]
  },
  {
   "cell_type": "code",
   "execution_count": 10,
   "id": "391dcfc9",
   "metadata": {
    "execution": {
     "iopub.execute_input": "2021-08-07T18:32:53.618581Z",
     "iopub.status.busy": "2021-08-07T18:32:53.617760Z",
     "iopub.status.idle": "2021-08-07T18:32:53.621035Z",
     "shell.execute_reply": "2021-08-07T18:32:53.621658Z",
     "shell.execute_reply.started": "2021-08-07T18:29:34.184770Z"
    },
    "papermill": {
     "duration": 0.028806,
     "end_time": "2021-08-07T18:32:53.621831",
     "exception": false,
     "start_time": "2021-08-07T18:32:53.593025",
     "status": "completed"
    },
    "tags": []
   },
   "outputs": [
    {
     "data": {
      "text/plain": [
       "0"
      ]
     },
     "execution_count": 10,
     "metadata": {},
     "output_type": "execute_result"
    }
   ],
   "source": [
    "play_slot_machine()"
   ]
  },
  {
   "cell_type": "markdown",
   "id": "421cc64d",
   "metadata": {
    "papermill": {
     "duration": 0.020493,
     "end_time": "2021-08-07T18:32:53.663299",
     "exception": false,
     "start_time": "2021-08-07T18:32:53.642806",
     "status": "completed"
    },
    "tags": []
   },
   "source": [
    "By the way, did we mention that each play costs $1? Don't worry, we'll send you the bill later.\n",
    "\n",
    "On average, how much money can you expect to gain (or lose) every time you play the machine?  The casino keeps it a secret, but you can estimate the average value of each pull using a technique called the **Monte Carlo method**. To estimate the average outcome, we simulate the scenario many times, and return the average result.\n",
    "\n",
    "Complete the following function to calculate the average value per play of the slot machine."
   ]
  },
  {
   "cell_type": "code",
   "execution_count": 11,
   "id": "9d6b8bc6",
   "metadata": {
    "execution": {
     "iopub.execute_input": "2021-08-07T18:32:53.708222Z",
     "iopub.status.busy": "2021-08-07T18:32:53.707133Z",
     "iopub.status.idle": "2021-08-07T18:32:53.715897Z",
     "shell.execute_reply": "2021-08-07T18:32:53.716379Z",
     "shell.execute_reply.started": "2021-08-07T18:32:07.772891Z"
    },
    "papermill": {
     "duration": 0.032846,
     "end_time": "2021-08-07T18:32:53.716570",
     "exception": false,
     "start_time": "2021-08-07T18:32:53.683724",
     "status": "completed"
    },
    "tags": []
   },
   "outputs": [
    {
     "data": {
      "application/javascript": [
       "parent.postMessage({\"jupyterEvent\": \"custom.exercise_interaction\", \"data\": {\"outcomeType\": 1, \"valueTowardsCompletion\": 0.25, \"interactionType\": 1, \"questionType\": 4, \"questionId\": \"4_ExpectedSlotsPayout\", \"learnToolsVersion\": \"0.3.4\", \"failureMessage\": \"\", \"exceptionClass\": \"\", \"trace\": \"\"}}, \"*\")"
      ],
      "text/plain": [
       "<IPython.core.display.Javascript object>"
      ]
     },
     "metadata": {},
     "output_type": "display_data"
    },
    {
     "data": {
      "text/markdown": [
       "<span style=\"color:#33cc33\">Correct:</span> \n",
       "\n",
       "The exact expected value of one pull of the slot machine is 0.025 - i.e. a little more than 2 cents. See? Not every game in the Python Challenge Casino is rigged against the player!\n",
       "\n",
       "Because of the high variance of the outcome (there are some very rare high payout results that significantly affect the average) you might need to run your function with a very high value of `n_runs` to get a stable answer close to the true expectation.\n",
       "\n",
       "If your answer is way higher than 0.025, then maybe you forgot to account for the $1 cost per play?"
      ],
      "text/plain": [
       "Correct: \n",
       "\n",
       "The exact expected value of one pull of the slot machine is 0.025 - i.e. a little more than 2 cents. See? Not every game in the Python Challenge Casino is rigged against the player!\n",
       "\n",
       "Because of the high variance of the outcome (there are some very rare high payout results that significantly affect the average) you might need to run your function with a very high value of `n_runs` to get a stable answer close to the true expectation.\n",
       "\n",
       "If your answer is way higher than 0.025, then maybe you forgot to account for the $1 cost per play?"
      ]
     },
     "metadata": {},
     "output_type": "display_data"
    }
   ],
   "source": [
    "def estimate_average_slot_payout(n_runs):\n",
    "    \"\"\"Run the slot machine n_runs times and return the average net profit per run.\n",
    "    Example calls (note that return value is nondeterministic!):\n",
    "    >>> estimate_average_slot_payout(1)\n",
    "    -1\n",
    "    >>> estimate_average_slot_payout(1)\n",
    "    0.5\n",
    "    \"\"\"\n",
    "    count = 0 \n",
    "    for i in range(n_runs):\n",
    "        count += play_slot_machine()\n",
    "    return count/n_runs\n",
    "\n",
    "q4.check()"
   ]
  },
  {
   "cell_type": "markdown",
   "id": "dab3f2c7",
   "metadata": {
    "papermill": {
     "duration": 0.022344,
     "end_time": "2021-08-07T18:32:53.761498",
     "exception": false,
     "start_time": "2021-08-07T18:32:53.739154",
     "status": "completed"
    },
    "tags": []
   },
   "source": [
    "When you think you know the expected value per spin, run the code cell below to view the solution and get credit for answering the question."
   ]
  },
  {
   "cell_type": "code",
   "execution_count": 12,
   "id": "af3750dc",
   "metadata": {
    "execution": {
     "iopub.execute_input": "2021-08-07T18:32:53.811213Z",
     "iopub.status.busy": "2021-08-07T18:32:53.810158Z",
     "iopub.status.idle": "2021-08-07T18:32:53.817676Z",
     "shell.execute_reply": "2021-08-07T18:32:53.818126Z",
     "shell.execute_reply.started": "2021-08-07T18:32:15.760956Z"
    },
    "papermill": {
     "duration": 0.032788,
     "end_time": "2021-08-07T18:32:53.818338",
     "exception": false,
     "start_time": "2021-08-07T18:32:53.785550",
     "status": "completed"
    },
    "tags": []
   },
   "outputs": [
    {
     "data": {
      "application/javascript": [
       "parent.postMessage({\"jupyterEvent\": \"custom.exercise_interaction\", \"data\": {\"interactionType\": 3, \"questionType\": 4, \"questionId\": \"4_ExpectedSlotsPayout\", \"learnToolsVersion\": \"0.3.4\", \"valueTowardsCompletion\": 0.0, \"failureMessage\": \"\", \"exceptionClass\": \"\", \"trace\": \"\", \"outcomeType\": 4}}, \"*\")"
      ],
      "text/plain": [
       "<IPython.core.display.Javascript object>"
      ]
     },
     "metadata": {},
     "output_type": "display_data"
    },
    {
     "data": {
      "text/markdown": [
       "<span style=\"color:#33cc99\">Solution:</span> The exact expected value of one pull of the slot machine is 0.025 - i.e. a little more than 2 cents. See? Not every game in the Python Challenge Casino is rigged against the player!\n",
       "\n",
       "Because of the high variance of the outcome (there are some very rare high payout results that significantly affect the average) you might need to run your function with a very high value of `n_runs` to get a stable answer close to the true expectation.\n",
       "\n",
       "If your answer is way higher than 0.025, then maybe you forgot to account for the $1 cost per play?"
      ],
      "text/plain": [
       "Solution: The exact expected value of one pull of the slot machine is 0.025 - i.e. a little more than 2 cents. See? Not every game in the Python Challenge Casino is rigged against the player!\n",
       "\n",
       "Because of the high variance of the outcome (there are some very rare high payout results that significantly affect the average) you might need to run your function with a very high value of `n_runs` to get a stable answer close to the true expectation.\n",
       "\n",
       "If your answer is way higher than 0.025, then maybe you forgot to account for the $1 cost per play?"
      ]
     },
     "metadata": {},
     "output_type": "display_data"
    }
   ],
   "source": [
    "# Check your answer (Run this code cell to receive credit!)\n",
    "q4.solution()"
   ]
  },
  {
   "cell_type": "markdown",
   "id": "bf010e5e",
   "metadata": {
    "papermill": {
     "duration": 0.025046,
     "end_time": "2021-08-07T18:32:53.867305",
     "exception": false,
     "start_time": "2021-08-07T18:32:53.842259",
     "status": "completed"
    },
    "tags": []
   },
   "source": [
    "# Keep Going\n",
    "\n",
    "Many programmers report that dictionaries are their favorite data structure. You'll get to **[learn about them](https://www.kaggle.com/colinmorris/strings-and-dictionaries)** (as well as strings) in the next lesson."
   ]
  },
  {
   "cell_type": "markdown",
   "id": "f976c05c",
   "metadata": {
    "papermill": {
     "duration": 0.02263,
     "end_time": "2021-08-07T18:32:53.913003",
     "exception": false,
     "start_time": "2021-08-07T18:32:53.890373",
     "status": "completed"
    },
    "tags": []
   },
   "source": [
    "---\n",
    "\n",
    "\n",
    "\n",
    "\n",
    "*Have questions or comments? Visit the [Learn Discussion forum](https://www.kaggle.com/learn-forum/161283) to chat with other Learners.*"
   ]
  }
 ],
 "metadata": {
  "kernelspec": {
   "display_name": "Python 3",
   "language": "python",
   "name": "python3"
  },
  "language_info": {
   "codemirror_mode": {
    "name": "ipython",
    "version": 3
   },
   "file_extension": ".py",
   "mimetype": "text/x-python",
   "name": "python",
   "nbconvert_exporter": "python",
   "pygments_lexer": "ipython3",
   "version": "3.7.10"
  },
  "papermill": {
   "default_parameters": {},
   "duration": 10.75272,
   "end_time": "2021-08-07T18:32:55.330683",
   "environment_variables": {},
   "exception": null,
   "input_path": "__notebook__.ipynb",
   "output_path": "__notebook__.ipynb",
   "parameters": {},
   "start_time": "2021-08-07T18:32:44.577963",
   "version": "2.3.3"
  }
 },
 "nbformat": 4,
 "nbformat_minor": 5
}
