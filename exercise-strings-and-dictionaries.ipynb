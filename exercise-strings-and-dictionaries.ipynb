{
 "cells": [
  {
   "cell_type": "markdown",
   "id": "ef262cf3",
   "metadata": {
    "papermill": {
     "duration": 0.020731,
     "end_time": "2021-08-08T15:56:30.271390",
     "exception": false,
     "start_time": "2021-08-08T15:56:30.250659",
     "status": "completed"
    },
    "tags": []
   },
   "source": [
    "**This notebook is an exercise in the [Python](https://www.kaggle.com/learn/python) course.  You can reference the tutorial at [this link](https://www.kaggle.com/colinmorris/strings-and-dictionaries).**\n",
    "\n",
    "---\n"
   ]
  },
  {
   "cell_type": "markdown",
   "id": "6430c423",
   "metadata": {
    "papermill": {
     "duration": 0.015489,
     "end_time": "2021-08-08T15:56:30.306448",
     "exception": false,
     "start_time": "2021-08-08T15:56:30.290959",
     "status": "completed"
    },
    "tags": []
   },
   "source": [
    "You are almost done with the course. Nice job!\n",
    "\n",
    "We have a couple more interesting problems for you before you go. \n",
    "\n",
    "As always, run the setup code below before working on the questions."
   ]
  },
  {
   "cell_type": "code",
   "execution_count": 1,
   "id": "31abd1ac",
   "metadata": {
    "execution": {
     "iopub.execute_input": "2021-08-08T15:56:30.342276Z",
     "iopub.status.busy": "2021-08-08T15:56:30.341172Z",
     "iopub.status.idle": "2021-08-08T15:56:30.488350Z",
     "shell.execute_reply": "2021-08-08T15:56:30.487655Z",
     "shell.execute_reply.started": "2021-08-08T15:49:10.521465Z"
    },
    "papermill": {
     "duration": 0.166313,
     "end_time": "2021-08-08T15:56:30.488518",
     "exception": false,
     "start_time": "2021-08-08T15:56:30.322205",
     "status": "completed"
    },
    "tags": []
   },
   "outputs": [
    {
     "name": "stdout",
     "output_type": "stream",
     "text": [
      "Setup complete.\n"
     ]
    }
   ],
   "source": [
    "from learntools.core import binder; binder.bind(globals())\n",
    "from learntools.python.ex6 import *\n",
    "print('Setup complete.')"
   ]
  },
  {
   "cell_type": "markdown",
   "id": "e05ccaf5",
   "metadata": {
    "papermill": {
     "duration": 0.016098,
     "end_time": "2021-08-08T15:56:30.521441",
     "exception": false,
     "start_time": "2021-08-08T15:56:30.505343",
     "status": "completed"
    },
    "tags": []
   },
   "source": [
    "Let's start with a string lightning round to warm up. What are the lengths of the strings below?\n",
    "\n",
    "For each of the five strings below, predict what `len()` would return when passed that string. Use the variable `length` to record your answer, then run the cell to check whether you were right.  \n",
    "\n",
    "# 0a."
   ]
  },
  {
   "cell_type": "code",
   "execution_count": 2,
   "id": "d998ca71",
   "metadata": {
    "execution": {
     "iopub.execute_input": "2021-08-08T15:56:30.559353Z",
     "iopub.status.busy": "2021-08-08T15:56:30.558700Z",
     "iopub.status.idle": "2021-08-08T15:56:30.567128Z",
     "shell.execute_reply": "2021-08-08T15:56:30.567610Z",
     "shell.execute_reply.started": "2021-08-08T15:49:15.179208Z"
    },
    "papermill": {
     "duration": 0.028985,
     "end_time": "2021-08-08T15:56:30.567779",
     "exception": false,
     "start_time": "2021-08-08T15:56:30.538794",
     "status": "completed"
    },
    "tags": []
   },
   "outputs": [
    {
     "data": {
      "application/javascript": [
       "parent.postMessage({\"jupyterEvent\": \"custom.exercise_interaction\", \"data\": {\"outcomeType\": 1, \"valueTowardsCompletion\": 0.3333333333333333, \"interactionType\": 1, \"questionType\": 1, \"questionId\": \"0.1_ZA\", \"learnToolsVersion\": \"0.3.4\", \"failureMessage\": \"\", \"exceptionClass\": \"\", \"trace\": \"\"}}, \"*\")"
      ],
      "text/plain": [
       "<IPython.core.display.Javascript object>"
      ]
     },
     "metadata": {},
     "output_type": "display_data"
    },
    {
     "data": {
      "text/markdown": [
       "<span style=\"color:#33cc33\">Correct:</span> \n",
       "\n",
       "The empty string has length zero. Note that the empty string is also the only string that Python considers as False when converting to boolean."
      ],
      "text/plain": [
       "Correct: \n",
       "\n",
       "The empty string has length zero. Note that the empty string is also the only string that Python considers as False when converting to boolean."
      ]
     },
     "metadata": {},
     "output_type": "display_data"
    }
   ],
   "source": [
    "a = \"\"\n",
    "length = len(a)\n",
    "q0.a.check()"
   ]
  },
  {
   "cell_type": "markdown",
   "id": "167f0530",
   "metadata": {
    "papermill": {
     "duration": 0.017244,
     "end_time": "2021-08-08T15:56:30.602794",
     "exception": false,
     "start_time": "2021-08-08T15:56:30.585550",
     "status": "completed"
    },
    "tags": []
   },
   "source": [
    "# 0b."
   ]
  },
  {
   "cell_type": "code",
   "execution_count": 3,
   "id": "8abe4506",
   "metadata": {
    "execution": {
     "iopub.execute_input": "2021-08-08T15:56:30.641859Z",
     "iopub.status.busy": "2021-08-08T15:56:30.640888Z",
     "iopub.status.idle": "2021-08-08T15:56:30.652715Z",
     "shell.execute_reply": "2021-08-08T15:56:30.652147Z",
     "shell.execute_reply.started": "2021-08-08T15:49:18.060238Z"
    },
    "papermill": {
     "duration": 0.032437,
     "end_time": "2021-08-08T15:56:30.652864",
     "exception": false,
     "start_time": "2021-08-08T15:56:30.620427",
     "status": "completed"
    },
    "tags": []
   },
   "outputs": [
    {
     "data": {
      "application/javascript": [
       "parent.postMessage({\"jupyterEvent\": \"custom.exercise_interaction\", \"data\": {\"outcomeType\": 1, \"valueTowardsCompletion\": 0.3333333333333333, \"interactionType\": 1, \"questionType\": 1, \"questionId\": \"0.2_ZB\", \"learnToolsVersion\": \"0.3.4\", \"failureMessage\": \"\", \"exceptionClass\": \"\", \"trace\": \"\"}}, \"*\")"
      ],
      "text/plain": [
       "<IPython.core.display.Javascript object>"
      ]
     },
     "metadata": {},
     "output_type": "display_data"
    },
    {
     "data": {
      "text/markdown": [
       "<span style=\"color:#33cc33\">Correct:</span> \n",
       "\n",
       "Keep in mind Python includes spaces (and punctuation) when counting string length."
      ],
      "text/plain": [
       "Correct: \n",
       "\n",
       "Keep in mind Python includes spaces (and punctuation) when counting string length."
      ]
     },
     "metadata": {},
     "output_type": "display_data"
    }
   ],
   "source": [
    "b = \"it's ok\"\n",
    "length = len(b)\n",
    "q0.b.check()"
   ]
  },
  {
   "cell_type": "markdown",
   "id": "c3c70b05",
   "metadata": {
    "papermill": {
     "duration": 0.023575,
     "end_time": "2021-08-08T15:56:30.702675",
     "exception": false,
     "start_time": "2021-08-08T15:56:30.679100",
     "status": "completed"
    },
    "tags": []
   },
   "source": [
    "# 0c."
   ]
  },
  {
   "cell_type": "code",
   "execution_count": 4,
   "id": "bfb2390a",
   "metadata": {
    "execution": {
     "iopub.execute_input": "2021-08-08T15:56:30.756135Z",
     "iopub.status.busy": "2021-08-08T15:56:30.755442Z",
     "iopub.status.idle": "2021-08-08T15:56:30.760207Z",
     "shell.execute_reply": "2021-08-08T15:56:30.760667Z",
     "shell.execute_reply.started": "2021-08-08T15:49:22.270523Z"
    },
    "papermill": {
     "duration": 0.033677,
     "end_time": "2021-08-08T15:56:30.760840",
     "exception": false,
     "start_time": "2021-08-08T15:56:30.727163",
     "status": "completed"
    },
    "tags": []
   },
   "outputs": [
    {
     "data": {
      "application/javascript": [
       "parent.postMessage({\"jupyterEvent\": \"custom.exercise_interaction\", \"data\": {\"outcomeType\": 1, \"valueTowardsCompletion\": 0.3333333333333333, \"interactionType\": 1, \"questionType\": 1, \"questionId\": \"0.3_ZC\", \"learnToolsVersion\": \"0.3.4\", \"failureMessage\": \"\", \"exceptionClass\": \"\", \"trace\": \"\"}}, \"*\")"
      ],
      "text/plain": [
       "<IPython.core.display.Javascript object>"
      ]
     },
     "metadata": {},
     "output_type": "display_data"
    },
    {
     "data": {
      "text/markdown": [
       "<span style=\"color:#33cc33\">Correct:</span> \n",
       "\n",
       "Even though we use different syntax to create it, the string `c` is identical to `b`. In particular, note that the backslash is not part of the string, so it doesn't contribute to its length."
      ],
      "text/plain": [
       "Correct: \n",
       "\n",
       "Even though we use different syntax to create it, the string `c` is identical to `b`. In particular, note that the backslash is not part of the string, so it doesn't contribute to its length."
      ]
     },
     "metadata": {},
     "output_type": "display_data"
    }
   ],
   "source": [
    "c = 'it\\'s ok'\n",
    "length = len(c)\n",
    "q0.c.check()"
   ]
  },
  {
   "cell_type": "markdown",
   "id": "c9817f9c",
   "metadata": {
    "papermill": {
     "duration": 0.019935,
     "end_time": "2021-08-08T15:56:30.801099",
     "exception": false,
     "start_time": "2021-08-08T15:56:30.781164",
     "status": "completed"
    },
    "tags": []
   },
   "source": [
    "# 0d."
   ]
  },
  {
   "cell_type": "code",
   "execution_count": 5,
   "id": "b36497ed",
   "metadata": {
    "execution": {
     "iopub.execute_input": "2021-08-08T15:56:30.846522Z",
     "iopub.status.busy": "2021-08-08T15:56:30.845814Z",
     "iopub.status.idle": "2021-08-08T15:56:30.851274Z",
     "shell.execute_reply": "2021-08-08T15:56:30.851738Z",
     "shell.execute_reply.started": "2021-08-08T15:49:25.924473Z"
    },
    "papermill": {
     "duration": 0.030945,
     "end_time": "2021-08-08T15:56:30.851917",
     "exception": false,
     "start_time": "2021-08-08T15:56:30.820972",
     "status": "completed"
    },
    "tags": []
   },
   "outputs": [
    {
     "data": {
      "application/javascript": [
       "parent.postMessage({\"jupyterEvent\": \"custom.exercise_interaction\", \"data\": {\"outcomeType\": 1, \"valueTowardsCompletion\": 0.3333333333333333, \"interactionType\": 1, \"questionType\": 1, \"questionId\": \"0.4_ZD\", \"learnToolsVersion\": \"0.3.4\", \"failureMessage\": \"\", \"exceptionClass\": \"\", \"trace\": \"\"}}, \"*\")"
      ],
      "text/plain": [
       "<IPython.core.display.Javascript object>"
      ]
     },
     "metadata": {},
     "output_type": "display_data"
    },
    {
     "data": {
      "text/markdown": [
       "<span style=\"color:#33cc33\">Correct:</span> \n",
       "\n",
       "The fact that this string was created using triple-quote syntax doesn't make any difference in terms of its content or length. This string is exactly the same as `'hey'`."
      ],
      "text/plain": [
       "Correct: \n",
       "\n",
       "The fact that this string was created using triple-quote syntax doesn't make any difference in terms of its content or length. This string is exactly the same as `'hey'`."
      ]
     },
     "metadata": {},
     "output_type": "display_data"
    }
   ],
   "source": [
    "d = \"\"\"hey\"\"\"\n",
    "length = len(d)\n",
    "q0.d.check()"
   ]
  },
  {
   "cell_type": "markdown",
   "id": "aa5c2c48",
   "metadata": {
    "papermill": {
     "duration": 0.020431,
     "end_time": "2021-08-08T15:56:30.892823",
     "exception": false,
     "start_time": "2021-08-08T15:56:30.872392",
     "status": "completed"
    },
    "tags": []
   },
   "source": [
    "# 0e."
   ]
  },
  {
   "cell_type": "code",
   "execution_count": 6,
   "id": "45fc0ee0",
   "metadata": {
    "execution": {
     "iopub.execute_input": "2021-08-08T15:56:30.939298Z",
     "iopub.status.busy": "2021-08-08T15:56:30.938485Z",
     "iopub.status.idle": "2021-08-08T15:56:30.944714Z",
     "shell.execute_reply": "2021-08-08T15:56:30.944181Z",
     "shell.execute_reply.started": "2021-08-08T15:49:29.239466Z"
    },
    "papermill": {
     "duration": 0.031483,
     "end_time": "2021-08-08T15:56:30.944860",
     "exception": false,
     "start_time": "2021-08-08T15:56:30.913377",
     "status": "completed"
    },
    "tags": []
   },
   "outputs": [
    {
     "data": {
      "application/javascript": [
       "parent.postMessage({\"jupyterEvent\": \"custom.exercise_interaction\", \"data\": {\"outcomeType\": 1, \"valueTowardsCompletion\": 0.3333333333333333, \"interactionType\": 1, \"questionType\": 1, \"questionId\": \"0.5_ZE\", \"learnToolsVersion\": \"0.3.4\", \"failureMessage\": \"\", \"exceptionClass\": \"\", \"trace\": \"\"}}, \"*\")"
      ],
      "text/plain": [
       "<IPython.core.display.Javascript object>"
      ]
     },
     "metadata": {},
     "output_type": "display_data"
    },
    {
     "data": {
      "text/markdown": [
       "<span style=\"color:#33cc33\">Correct:</span> \n",
       "\n",
       "The newline character is just a single character! (Even though we represent it to Python using a combination of two characters.)"
      ],
      "text/plain": [
       "Correct: \n",
       "\n",
       "The newline character is just a single character! (Even though we represent it to Python using a combination of two characters.)"
      ]
     },
     "metadata": {},
     "output_type": "display_data"
    }
   ],
   "source": [
    "e = '\\n'\n",
    "length = len(e)\n",
    "q0.e.check()"
   ]
  },
  {
   "cell_type": "markdown",
   "id": "4e22d6de",
   "metadata": {
    "papermill": {
     "duration": 0.021228,
     "end_time": "2021-08-08T15:56:30.987879",
     "exception": false,
     "start_time": "2021-08-08T15:56:30.966651",
     "status": "completed"
    },
    "tags": []
   },
   "source": [
    "# 1.\n",
    "\n",
    "There is a saying that \"Data scientists spend 80% of their time cleaning data, and 20% of their time complaining about cleaning data.\" Let's see if you can write a function to help clean US zip code data. Given a string, it should return whether or not that string represents a valid zip code. For our purposes, a valid zip code is any string consisting of exactly 5 digits.\n",
    "\n",
    "HINT: `str` has a method that will be useful here. Use `help(str)` to review a list of string methods."
   ]
  },
  {
   "cell_type": "code",
   "execution_count": 7,
   "id": "74e77958",
   "metadata": {
    "execution": {
     "iopub.execute_input": "2021-08-08T15:56:31.033372Z",
     "iopub.status.busy": "2021-08-08T15:56:31.032780Z",
     "iopub.status.idle": "2021-08-08T15:56:31.041120Z",
     "shell.execute_reply": "2021-08-08T15:56:31.041580Z",
     "shell.execute_reply.started": "2021-08-08T15:49:31.806494Z"
    },
    "papermill": {
     "duration": 0.032465,
     "end_time": "2021-08-08T15:56:31.041748",
     "exception": false,
     "start_time": "2021-08-08T15:56:31.009283",
     "status": "completed"
    },
    "tags": []
   },
   "outputs": [
    {
     "data": {
      "application/javascript": [
       "parent.postMessage({\"jupyterEvent\": \"custom.exercise_interaction\", \"data\": {\"outcomeType\": 1, \"valueTowardsCompletion\": 0.3333333333333333, \"interactionType\": 1, \"questionType\": 2, \"questionId\": \"1_ZipValidator\", \"learnToolsVersion\": \"0.3.4\", \"failureMessage\": \"\", \"exceptionClass\": \"\", \"trace\": \"\"}}, \"*\")"
      ],
      "text/plain": [
       "<IPython.core.display.Javascript object>"
      ]
     },
     "metadata": {},
     "output_type": "display_data"
    },
    {
     "data": {
      "text/markdown": [
       "<span style=\"color:#33cc33\">Correct</span>"
      ],
      "text/plain": [
       "Correct"
      ]
     },
     "metadata": {},
     "output_type": "display_data"
    }
   ],
   "source": [
    "def is_valid_zip(zip_code):\n",
    "    \"\"\"Returns whether the input string is a valid (5 digit) zip code\n",
    "    \"\"\"\n",
    "    return len(zip_code) == 5 and zip_code.isdigit()\n",
    "    \n",
    "\n",
    "# Check your answer\n",
    "q1.check()"
   ]
  },
  {
   "cell_type": "code",
   "execution_count": 8,
   "id": "a942a366",
   "metadata": {
    "execution": {
     "iopub.execute_input": "2021-08-08T15:56:31.091484Z",
     "iopub.status.busy": "2021-08-08T15:56:31.090785Z",
     "iopub.status.idle": "2021-08-08T15:56:31.093792Z",
     "shell.execute_reply": "2021-08-08T15:56:31.093237Z",
     "shell.execute_reply.started": "2021-08-08T08:11:33.138265Z"
    },
    "papermill": {
     "duration": 0.029385,
     "end_time": "2021-08-08T15:56:31.093924",
     "exception": false,
     "start_time": "2021-08-08T15:56:31.064539",
     "status": "completed"
    },
    "tags": []
   },
   "outputs": [],
   "source": [
    "#q1.hint()\n",
    "#q1.solution()"
   ]
  },
  {
   "cell_type": "markdown",
   "id": "3c996192",
   "metadata": {
    "papermill": {
     "duration": 0.022083,
     "end_time": "2021-08-08T15:56:31.138630",
     "exception": false,
     "start_time": "2021-08-08T15:56:31.116547",
     "status": "completed"
    },
    "tags": []
   },
   "source": [
    "# 2.\n",
    "\n",
    "A researcher has gathered thousands of news articles. But she wants to focus her attention on articles including a specific word. Complete the function below to help her filter her list of articles.\n",
    "\n",
    "Your function should meet the following criteria:\n",
    "\n",
    "- Do not include documents where the keyword string shows up only as a part of a larger word. For example, if she were looking for the keyword “closed”, you would not include the string “enclosed.” \n",
    "- She does not want you to distinguish upper case from lower case letters. So the phrase “Closed the case.” would be included when the keyword is “closed”\n",
    "- Do not let periods or commas affect what is matched. “It is closed.” would be included when the keyword is “closed”. But you can assume there are no other types of punctuation."
   ]
  },
  {
   "cell_type": "code",
   "execution_count": 9,
   "id": "63dc8c8f",
   "metadata": {
    "execution": {
     "iopub.execute_input": "2021-08-08T15:56:31.186306Z",
     "iopub.status.busy": "2021-08-08T15:56:31.185659Z",
     "iopub.status.idle": "2021-08-08T15:56:31.194621Z",
     "shell.execute_reply": "2021-08-08T15:56:31.195153Z",
     "shell.execute_reply.started": "2021-08-08T15:49:36.848160Z"
    },
    "papermill": {
     "duration": 0.034316,
     "end_time": "2021-08-08T15:56:31.195324",
     "exception": false,
     "start_time": "2021-08-08T15:56:31.161008",
     "status": "completed"
    },
    "tags": []
   },
   "outputs": [
    {
     "data": {
      "application/javascript": [
       "parent.postMessage({\"jupyterEvent\": \"custom.exercise_interaction\", \"data\": {\"outcomeType\": 1, \"valueTowardsCompletion\": 0.3333333333333333, \"interactionType\": 1, \"questionType\": 2, \"questionId\": \"2_WordSearch\", \"learnToolsVersion\": \"0.3.4\", \"failureMessage\": \"\", \"exceptionClass\": \"\", \"trace\": \"\"}}, \"*\")"
      ],
      "text/plain": [
       "<IPython.core.display.Javascript object>"
      ]
     },
     "metadata": {},
     "output_type": "display_data"
    },
    {
     "data": {
      "text/markdown": [
       "<span style=\"color:#33cc33\">Correct</span>"
      ],
      "text/plain": [
       "Correct"
      ]
     },
     "metadata": {},
     "output_type": "display_data"
    }
   ],
   "source": [
    "def word_search(doc_list, keyword):\n",
    "    \"\"\"\n",
    "    Takes a list of documents (each document is a string) and a keyword. \n",
    "    Returns list of the index values into the original list for all documents \n",
    "    containing the keyword.\n",
    "\n",
    "    Example:\n",
    "    doc_list = [\"The Learn Python Challenge Casino.\", \"They bought a car\", \"Casinoville\"]\n",
    "    >>> word_search(doc_list, 'casino')\n",
    "    >>> [0]\n",
    "    \"\"\"\n",
    "    L = []\n",
    "    for i, doc in enumerate(doc_list):\n",
    "        tokens = doc.split()\n",
    "        normalized = [token.rstrip('.,').lower() for token in tokens]\n",
    "        if keyword.lower() in normalized:\n",
    "            L.append(i)\n",
    "    return L\n",
    "\n",
    "# Check your answer\n",
    "q2.check()"
   ]
  },
  {
   "cell_type": "code",
   "execution_count": 10,
   "id": "e81758a4",
   "metadata": {
    "execution": {
     "iopub.execute_input": "2021-08-08T15:56:31.246362Z",
     "iopub.status.busy": "2021-08-08T15:56:31.245708Z",
     "iopub.status.idle": "2021-08-08T15:56:31.248721Z",
     "shell.execute_reply": "2021-08-08T15:56:31.249276Z",
     "shell.execute_reply.started": "2021-08-08T08:27:08.064027Z"
    },
    "papermill": {
     "duration": 0.029613,
     "end_time": "2021-08-08T15:56:31.249444",
     "exception": false,
     "start_time": "2021-08-08T15:56:31.219831",
     "status": "completed"
    },
    "tags": []
   },
   "outputs": [],
   "source": [
    "#q2.hint()\n",
    "#q2.solution()"
   ]
  },
  {
   "cell_type": "markdown",
   "id": "940695aa",
   "metadata": {
    "papermill": {
     "duration": 0.023248,
     "end_time": "2021-08-08T15:56:31.296424",
     "exception": false,
     "start_time": "2021-08-08T15:56:31.273176",
     "status": "completed"
    },
    "tags": []
   },
   "source": [
    "# 3.\n",
    "\n",
    "Now the researcher wants to supply multiple keywords to search for. Complete the function below to help her.\n",
    "\n",
    "(You're encouraged to use the `word_search` function you just wrote when implementing this function. Reusing code in this way makes your programs more robust and readable - and it saves typing!)"
   ]
  },
  {
   "cell_type": "code",
   "execution_count": 11,
   "id": "09e9bf60",
   "metadata": {
    "execution": {
     "iopub.execute_input": "2021-08-08T15:56:31.347078Z",
     "iopub.status.busy": "2021-08-08T15:56:31.346372Z",
     "iopub.status.idle": "2021-08-08T15:56:31.355131Z",
     "shell.execute_reply": "2021-08-08T15:56:31.354576Z",
     "shell.execute_reply.started": "2021-08-08T15:55:26.220111Z"
    },
    "papermill": {
     "duration": 0.034997,
     "end_time": "2021-08-08T15:56:31.355270",
     "exception": false,
     "start_time": "2021-08-08T15:56:31.320273",
     "status": "completed"
    },
    "tags": []
   },
   "outputs": [
    {
     "data": {
      "application/javascript": [
       "parent.postMessage({\"jupyterEvent\": \"custom.exercise_interaction\", \"data\": {\"outcomeType\": 1, \"valueTowardsCompletion\": 0.3333333333333333, \"interactionType\": 1, \"questionType\": 2, \"questionId\": \"3_MultiWordSearch\", \"learnToolsVersion\": \"0.3.4\", \"failureMessage\": \"\", \"exceptionClass\": \"\", \"trace\": \"\"}}, \"*\")"
      ],
      "text/plain": [
       "<IPython.core.display.Javascript object>"
      ]
     },
     "metadata": {},
     "output_type": "display_data"
    },
    {
     "data": {
      "text/markdown": [
       "<span style=\"color:#33cc33\">Correct</span>"
      ],
      "text/plain": [
       "Correct"
      ]
     },
     "metadata": {},
     "output_type": "display_data"
    }
   ],
   "source": [
    "def multi_word_search(doc_list, keywords):\n",
    "    \"\"\"\n",
    "    Takes list of documents (each document is a string) and a list of keywords.  \n",
    "    Returns a dictionary where each key is a keyword, and the value is a list of indices\n",
    "    (from doc_list) of the documents containing that keyword\n",
    "\n",
    "    >>> doc_list = [\"The Learn Python Challenge Casino.\", \"They bought a car and a casino\", \"Casinoville\"]\n",
    "    >>> keywords = ['casino', 'they']\n",
    "    >>> multi_word_search(doc_list, keywords)\n",
    "    {'casino': [0, 1], 'they': [1]}\n",
    "    \"\"\"\n",
    "    keyword_to_indices = {}\n",
    "    for keyword in keywords:\n",
    "        keyword_to_indices[keyword] = word_search(doc_list, keyword)\n",
    "    return keyword_to_indices\n",
    "\n",
    "# Check your answer\n",
    "q3.check()"
   ]
  },
  {
   "cell_type": "code",
   "execution_count": 12,
   "id": "ab9e2e66",
   "metadata": {
    "execution": {
     "iopub.execute_input": "2021-08-08T15:56:31.408558Z",
     "iopub.status.busy": "2021-08-08T15:56:31.407821Z",
     "iopub.status.idle": "2021-08-08T15:56:31.410888Z",
     "shell.execute_reply": "2021-08-08T15:56:31.410338Z",
     "shell.execute_reply.started": "2021-08-08T15:55:46.280884Z"
    },
    "papermill": {
     "duration": 0.031496,
     "end_time": "2021-08-08T15:56:31.411060",
     "exception": false,
     "start_time": "2021-08-08T15:56:31.379564",
     "status": "completed"
    },
    "tags": []
   },
   "outputs": [],
   "source": [
    "#q3.solution()"
   ]
  },
  {
   "cell_type": "markdown",
   "id": "07d453b4",
   "metadata": {
    "papermill": {
     "duration": 0.024004,
     "end_time": "2021-08-08T15:56:31.459633",
     "exception": false,
     "start_time": "2021-08-08T15:56:31.435629",
     "status": "completed"
    },
    "tags": []
   },
   "source": [
    "# Keep Going\n",
    "\n",
    "You've learned a lot. But even the best programmers rely heavily on \"libraries\" of code from other programmers. You'll learn about that in **[the last lesson](https://www.kaggle.com/colinmorris/working-with-external-libraries)**.\n"
   ]
  },
  {
   "cell_type": "markdown",
   "id": "82bc8b1d",
   "metadata": {
    "papermill": {
     "duration": 0.023861,
     "end_time": "2021-08-08T15:56:31.507829",
     "exception": false,
     "start_time": "2021-08-08T15:56:31.483968",
     "status": "completed"
    },
    "tags": []
   },
   "source": [
    "---\n",
    "\n",
    "\n",
    "\n",
    "\n",
    "*Have questions or comments? Visit the [Learn Discussion forum](https://www.kaggle.com/learn-forum/161283) to chat with other Learners.*"
   ]
  }
 ],
 "metadata": {
  "kernelspec": {
   "display_name": "Python 3",
   "language": "python",
   "name": "python3"
  },
  "language_info": {
   "codemirror_mode": {
    "name": "ipython",
    "version": 3
   },
   "file_extension": ".py",
   "mimetype": "text/x-python",
   "name": "python",
   "nbconvert_exporter": "python",
   "pygments_lexer": "ipython3",
   "version": "3.7.10"
  },
  "papermill": {
   "default_parameters": {},
   "duration": 10.787864,
   "end_time": "2021-08-08T15:56:32.750736",
   "environment_variables": {},
   "exception": null,
   "input_path": "__notebook__.ipynb",
   "output_path": "__notebook__.ipynb",
   "parameters": {},
   "start_time": "2021-08-08T15:56:21.962872",
   "version": "2.3.3"
  }
 },
 "nbformat": 4,
 "nbformat_minor": 5
}
