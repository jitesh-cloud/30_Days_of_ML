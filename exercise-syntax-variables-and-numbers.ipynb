{
 "cells": [
  {
   "cell_type": "markdown",
   "id": "32f368e9",
   "metadata": {
    "papermill": {
     "duration": 0.018452,
     "end_time": "2021-08-04T16:59:01.098547",
     "exception": false,
     "start_time": "2021-08-04T16:59:01.080095",
     "status": "completed"
    },
    "tags": []
   },
   "source": [
    "**This notebook is an exercise in the [Python](https://www.kaggle.com/learn/python) course.  You can reference the tutorial at [this link](https://www.kaggle.com/colinmorris/hello-python).**\n",
    "\n",
    "---\n"
   ]
  },
  {
   "cell_type": "markdown",
   "id": "bf4a821f",
   "metadata": {
    "papermill": {
     "duration": 0.016261,
     "end_time": "2021-08-04T16:59:01.133354",
     "exception": false,
     "start_time": "2021-08-04T16:59:01.117093",
     "status": "completed"
    },
    "tags": []
   },
   "source": [
    "Welcome to your first set of Python coding problems.  If this is your first time using Kaggle Notebooks, welcome! \n",
    "\n",
    "Notebooks are composed of blocks (called \"cells\") of text and code. Each of these is editable, though you'll mainly be editing the code cells to answer some questions.\n",
    "\n",
    "To get started, try running the code cell below (by pressing the ► button, or clicking on the cell and pressing ctrl+enter on your keyboard)."
   ]
  },
  {
   "cell_type": "code",
   "execution_count": 1,
   "id": "3cc8c08a",
   "metadata": {
    "execution": {
     "iopub.execute_input": "2021-08-04T16:59:01.170169Z",
     "iopub.status.busy": "2021-08-04T16:59:01.169142Z",
     "iopub.status.idle": "2021-08-04T16:59:01.179919Z",
     "shell.execute_reply": "2021-08-04T16:59:01.179238Z",
     "shell.execute_reply.started": "2021-08-04T04:56:59.504461Z"
    },
    "papermill": {
     "duration": 0.030131,
     "end_time": "2021-08-04T16:59:01.180089",
     "exception": false,
     "start_time": "2021-08-04T16:59:01.149958",
     "status": "completed"
    },
    "tags": []
   },
   "outputs": [
    {
     "name": "stdout",
     "output_type": "stream",
     "text": [
      "You've successfully run some Python code\n",
      "Congratulations!\n",
      "Hi there!\n"
     ]
    }
   ],
   "source": [
    "print(\"You've successfully run some Python code\")\n",
    "print(\"Congratulations!\")\n",
    "print(\"Hi there!\")"
   ]
  },
  {
   "cell_type": "markdown",
   "id": "270ff5f1",
   "metadata": {
    "papermill": {
     "duration": 0.016366,
     "end_time": "2021-08-04T16:59:01.213634",
     "exception": false,
     "start_time": "2021-08-04T16:59:01.197268",
     "status": "completed"
    },
    "tags": []
   },
   "source": [
    "Try adding another line of code in the cell above and re-running it. \n",
    "\n",
    "Now let's get a little fancier:  Add a new code cell by clicking on an existing code cell, hitting the escape key, and then hitting the `a` or `b` key.  The `a` key will add a cell above the current cell, and `b` adds a cell below.\n",
    "\n",
    "Great! Now you know how to use Notebooks.\n",
    "\n",
    "Each hands-on exercise starts by setting up our feedback and code checking mechanism. Run the code cell below to do that. Then you'll be ready to move on to question 0."
   ]
  },
  {
   "cell_type": "code",
   "execution_count": null,
   "id": "f1a37fa0",
   "metadata": {
    "papermill": {
     "duration": 0.016446,
     "end_time": "2021-08-04T16:59:01.247027",
     "exception": false,
     "start_time": "2021-08-04T16:59:01.230581",
     "status": "completed"
    },
    "tags": []
   },
   "outputs": [],
   "source": []
  },
  {
   "cell_type": "code",
   "execution_count": null,
   "id": "d27b3015",
   "metadata": {
    "papermill": {
     "duration": 0.016162,
     "end_time": "2021-08-04T16:59:01.279639",
     "exception": false,
     "start_time": "2021-08-04T16:59:01.263477",
     "status": "completed"
    },
    "tags": []
   },
   "outputs": [],
   "source": []
  },
  {
   "cell_type": "code",
   "execution_count": null,
   "id": "50f375b0",
   "metadata": {
    "papermill": {
     "duration": 0.016232,
     "end_time": "2021-08-04T16:59:01.312418",
     "exception": false,
     "start_time": "2021-08-04T16:59:01.296186",
     "status": "completed"
    },
    "tags": []
   },
   "outputs": [],
   "source": []
  },
  {
   "cell_type": "code",
   "execution_count": 2,
   "id": "0fa95783",
   "metadata": {
    "_kg_hide-input": true,
    "_kg_hide-output": true,
    "execution": {
     "iopub.execute_input": "2021-08-04T16:59:01.350279Z",
     "iopub.status.busy": "2021-08-04T16:59:01.349662Z",
     "iopub.status.idle": "2021-08-04T16:59:01.475400Z",
     "shell.execute_reply": "2021-08-04T16:59:01.476100Z",
     "shell.execute_reply.started": "2021-08-04T16:44:41.450615Z"
    },
    "papermill": {
     "duration": 0.147262,
     "end_time": "2021-08-04T16:59:01.476320",
     "exception": false,
     "start_time": "2021-08-04T16:59:01.329058",
     "status": "completed"
    },
    "tags": []
   },
   "outputs": [
    {
     "name": "stdout",
     "output_type": "stream",
     "text": [
      "Setup complete! You're ready to start question 0.\n"
     ]
    }
   ],
   "source": [
    "from learntools.core import binder; binder.bind(globals())\n",
    "from learntools.python.ex1 import *\n",
    "print(\"Setup complete! You're ready to start question 0.\")"
   ]
  },
  {
   "cell_type": "markdown",
   "id": "6ee1616c",
   "metadata": {
    "papermill": {
     "duration": 0.016522,
     "end_time": "2021-08-04T16:59:01.511618",
     "exception": false,
     "start_time": "2021-08-04T16:59:01.495096",
     "status": "completed"
    },
    "tags": []
   },
   "source": [
    "# 0.\n",
    "\n",
    "*This is a silly question intended as an introduction to the format we use for hands-on exercises throughout all Kaggle courses.*\n",
    "\n",
    "**What is your favorite color? **\n",
    "\n",
    "To complete this question, create a variable called `color` in the cell below with an appropriate value. The function call `q0.check()` (which we've already provided in the cell below) will check your answer."
   ]
  },
  {
   "cell_type": "code",
   "execution_count": 3,
   "id": "0d384bfd",
   "metadata": {
    "execution": {
     "iopub.execute_input": "2021-08-04T16:59:01.554754Z",
     "iopub.status.busy": "2021-08-04T16:59:01.554026Z",
     "iopub.status.idle": "2021-08-04T16:59:01.560416Z",
     "shell.execute_reply": "2021-08-04T16:59:01.560905Z",
     "shell.execute_reply.started": "2021-08-04T16:44:45.100555Z"
    },
    "papermill": {
     "duration": 0.031836,
     "end_time": "2021-08-04T16:59:01.561092",
     "exception": false,
     "start_time": "2021-08-04T16:59:01.529256",
     "status": "completed"
    },
    "tags": []
   },
   "outputs": [
    {
     "data": {
      "application/javascript": [
       "parent.postMessage({\"jupyterEvent\": \"custom.exercise_interaction\", \"data\": {\"outcomeType\": 1, \"valueTowardsCompletion\": 0.25, \"interactionType\": 1, \"questionType\": 2, \"questionId\": \"0_ExerciseFormatTutorial\", \"learnToolsVersion\": \"0.3.4\", \"failureMessage\": \"\", \"exceptionClass\": \"\", \"trace\": \"\"}}, \"*\")"
      ],
      "text/plain": [
       "<IPython.core.display.Javascript object>"
      ]
     },
     "metadata": {},
     "output_type": "display_data"
    },
    {
     "data": {
      "text/markdown": [
       "<span style=\"color:#33cc33\">Correct:</span> What?! You got it right without needing a hint or anything? Drats. Well hey, you should still continue to the next step to get some practice asking for a hint and checking solutions. (Even though you obviously don't need any help here.)"
      ],
      "text/plain": [
       "Correct: What?! You got it right without needing a hint or anything? Drats. Well hey, you should still continue to the next step to get some practice asking for a hint and checking solutions. (Even though you obviously don't need any help here.)"
      ]
     },
     "metadata": {},
     "output_type": "display_data"
    }
   ],
   "source": [
    "# create a variable called color with an appropriate value on the line below\n",
    "# (Remember, strings in Python must be enclosed in 'single' or \"double\" quotes)\n",
    "____\n",
    "color = 'blue'\n",
    "# Check your answer\n",
    "q0.check()"
   ]
  },
  {
   "cell_type": "markdown",
   "id": "cdf77156",
   "metadata": {
    "papermill": {
     "duration": 0.017694,
     "end_time": "2021-08-04T16:59:01.596957",
     "exception": false,
     "start_time": "2021-08-04T16:59:01.579263",
     "status": "completed"
    },
    "tags": []
   },
   "source": [
    "Didn't get the right answer? How do you not even know your own favorite color?!\n",
    "\n",
    "Delete the `#` in the line below to make one of the lines run. You can choose between getting a hint or the full answer by choosing which line to remove the `#` from. \n",
    "\n",
    "Removing the `#` is called uncommenting, because it changes that line from a \"comment\" which Python doesn't run to code, which Python does run."
   ]
  },
  {
   "cell_type": "code",
   "execution_count": 4,
   "id": "8cbbc899",
   "metadata": {
    "execution": {
     "iopub.execute_input": "2021-08-04T16:59:01.638524Z",
     "iopub.status.busy": "2021-08-04T16:59:01.637905Z",
     "iopub.status.idle": "2021-08-04T16:59:01.646250Z",
     "shell.execute_reply": "2021-08-04T16:59:01.645614Z",
     "shell.execute_reply.started": "2021-08-04T16:44:49.881092Z"
    },
    "papermill": {
     "duration": 0.031122,
     "end_time": "2021-08-04T16:59:01.646385",
     "exception": false,
     "start_time": "2021-08-04T16:59:01.615263",
     "status": "completed"
    },
    "tags": []
   },
   "outputs": [
    {
     "data": {
      "application/javascript": [
       "parent.postMessage({\"jupyterEvent\": \"custom.exercise_interaction\", \"data\": {\"interactionType\": 3, \"questionType\": 2, \"questionId\": \"0_ExerciseFormatTutorial\", \"learnToolsVersion\": \"0.3.4\", \"valueTowardsCompletion\": 0.0, \"failureMessage\": \"\", \"exceptionClass\": \"\", \"trace\": \"\", \"outcomeType\": 4}}, \"*\")"
      ],
      "text/plain": [
       "<IPython.core.display.Javascript object>"
      ]
     },
     "metadata": {},
     "output_type": "display_data"
    },
    {
     "data": {
      "text/markdown": [
       "<span style=\"color:#33cc99\">Solution:</span> \n",
       "```python\n",
       "color = \"blue\"\n",
       "```"
      ],
      "text/plain": [
       "Solution: \n",
       "```python\n",
       "color = \"blue\"\n",
       "```"
      ]
     },
     "metadata": {},
     "output_type": "display_data"
    }
   ],
   "source": [
    "#q0.hint()\n",
    "q0.solution()"
   ]
  },
  {
   "cell_type": "markdown",
   "id": "b93a1f55",
   "metadata": {
    "papermill": {
     "duration": 0.018257,
     "end_time": "2021-08-04T16:59:01.683281",
     "exception": false,
     "start_time": "2021-08-04T16:59:01.665024",
     "status": "completed"
    },
    "tags": []
   },
   "source": [
    "The upcoming questions work the same way. The only thing that will change are the question numbers. For the next question, you'll call `q1.check()`, `q1.hint()`, `q1.solution()`, for question 2, you'll call `q2.check()`, and so on."
   ]
  },
  {
   "cell_type": "markdown",
   "id": "2f2d449b",
   "metadata": {
    "papermill": {
     "duration": 0.018003,
     "end_time": "2021-08-04T16:59:01.719705",
     "exception": false,
     "start_time": "2021-08-04T16:59:01.701702",
     "status": "completed"
    },
    "tags": []
   },
   "source": [
    "<hr/>\n",
    "\n",
    "# 1.\n",
    "\n",
    "Complete the code below. In case it's helpful, here is the table of available arithmetic operations:\n",
    "\n",
    "\n",
    "\n",
    "| Operator     | Name           | Description                                            |\n",
    "|--------------|----------------|--------------------------------------------------------|\n",
    "| ``a + b``    | Addition       | Sum of ``a`` and ``b``                                 |\n",
    "| ``a - b``    | Subtraction    | Difference of ``a`` and ``b``                          |\n",
    "| ``a * b``    | Multiplication | Product of ``a`` and ``b``                             |\n",
    "| ``a / b``    | True division  | Quotient of ``a`` and ``b``                            |\n",
    "| ``a // b``   | Floor division | Quotient of ``a`` and ``b``, removing fractional parts |\n",
    "| ``a % b``    | Modulus        | Integer remainder after division of ``a`` by ``b``     |\n",
    "| ``a ** b``   | Exponentiation | ``a`` raised to the power of ``b``                     |\n",
    "| ``-a``       | Negation       | The negative of ``a``                                  |\n",
    "\n",
    "<span style=\"display:none\"></span>\n"
   ]
  },
  {
   "cell_type": "code",
   "execution_count": 5,
   "id": "7f43b471",
   "metadata": {
    "execution": {
     "iopub.execute_input": "2021-08-04T16:59:01.770544Z",
     "iopub.status.busy": "2021-08-04T16:59:01.769664Z",
     "iopub.status.idle": "2021-08-04T16:59:01.776285Z",
     "shell.execute_reply": "2021-08-04T16:59:01.776892Z",
     "shell.execute_reply.started": "2021-08-04T16:45:05.598882Z"
    },
    "papermill": {
     "duration": 0.037911,
     "end_time": "2021-08-04T16:59:01.777088",
     "exception": false,
     "start_time": "2021-08-04T16:59:01.739177",
     "status": "completed"
    },
    "tags": []
   },
   "outputs": [
    {
     "data": {
      "application/javascript": [
       "parent.postMessage({\"jupyterEvent\": \"custom.exercise_interaction\", \"data\": {\"outcomeType\": 1, \"valueTowardsCompletion\": 0.25, \"interactionType\": 1, \"questionType\": 1, \"questionId\": \"1_CircleArea\", \"learnToolsVersion\": \"0.3.4\", \"failureMessage\": \"\", \"exceptionClass\": \"\", \"trace\": \"\"}}, \"*\")"
      ],
      "text/plain": [
       "<IPython.core.display.Javascript object>"
      ]
     },
     "metadata": {},
     "output_type": "display_data"
    },
    {
     "data": {
      "text/markdown": [
       "<span style=\"color:#33cc33\">Correct</span>"
      ],
      "text/plain": [
       "Correct"
      ]
     },
     "metadata": {},
     "output_type": "display_data"
    }
   ],
   "source": [
    "pi = 3.14159 # approximate\n",
    "diameter = 3\n",
    "\n",
    "# Create a variable called 'radius' equal to half the diameter\n",
    "radius = diameter / 2\n",
    "\n",
    "# Create a variable called 'area', using the formula for the area of a circle: pi times the radius squared\n",
    "area = pi * radius ** 2\n",
    "\n",
    "# Check your answer\n",
    "q1.check()"
   ]
  },
  {
   "cell_type": "code",
   "execution_count": 6,
   "id": "c0a8c5f1",
   "metadata": {
    "execution": {
     "iopub.execute_input": "2021-08-04T16:59:01.832999Z",
     "iopub.status.busy": "2021-08-04T16:59:01.832378Z",
     "iopub.status.idle": "2021-08-04T16:59:01.840728Z",
     "shell.execute_reply": "2021-08-04T16:59:01.841276Z",
     "shell.execute_reply.started": "2021-08-04T16:45:16.778805Z"
    },
    "papermill": {
     "duration": 0.035769,
     "end_time": "2021-08-04T16:59:01.841440",
     "exception": false,
     "start_time": "2021-08-04T16:59:01.805671",
     "status": "completed"
    },
    "tags": []
   },
   "outputs": [
    {
     "data": {
      "application/javascript": [
       "parent.postMessage({\"jupyterEvent\": \"custom.exercise_interaction\", \"data\": {\"interactionType\": 2, \"questionType\": 1, \"questionId\": \"1_CircleArea\", \"learnToolsVersion\": \"0.3.4\", \"valueTowardsCompletion\": 0.0, \"failureMessage\": \"\", \"exceptionClass\": \"\", \"trace\": \"\", \"outcomeType\": 4}}, \"*\")"
      ],
      "text/plain": [
       "<IPython.core.display.Javascript object>"
      ]
     },
     "metadata": {},
     "output_type": "display_data"
    },
    {
     "data": {
      "text/markdown": [
       "<span style=\"color:#3366cc\">Hint:</span> The syntax to raise a to the b'th power is `a ** b`"
      ],
      "text/plain": [
       "Hint: The syntax to raise a to the b'th power is `a ** b`"
      ]
     },
     "metadata": {},
     "output_type": "display_data"
    },
    {
     "data": {
      "application/javascript": [
       "parent.postMessage({\"jupyterEvent\": \"custom.exercise_interaction\", \"data\": {\"interactionType\": 3, \"questionType\": 1, \"questionId\": \"1_CircleArea\", \"learnToolsVersion\": \"0.3.4\", \"valueTowardsCompletion\": 0.0, \"failureMessage\": \"\", \"exceptionClass\": \"\", \"trace\": \"\", \"outcomeType\": 4}}, \"*\")"
      ],
      "text/plain": [
       "<IPython.core.display.Javascript object>"
      ]
     },
     "metadata": {},
     "output_type": "display_data"
    },
    {
     "data": {
      "text/markdown": [
       "<span style=\"color:#33cc99\">Solution:</span> \n",
       "```python\n",
       "radius = diameter / 2\n",
       "area = pi * radius ** 2\n",
       "```"
      ],
      "text/plain": [
       "Solution: \n",
       "```python\n",
       "radius = diameter / 2\n",
       "area = pi * radius ** 2\n",
       "```"
      ]
     },
     "metadata": {},
     "output_type": "display_data"
    }
   ],
   "source": [
    "# Uncomment and run the lines below if you need help.\n",
    "q1.hint()\n",
    "q1.solution()"
   ]
  },
  {
   "cell_type": "markdown",
   "id": "3919b317",
   "metadata": {
    "papermill": {
     "duration": 0.021622,
     "end_time": "2021-08-04T16:59:01.884472",
     "exception": false,
     "start_time": "2021-08-04T16:59:01.862850",
     "status": "completed"
    },
    "tags": []
   },
   "source": [
    "<hr/>\n",
    "\n",
    "# 2.\n",
    "\n",
    "Add code to the following cell to swap variables `a` and `b` (so that `a` refers to the object previously referred to by `b` and vice versa)."
   ]
  },
  {
   "cell_type": "code",
   "execution_count": 7,
   "id": "e5e56154",
   "metadata": {
    "execution": {
     "iopub.execute_input": "2021-08-04T16:59:01.928391Z",
     "iopub.status.busy": "2021-08-04T16:59:01.927746Z",
     "iopub.status.idle": "2021-08-04T16:59:01.934445Z",
     "shell.execute_reply": "2021-08-04T16:59:01.934977Z",
     "shell.execute_reply.started": "2021-08-04T16:46:04.567969Z"
    },
    "papermill": {
     "duration": 0.030106,
     "end_time": "2021-08-04T16:59:01.935145",
     "exception": false,
     "start_time": "2021-08-04T16:59:01.905039",
     "status": "completed"
    },
    "tags": []
   },
   "outputs": [
    {
     "data": {
      "application/javascript": [
       "parent.postMessage({\"jupyterEvent\": \"custom.exercise_interaction\", \"data\": {\"outcomeType\": 1, \"valueTowardsCompletion\": 0.25, \"interactionType\": 1, \"questionType\": 2, \"questionId\": \"2_VariableSwap\", \"learnToolsVersion\": \"0.3.4\", \"failureMessage\": \"\", \"exceptionClass\": \"\", \"trace\": \"\"}}, \"*\")"
      ],
      "text/plain": [
       "<IPython.core.display.Javascript object>"
      ]
     },
     "metadata": {},
     "output_type": "display_data"
    },
    {
     "data": {
      "text/markdown": [
       "<span style=\"color:#33cc33\">Correct:</span> \n",
       "\n",
       "The most straightforward solution is to use a third variable to temporarily store one of the old values. e.g.:\n",
       "\n",
       "    tmp = a\n",
       "    a = b\n",
       "    b = tmp\n",
       "\n",
       "If you've read lots of Python code, you might have seen the following trick to swap two variables in one line:\n",
       "\n",
       "    a, b = b, a\n",
       "\n",
       "We'll demystify this bit of Python magic later when we talk about *tuples*."
      ],
      "text/plain": [
       "Correct: \n",
       "\n",
       "The most straightforward solution is to use a third variable to temporarily store one of the old values. e.g.:\n",
       "\n",
       "    tmp = a\n",
       "    a = b\n",
       "    b = tmp\n",
       "\n",
       "If you've read lots of Python code, you might have seen the following trick to swap two variables in one line:\n",
       "\n",
       "    a, b = b, a\n",
       "\n",
       "We'll demystify this bit of Python magic later when we talk about *tuples*."
      ]
     },
     "metadata": {},
     "output_type": "display_data"
    }
   ],
   "source": [
    "########### Setup code - don't touch this part ######################\n",
    "# If you're curious, these are examples of lists. We'll talk about \n",
    "# them in depth a few lessons from now. For now, just know that they're\n",
    "# yet another type of Python object, like int or float.\n",
    "a = [1, 2, 3]\n",
    "b = [3, 2, 1]\n",
    "q2.store_original_ids()\n",
    "######################################################################\n",
    "\n",
    "# Your code goes here. Swap the values to which a and b refer.\n",
    "# If you get stuck, you can always uncomment one or both of the lines in\n",
    "# the next cell for a hint, or to peek at the solution.\n",
    "a, b = b, a\n",
    "\n",
    "######################################################################\n",
    "\n",
    "# Check your answer\n",
    "q2.check()"
   ]
  },
  {
   "cell_type": "code",
   "execution_count": 8,
   "id": "4f9b2797",
   "metadata": {
    "execution": {
     "iopub.execute_input": "2021-08-04T16:59:01.981179Z",
     "iopub.status.busy": "2021-08-04T16:59:01.980544Z",
     "iopub.status.idle": "2021-08-04T16:59:01.985249Z",
     "shell.execute_reply": "2021-08-04T16:59:01.984708Z"
    },
    "papermill": {
     "duration": 0.0288,
     "end_time": "2021-08-04T16:59:01.985381",
     "exception": false,
     "start_time": "2021-08-04T16:59:01.956581",
     "status": "completed"
    },
    "tags": []
   },
   "outputs": [],
   "source": [
    "#q2.hint()"
   ]
  },
  {
   "cell_type": "code",
   "execution_count": 9,
   "id": "1b655103",
   "metadata": {
    "execution": {
     "iopub.execute_input": "2021-08-04T16:59:02.034433Z",
     "iopub.status.busy": "2021-08-04T16:59:02.033519Z",
     "iopub.status.idle": "2021-08-04T16:59:02.036142Z",
     "shell.execute_reply": "2021-08-04T16:59:02.036598Z"
    },
    "papermill": {
     "duration": 0.029004,
     "end_time": "2021-08-04T16:59:02.036763",
     "exception": false,
     "start_time": "2021-08-04T16:59:02.007759",
     "status": "completed"
    },
    "tags": []
   },
   "outputs": [],
   "source": [
    "#q2.solution()"
   ]
  },
  {
   "cell_type": "markdown",
   "id": "1bc46477",
   "metadata": {
    "papermill": {
     "duration": 0.021249,
     "end_time": "2021-08-04T16:59:02.080317",
     "exception": false,
     "start_time": "2021-08-04T16:59:02.059068",
     "status": "completed"
    },
    "tags": []
   },
   "source": [
    "<hr/>\n",
    "\n",
    "# 3a.\n",
    "\n",
    "Add parentheses to the following expression so that it evaluates to 1."
   ]
  },
  {
   "cell_type": "code",
   "execution_count": 10,
   "id": "904e40cc",
   "metadata": {
    "execution": {
     "iopub.execute_input": "2021-08-04T16:59:02.128535Z",
     "iopub.status.busy": "2021-08-04T16:59:02.127882Z",
     "iopub.status.idle": "2021-08-04T16:59:02.130539Z",
     "shell.execute_reply": "2021-08-04T16:59:02.130972Z",
     "shell.execute_reply.started": "2021-08-04T16:46:40.410542Z"
    },
    "papermill": {
     "duration": 0.029248,
     "end_time": "2021-08-04T16:59:02.131148",
     "exception": false,
     "start_time": "2021-08-04T16:59:02.101900",
     "status": "completed"
    },
    "tags": []
   },
   "outputs": [
    {
     "data": {
      "text/plain": [
       "1"
      ]
     },
     "execution_count": 10,
     "metadata": {},
     "output_type": "execute_result"
    }
   ],
   "source": [
    "(5 - 3) // 2"
   ]
  },
  {
   "cell_type": "code",
   "execution_count": 11,
   "id": "ca930e79",
   "metadata": {
    "execution": {
     "iopub.execute_input": "2021-08-04T16:59:02.181149Z",
     "iopub.status.busy": "2021-08-04T16:59:02.179920Z",
     "iopub.status.idle": "2021-08-04T16:59:02.186691Z",
     "shell.execute_reply": "2021-08-04T16:59:02.185935Z"
    },
    "papermill": {
     "duration": 0.031807,
     "end_time": "2021-08-04T16:59:02.186891",
     "exception": false,
     "start_time": "2021-08-04T16:59:02.155084",
     "status": "completed"
    },
    "tags": []
   },
   "outputs": [],
   "source": [
    "#q3.a.hint()"
   ]
  },
  {
   "cell_type": "code",
   "execution_count": 12,
   "id": "a89b0bba",
   "metadata": {
    "execution": {
     "iopub.execute_input": "2021-08-04T16:59:02.247763Z",
     "iopub.status.busy": "2021-08-04T16:59:02.247106Z",
     "iopub.status.idle": "2021-08-04T16:59:02.252743Z",
     "shell.execute_reply": "2021-08-04T16:59:02.252185Z",
     "shell.execute_reply.started": "2021-08-04T16:46:45.979952Z"
    },
    "papermill": {
     "duration": 0.040344,
     "end_time": "2021-08-04T16:59:02.252932",
     "exception": false,
     "start_time": "2021-08-04T16:59:02.212588",
     "status": "completed"
    },
    "tags": []
   },
   "outputs": [
    {
     "data": {
      "application/javascript": [
       "parent.postMessage({\"jupyterEvent\": \"custom.exercise_interaction\", \"data\": {\"interactionType\": 3, \"questionType\": 4, \"questionId\": \"3.1_ArithmeticParensEasy\", \"learnToolsVersion\": \"0.3.4\", \"valueTowardsCompletion\": 0.0, \"failureMessage\": \"\", \"exceptionClass\": \"\", \"trace\": \"\", \"outcomeType\": 4}}, \"*\")"
      ],
      "text/plain": [
       "<IPython.core.display.Javascript object>"
      ]
     },
     "metadata": {},
     "output_type": "display_data"
    },
    {
     "data": {
      "text/markdown": [
       "<span style=\"color:#33cc99\">Solution:</span> \n",
       "```python\n",
       "(5 - 3) // 2\n",
       "```"
      ],
      "text/plain": [
       "Solution: \n",
       "```python\n",
       "(5 - 3) // 2\n",
       "```"
      ]
     },
     "metadata": {},
     "output_type": "display_data"
    }
   ],
   "source": [
    "# Check your answer (Run this code cell to receive credit!)\n",
    "q3.a.solution()"
   ]
  },
  {
   "cell_type": "markdown",
   "id": "03df74bd",
   "metadata": {
    "papermill": {
     "duration": 0.029611,
     "end_time": "2021-08-04T16:59:02.315089",
     "exception": false,
     "start_time": "2021-08-04T16:59:02.285478",
     "status": "completed"
    },
    "tags": []
   },
   "source": [
    "# 3b.  <span title=\"A bit spicy\" style=\"color: darkgreen \">🌶️</span>\n",
    "\n",
    "<small>Questions, like this one, marked a spicy pepper are a bit harder.</small>\n",
    "\n",
    "Add parentheses to the following expression so that it evaluates to 0."
   ]
  },
  {
   "cell_type": "code",
   "execution_count": 13,
   "id": "6be344da",
   "metadata": {
    "execution": {
     "iopub.execute_input": "2021-08-04T16:59:02.369208Z",
     "iopub.status.busy": "2021-08-04T16:59:02.368605Z",
     "iopub.status.idle": "2021-08-04T16:59:02.371533Z",
     "shell.execute_reply": "2021-08-04T16:59:02.372028Z",
     "shell.execute_reply.started": "2021-08-04T16:50:37.509187Z"
    },
    "papermill": {
     "duration": 0.030675,
     "end_time": "2021-08-04T16:59:02.372202",
     "exception": false,
     "start_time": "2021-08-04T16:59:02.341527",
     "status": "completed"
    },
    "tags": []
   },
   "outputs": [
    {
     "data": {
      "text/plain": [
       "0"
      ]
     },
     "execution_count": 13,
     "metadata": {},
     "output_type": "execute_result"
    }
   ],
   "source": [
    "(8 - 3) * (2 - (1 + 1))"
   ]
  },
  {
   "cell_type": "code",
   "execution_count": 14,
   "id": "8e7f7773",
   "metadata": {
    "execution": {
     "iopub.execute_input": "2021-08-04T16:59:02.422711Z",
     "iopub.status.busy": "2021-08-04T16:59:02.422058Z",
     "iopub.status.idle": "2021-08-04T16:59:02.425303Z",
     "shell.execute_reply": "2021-08-04T16:59:02.425765Z",
     "shell.execute_reply.started": "2021-08-04T16:50:42.761638Z"
    },
    "papermill": {
     "duration": 0.029901,
     "end_time": "2021-08-04T16:59:02.425968",
     "exception": false,
     "start_time": "2021-08-04T16:59:02.396067",
     "status": "completed"
    },
    "tags": []
   },
   "outputs": [],
   "source": [
    "#q3.b.hint()"
   ]
  },
  {
   "cell_type": "code",
   "execution_count": 15,
   "id": "cc4220be",
   "metadata": {
    "execution": {
     "iopub.execute_input": "2021-08-04T16:59:02.477345Z",
     "iopub.status.busy": "2021-08-04T16:59:02.476405Z",
     "iopub.status.idle": "2021-08-04T16:59:02.482622Z",
     "shell.execute_reply": "2021-08-04T16:59:02.482130Z",
     "shell.execute_reply.started": "2021-08-04T16:50:45.435229Z"
    },
    "papermill": {
     "duration": 0.033794,
     "end_time": "2021-08-04T16:59:02.482751",
     "exception": false,
     "start_time": "2021-08-04T16:59:02.448957",
     "status": "completed"
    },
    "tags": []
   },
   "outputs": [
    {
     "data": {
      "application/javascript": [
       "parent.postMessage({\"jupyterEvent\": \"custom.exercise_interaction\", \"data\": {\"interactionType\": 3, \"questionType\": 4, \"questionId\": \"3.2_ArithmeticParensHard\", \"learnToolsVersion\": \"0.3.4\", \"valueTowardsCompletion\": 0.0, \"failureMessage\": \"\", \"exceptionClass\": \"\", \"trace\": \"\", \"outcomeType\": 4}}, \"*\")"
      ],
      "text/plain": [
       "<IPython.core.display.Javascript object>"
      ]
     },
     "metadata": {},
     "output_type": "display_data"
    },
    {
     "data": {
      "text/markdown": [
       "<span style=\"color:#33cc99\">Solution:</span> `(8 - 3) * (2 - (1 + 1))` is one solution. There may be others."
      ],
      "text/plain": [
       "Solution: `(8 - 3) * (2 - (1 + 1))` is one solution. There may be others."
      ]
     },
     "metadata": {},
     "output_type": "display_data"
    }
   ],
   "source": [
    "# Check your answer (Run this code cell to receive credit!)\n",
    "q3.b.solution()"
   ]
  },
  {
   "cell_type": "markdown",
   "id": "f21854a3",
   "metadata": {
    "papermill": {
     "duration": 0.023656,
     "end_time": "2021-08-04T16:59:02.530200",
     "exception": false,
     "start_time": "2021-08-04T16:59:02.506544",
     "status": "completed"
    },
    "tags": []
   },
   "source": [
    "<hr/>\n",
    "\n",
    "# 4. \n",
    "Alice, Bob and Carol have agreed to pool their Halloween candy and split it evenly among themselves.\n",
    "For the sake of their friendship, any candies left over will be smashed. For example, if they collectively\n",
    "bring home 91 candies, they'll take 30 each and smash 1.\n",
    "\n",
    "Write an arithmetic expression below to calculate how many candies they must smash for a given haul."
   ]
  },
  {
   "cell_type": "code",
   "execution_count": 16,
   "id": "8687b5d2",
   "metadata": {
    "execution": {
     "iopub.execute_input": "2021-08-04T16:59:02.584486Z",
     "iopub.status.busy": "2021-08-04T16:59:02.583594Z",
     "iopub.status.idle": "2021-08-04T16:59:02.589225Z",
     "shell.execute_reply": "2021-08-04T16:59:02.588682Z",
     "shell.execute_reply.started": "2021-08-04T16:58:23.493860Z"
    },
    "papermill": {
     "duration": 0.035387,
     "end_time": "2021-08-04T16:59:02.589361",
     "exception": false,
     "start_time": "2021-08-04T16:59:02.553974",
     "status": "completed"
    },
    "tags": []
   },
   "outputs": [
    {
     "data": {
      "application/javascript": [
       "parent.postMessage({\"jupyterEvent\": \"custom.exercise_interaction\", \"data\": {\"outcomeType\": 1, \"valueTowardsCompletion\": 0.25, \"interactionType\": 1, \"questionType\": 1, \"questionId\": \"4_CandySplitting\", \"learnToolsVersion\": \"0.3.4\", \"failureMessage\": \"\", \"exceptionClass\": \"\", \"trace\": \"\"}}, \"*\")"
      ],
      "text/plain": [
       "<IPython.core.display.Javascript object>"
      ]
     },
     "metadata": {},
     "output_type": "display_data"
    },
    {
     "data": {
      "text/markdown": [
       "<span style=\"color:#33cc33\">Correct</span>"
      ],
      "text/plain": [
       "Correct"
      ]
     },
     "metadata": {},
     "output_type": "display_data"
    }
   ],
   "source": [
    "# Variables representing the number of candies collected by alice, bob, and carol\n",
    "alice_candies = 121\n",
    "bob_candies = 77\n",
    "carol_candies = 109\n",
    "\n",
    "# Your code goes here! Replace the right-hand side of this assignment with an expression\n",
    "# involving alice_candies, bob_candies, and carol_candies\n",
    "\n",
    "\n",
    "to_smash =(alice_candies + bob_candies + carol_candies) % 3 \n",
    "\n",
    "# Check your answer\n",
    "q4.check()"
   ]
  },
  {
   "cell_type": "code",
   "execution_count": 17,
   "id": "fa3c4f64",
   "metadata": {
    "execution": {
     "iopub.execute_input": "2021-08-04T16:59:02.643045Z",
     "iopub.status.busy": "2021-08-04T16:59:02.642434Z",
     "iopub.status.idle": "2021-08-04T16:59:02.652237Z",
     "shell.execute_reply": "2021-08-04T16:59:02.651634Z",
     "shell.execute_reply.started": "2021-08-04T16:57:02.056691Z"
    },
    "papermill": {
     "duration": 0.038333,
     "end_time": "2021-08-04T16:59:02.652368",
     "exception": false,
     "start_time": "2021-08-04T16:59:02.614035",
     "status": "completed"
    },
    "tags": []
   },
   "outputs": [
    {
     "data": {
      "application/javascript": [
       "parent.postMessage({\"jupyterEvent\": \"custom.exercise_interaction\", \"data\": {\"interactionType\": 2, \"questionType\": 1, \"questionId\": \"4_CandySplitting\", \"learnToolsVersion\": \"0.3.4\", \"valueTowardsCompletion\": 0.0, \"failureMessage\": \"\", \"exceptionClass\": \"\", \"trace\": \"\", \"outcomeType\": 4}}, \"*\")"
      ],
      "text/plain": [
       "<IPython.core.display.Javascript object>"
      ]
     },
     "metadata": {},
     "output_type": "display_data"
    },
    {
     "data": {
      "text/markdown": [
       "<span style=\"color:#3366cc\">Hint 1:</span> You'll probably want to use the modulo operator, `%`.\n",
       "(For another hint, call `.hint(2)`)"
      ],
      "text/plain": [
       "Hint 1: You'll probably want to use the modulo operator, `%`.\n",
       "(For another hint, call `.hint(2)`)"
      ]
     },
     "metadata": {},
     "output_type": "display_data"
    },
    {
     "data": {
      "application/javascript": [
       "parent.postMessage({\"jupyterEvent\": \"custom.exercise_interaction\", \"data\": {\"interactionType\": 3, \"questionType\": 1, \"questionId\": \"4_CandySplitting\", \"learnToolsVersion\": \"0.3.4\", \"valueTowardsCompletion\": 0.0, \"failureMessage\": \"\", \"exceptionClass\": \"\", \"trace\": \"\", \"outcomeType\": 4}}, \"*\")"
      ],
      "text/plain": [
       "<IPython.core.display.Javascript object>"
      ]
     },
     "metadata": {},
     "output_type": "display_data"
    },
    {
     "data": {
      "text/markdown": [
       "<span style=\"color:#33cc99\">Solution:</span> \n",
       "```python\n",
       "(alice_candies + bob_candies + carol_candies) % 3\n",
       "```"
      ],
      "text/plain": [
       "Solution: \n",
       "```python\n",
       "(alice_candies + bob_candies + carol_candies) % 3\n",
       "```"
      ]
     },
     "metadata": {},
     "output_type": "display_data"
    }
   ],
   "source": [
    "q4.hint()\n",
    "q4.solution()"
   ]
  },
  {
   "cell_type": "markdown",
   "id": "7187e3d8",
   "metadata": {
    "papermill": {
     "duration": 0.033491,
     "end_time": "2021-08-04T16:59:02.711910",
     "exception": false,
     "start_time": "2021-08-04T16:59:02.678419",
     "status": "completed"
    },
    "tags": []
   },
   "source": [
    "# Keep Going\n",
    "\n",
    "Next up, you'll **[learn to write new functions and understand functions others write](https://www.kaggle.com/colinmorris/functions-and-getting-help)**. This will make you at least 10 times more productive as a Python programmer. "
   ]
  },
  {
   "cell_type": "markdown",
   "id": "1ccd0a9b",
   "metadata": {
    "papermill": {
     "duration": 0.02562,
     "end_time": "2021-08-04T16:59:02.772041",
     "exception": false,
     "start_time": "2021-08-04T16:59:02.746421",
     "status": "completed"
    },
    "tags": []
   },
   "source": [
    "---\n",
    "\n",
    "\n",
    "\n",
    "\n",
    "*Have questions or comments? Visit the [Learn Discussion forum](https://www.kaggle.com/learn-forum/161283) to chat with other Learners.*"
   ]
  }
 ],
 "metadata": {
  "kernelspec": {
   "display_name": "Python 3",
   "language": "python",
   "name": "python3"
  },
  "language_info": {
   "codemirror_mode": {
    "name": "ipython",
    "version": 3
   },
   "file_extension": ".py",
   "mimetype": "text/x-python",
   "name": "python",
   "nbconvert_exporter": "python",
   "pygments_lexer": "ipython3",
   "version": "3.7.10"
  },
  "papermill": {
   "default_parameters": {},
   "duration": 9.742365,
   "end_time": "2021-08-04T16:59:03.409537",
   "environment_variables": {},
   "exception": null,
   "input_path": "__notebook__.ipynb",
   "output_path": "__notebook__.ipynb",
   "parameters": {},
   "start_time": "2021-08-04T16:58:53.667172",
   "version": "2.3.3"
  }
 },
 "nbformat": 4,
 "nbformat_minor": 5
}
