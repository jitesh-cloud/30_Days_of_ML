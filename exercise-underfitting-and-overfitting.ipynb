{
 "cells": [
  {
   "cell_type": "markdown",
   "id": "c45ab9ec",
   "metadata": {
    "papermill": {
     "duration": 0.008054,
     "end_time": "2021-08-17T17:10:46.991068",
     "exception": false,
     "start_time": "2021-08-17T17:10:46.983014",
     "status": "completed"
    },
    "tags": []
   },
   "source": [
    "**This notebook is an exercise in the [Introduction to Machine Learning](https://www.kaggle.com/learn/intro-to-machine-learning) course.  You can reference the tutorial at [this link](https://www.kaggle.com/dansbecker/underfitting-and-overfitting).**\n",
    "\n",
    "---\n"
   ]
  },
  {
   "cell_type": "markdown",
   "id": "e3bd0e8d",
   "metadata": {
    "papermill": {
     "duration": 0.00699,
     "end_time": "2021-08-17T17:10:47.005779",
     "exception": false,
     "start_time": "2021-08-17T17:10:46.998789",
     "status": "completed"
    },
    "tags": []
   },
   "source": [
    "## Recap\n",
    "You've built your first model, and now it's time to optimize the size of the tree to make better predictions. Run this cell to set up your coding environment where the previous step left off."
   ]
  },
  {
   "cell_type": "code",
   "execution_count": 1,
   "id": "b84c0396",
   "metadata": {
    "execution": {
     "iopub.execute_input": "2021-08-17T17:10:47.032112Z",
     "iopub.status.busy": "2021-08-17T17:10:47.031433Z",
     "iopub.status.idle": "2021-08-17T17:10:48.258885Z",
     "shell.execute_reply": "2021-08-17T17:10:48.259322Z",
     "shell.execute_reply.started": "2021-08-17T17:00:49.841210Z"
    },
    "papermill": {
     "duration": 1.246587,
     "end_time": "2021-08-17T17:10:48.259620",
     "exception": false,
     "start_time": "2021-08-17T17:10:47.013033",
     "status": "completed"
    },
    "tags": []
   },
   "outputs": [
    {
     "name": "stdout",
     "output_type": "stream",
     "text": [
      "Validation MAE: 29,653\n",
      "\n",
      "Setup complete\n"
     ]
    }
   ],
   "source": [
    "# Code you have previously used to load data\n",
    "import pandas as pd\n",
    "from sklearn.metrics import mean_absolute_error\n",
    "from sklearn.model_selection import train_test_split\n",
    "from sklearn.tree import DecisionTreeRegressor\n",
    "\n",
    "\n",
    "# Path of the file to read\n",
    "iowa_file_path = '../input/home-data-for-ml-course/train.csv'\n",
    "\n",
    "home_data = pd.read_csv(iowa_file_path)\n",
    "# Create target object and call it y\n",
    "y = home_data.SalePrice\n",
    "# Create X\n",
    "features = ['LotArea', 'YearBuilt', '1stFlrSF', '2ndFlrSF', 'FullBath', 'BedroomAbvGr', 'TotRmsAbvGrd']\n",
    "X = home_data[features]\n",
    "\n",
    "# Split into validation and training data\n",
    "train_X, val_X, train_y, val_y = train_test_split(X, y, random_state=1)\n",
    "\n",
    "# Specify Model\n",
    "iowa_model = DecisionTreeRegressor(random_state=1)\n",
    "# Fit Model\n",
    "iowa_model.fit(train_X, train_y)\n",
    "\n",
    "# Make validation predictions and calculate mean absolute error\n",
    "val_predictions = iowa_model.predict(val_X)\n",
    "val_mae = mean_absolute_error(val_predictions, val_y)\n",
    "print(\"Validation MAE: {:,.0f}\".format(val_mae))\n",
    "\n",
    "# Set up code checking\n",
    "from learntools.core import binder\n",
    "binder.bind(globals())\n",
    "from learntools.machine_learning.ex5 import *\n",
    "print(\"\\nSetup complete\")"
   ]
  },
  {
   "cell_type": "markdown",
   "id": "5f4421a9",
   "metadata": {
    "papermill": {
     "duration": 0.00704,
     "end_time": "2021-08-17T17:10:48.274362",
     "exception": false,
     "start_time": "2021-08-17T17:10:48.267322",
     "status": "completed"
    },
    "tags": []
   },
   "source": [
    "# Exercises\n",
    "You could write the function `get_mae` yourself. For now, we'll supply it. This is the same function you read about in the previous lesson. Just run the cell below."
   ]
  },
  {
   "cell_type": "code",
   "execution_count": 2,
   "id": "782a9abd",
   "metadata": {
    "execution": {
     "iopub.execute_input": "2021-08-17T17:10:48.293992Z",
     "iopub.status.busy": "2021-08-17T17:10:48.293140Z",
     "iopub.status.idle": "2021-08-17T17:10:48.295685Z",
     "shell.execute_reply": "2021-08-17T17:10:48.296074Z",
     "shell.execute_reply.started": "2021-08-17T17:01:21.317591Z"
    },
    "papermill": {
     "duration": 0.014647,
     "end_time": "2021-08-17T17:10:48.296225",
     "exception": false,
     "start_time": "2021-08-17T17:10:48.281578",
     "status": "completed"
    },
    "tags": []
   },
   "outputs": [],
   "source": [
    "def get_mae(max_leaf_nodes, train_X, val_X, train_y, val_y):\n",
    "    model = DecisionTreeRegressor(max_leaf_nodes=max_leaf_nodes, random_state=0)\n",
    "    model.fit(train_X, train_y)\n",
    "    preds_val = model.predict(val_X)\n",
    "    mae = mean_absolute_error(val_y, preds_val)\n",
    "    return(mae)"
   ]
  },
  {
   "cell_type": "markdown",
   "id": "5f3002bb",
   "metadata": {
    "papermill": {
     "duration": 0.007219,
     "end_time": "2021-08-17T17:10:48.311017",
     "exception": false,
     "start_time": "2021-08-17T17:10:48.303798",
     "status": "completed"
    },
    "tags": []
   },
   "source": [
    "## Step 1: Compare Different Tree Sizes\n",
    "Write a loop that tries the following values for *max_leaf_nodes* from a set of possible values.\n",
    "\n",
    "Call the *get_mae* function on each value of max_leaf_nodes. Store the output in some way that allows you to select the value of `max_leaf_nodes` that gives the most accurate model on your data."
   ]
  },
  {
   "cell_type": "code",
   "execution_count": 3,
   "id": "bf7e42c2",
   "metadata": {
    "execution": {
     "iopub.execute_input": "2021-08-17T17:10:48.333823Z",
     "iopub.status.busy": "2021-08-17T17:10:48.332918Z",
     "iopub.status.idle": "2021-08-17T17:10:48.379099Z",
     "shell.execute_reply": "2021-08-17T17:10:48.378571Z",
     "shell.execute_reply.started": "2021-08-17T17:07:59.557512Z"
    },
    "papermill": {
     "duration": 0.060622,
     "end_time": "2021-08-17T17:10:48.379225",
     "exception": false,
     "start_time": "2021-08-17T17:10:48.318603",
     "status": "completed"
    },
    "tags": []
   },
   "outputs": [
    {
     "data": {
      "application/javascript": [
       "parent.postMessage({\"jupyterEvent\": \"custom.exercise_interaction\", \"data\": {\"outcomeType\": 1, \"valueTowardsCompletion\": 0.5, \"interactionType\": 1, \"questionType\": 1, \"questionId\": \"1_BestTreeSize\", \"learnToolsVersion\": \"0.3.4\", \"failureMessage\": \"\", \"exceptionClass\": \"\", \"trace\": \"\"}}, \"*\")"
      ],
      "text/plain": [
       "<IPython.core.display.Javascript object>"
      ]
     },
     "metadata": {},
     "output_type": "display_data"
    },
    {
     "data": {
      "text/markdown": [
       "<span style=\"color:#33cc33\">Correct</span>"
      ],
      "text/plain": [
       "Correct"
      ]
     },
     "metadata": {},
     "output_type": "display_data"
    }
   ],
   "source": [
    "candidate_max_leaf_nodes = [5, 25, 50, 100, 250, 500]\n",
    "# Write loop to find the ideal tree size from candidate_max_leaf_nodes\n",
    "scores = {leaf_size: get_mae(leaf_size, train_X, val_X, train_y, val_y) for leaf_size in candidate_max_leaf_nodes}\n",
    "# Store the best value of max_leaf_nodes (it will be either 5, 25, 50, 100, 250 or 500)\n",
    "best_tree_size = min(scores, key=scores.get)\n",
    "\n",
    "# Check your answer\n",
    "step_1.check()"
   ]
  },
  {
   "cell_type": "code",
   "execution_count": 4,
   "id": "99c16f10",
   "metadata": {
    "execution": {
     "iopub.execute_input": "2021-08-17T17:10:48.399620Z",
     "iopub.status.busy": "2021-08-17T17:10:48.398916Z",
     "iopub.status.idle": "2021-08-17T17:10:48.401984Z",
     "shell.execute_reply": "2021-08-17T17:10:48.401431Z",
     "shell.execute_reply.started": "2021-08-17T17:08:11.745569Z"
    },
    "papermill": {
     "duration": 0.014543,
     "end_time": "2021-08-17T17:10:48.402106",
     "exception": false,
     "start_time": "2021-08-17T17:10:48.387563",
     "status": "completed"
    },
    "tags": []
   },
   "outputs": [],
   "source": [
    "# The lines below will show you a hint or the solution.\n",
    "# step_1.hint() \n",
    "# step_1.solution()"
   ]
  },
  {
   "cell_type": "markdown",
   "id": "7563825b",
   "metadata": {
    "papermill": {
     "duration": 0.008022,
     "end_time": "2021-08-17T17:10:48.418384",
     "exception": false,
     "start_time": "2021-08-17T17:10:48.410362",
     "status": "completed"
    },
    "tags": []
   },
   "source": [
    "## Step 2: Fit Model Using All Data\n",
    "You know the best tree size. If you were going to deploy this model in practice, you would make it even more accurate by using all of the data and keeping that tree size.  That is, you don't need to hold out the validation data now that you've made all your modeling decisions."
   ]
  },
  {
   "cell_type": "code",
   "execution_count": 5,
   "id": "bb9d3b04",
   "metadata": {
    "execution": {
     "iopub.execute_input": "2021-08-17T17:10:48.442023Z",
     "iopub.status.busy": "2021-08-17T17:10:48.441179Z",
     "iopub.status.idle": "2021-08-17T17:10:48.453613Z",
     "shell.execute_reply": "2021-08-17T17:10:48.454150Z",
     "shell.execute_reply.started": "2021-08-17T17:10:04.106115Z"
    },
    "papermill": {
     "duration": 0.027673,
     "end_time": "2021-08-17T17:10:48.454301",
     "exception": false,
     "start_time": "2021-08-17T17:10:48.426628",
     "status": "completed"
    },
    "tags": []
   },
   "outputs": [
    {
     "data": {
      "application/javascript": [
       "parent.postMessage({\"jupyterEvent\": \"custom.exercise_interaction\", \"data\": {\"outcomeType\": 1, \"valueTowardsCompletion\": 0.5, \"interactionType\": 1, \"questionType\": 2, \"questionId\": \"2_FitModelWithAllData\", \"learnToolsVersion\": \"0.3.4\", \"failureMessage\": \"\", \"exceptionClass\": \"\", \"trace\": \"\"}}, \"*\")"
      ],
      "text/plain": [
       "<IPython.core.display.Javascript object>"
      ]
     },
     "metadata": {},
     "output_type": "display_data"
    },
    {
     "data": {
      "text/markdown": [
       "<span style=\"color:#33cc33\">Correct</span>"
      ],
      "text/plain": [
       "Correct"
      ]
     },
     "metadata": {},
     "output_type": "display_data"
    }
   ],
   "source": [
    "# Fill in argument to make optimal size and uncomment\n",
    "final_model = DecisionTreeRegressor(max_leaf_nodes=best_tree_size, random_state=1)\n",
    "\n",
    "# fit the final model and uncomment the next two lines\n",
    "final_model.fit(X, y)\n",
    "\n",
    "# Check your answer\n",
    "step_2.check()"
   ]
  },
  {
   "cell_type": "code",
   "execution_count": 6,
   "id": "307d2d05",
   "metadata": {
    "execution": {
     "iopub.execute_input": "2021-08-17T17:10:48.475351Z",
     "iopub.status.busy": "2021-08-17T17:10:48.474495Z",
     "iopub.status.idle": "2021-08-17T17:10:48.477781Z",
     "shell.execute_reply": "2021-08-17T17:10:48.478276Z",
     "shell.execute_reply.started": "2021-08-17T17:10:13.708971Z"
    },
    "papermill": {
     "duration": 0.015141,
     "end_time": "2021-08-17T17:10:48.478423",
     "exception": false,
     "start_time": "2021-08-17T17:10:48.463282",
     "status": "completed"
    },
    "tags": []
   },
   "outputs": [],
   "source": [
    "# step_2.hint()\n",
    "# step_2.solution()"
   ]
  },
  {
   "cell_type": "markdown",
   "id": "3c47e452",
   "metadata": {
    "papermill": {
     "duration": 0.010809,
     "end_time": "2021-08-17T17:10:48.498936",
     "exception": false,
     "start_time": "2021-08-17T17:10:48.488127",
     "status": "completed"
    },
    "tags": []
   },
   "source": [
    "You've tuned this model and improved your results. But we are still using Decision Tree models, which are not very sophisticated by modern machine learning standards. In the next step you will learn to use Random Forests to improve your models even more.\n",
    "\n",
    "# Keep Going\n",
    "\n",
    "You are ready for **[Random Forests](https://www.kaggle.com/dansbecker/random-forests).**\n"
   ]
  },
  {
   "cell_type": "markdown",
   "id": "2eb5118e",
   "metadata": {
    "papermill": {
     "duration": 0.010855,
     "end_time": "2021-08-17T17:10:48.522326",
     "exception": false,
     "start_time": "2021-08-17T17:10:48.511471",
     "status": "completed"
    },
    "tags": []
   },
   "source": [
    "---\n",
    "\n",
    "\n",
    "\n",
    "\n",
    "*Have questions or comments? Visit the [Learn Discussion forum](https://www.kaggle.com/learn-forum/161285) to chat with other Learners.*"
   ]
  }
 ],
 "metadata": {
  "kernelspec": {
   "display_name": "Python 3",
   "language": "python",
   "name": "python3"
  },
  "language_info": {
   "codemirror_mode": {
    "name": "ipython",
    "version": 3
   },
   "file_extension": ".py",
   "mimetype": "text/x-python",
   "name": "python",
   "nbconvert_exporter": "python",
   "pygments_lexer": "ipython3",
   "version": "3.7.10"
  },
  "papermill": {
   "default_parameters": {},
   "duration": 9.668034,
   "end_time": "2021-08-17T17:10:49.908411",
   "environment_variables": {},
   "exception": null,
   "input_path": "__notebook__.ipynb",
   "output_path": "__notebook__.ipynb",
   "parameters": {},
   "start_time": "2021-08-17T17:10:40.240377",
   "version": "2.3.3"
  }
 },
 "nbformat": 4,
 "nbformat_minor": 5
}
