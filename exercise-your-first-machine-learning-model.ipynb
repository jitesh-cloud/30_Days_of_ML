{
 "cells": [
  {
   "cell_type": "markdown",
   "id": "65591fa5",
   "metadata": {
    "papermill": {
     "duration": 0.018655,
     "end_time": "2021-08-11T18:01:10.952805",
     "exception": false,
     "start_time": "2021-08-11T18:01:10.934150",
     "status": "completed"
    },
    "tags": []
   },
   "source": [
    "**This notebook is an exercise in the [Introduction to Machine Learning](https://www.kaggle.com/learn/intro-to-machine-learning) course.  You can reference the tutorial at [this link](https://www.kaggle.com/dansbecker/your-first-machine-learning-model).**\n",
    "\n",
    "---\n"
   ]
  },
  {
   "cell_type": "markdown",
   "id": "97e83337",
   "metadata": {
    "papermill": {
     "duration": 0.017484,
     "end_time": "2021-08-11T18:01:10.988358",
     "exception": false,
     "start_time": "2021-08-11T18:01:10.970874",
     "status": "completed"
    },
    "tags": []
   },
   "source": [
    "## Recap\n",
    "So far, you have loaded your data and reviewed it with the following code. Run this cell to set up your coding environment where the previous step left off."
   ]
  },
  {
   "cell_type": "code",
   "execution_count": 1,
   "id": "e15ebddf",
   "metadata": {
    "execution": {
     "iopub.execute_input": "2021-08-11T18:01:11.034011Z",
     "iopub.status.busy": "2021-08-11T18:01:11.032709Z",
     "iopub.status.idle": "2021-08-11T18:01:12.360256Z",
     "shell.execute_reply": "2021-08-11T18:01:12.360833Z",
     "shell.execute_reply.started": "2021-08-11T17:50:12.308393Z"
    },
    "papermill": {
     "duration": 1.354741,
     "end_time": "2021-08-11T18:01:12.361133",
     "exception": false,
     "start_time": "2021-08-11T18:01:11.006392",
     "status": "completed"
    },
    "tags": []
   },
   "outputs": [
    {
     "name": "stdout",
     "output_type": "stream",
     "text": [
      "Setup Complete\n"
     ]
    }
   ],
   "source": [
    "# Code you have previously used to load data\n",
    "import pandas as pd\n",
    "\n",
    "# Path of the file to read\n",
    "iowa_file_path = '../input/home-data-for-ml-course/train.csv'\n",
    "\n",
    "home_data = pd.read_csv(iowa_file_path)\n",
    "\n",
    "# Set up code checking\n",
    "from learntools.core import binder\n",
    "binder.bind(globals())\n",
    "from learntools.machine_learning.ex3 import *\n",
    "\n",
    "print(\"Setup Complete\")"
   ]
  },
  {
   "cell_type": "markdown",
   "id": "cf52b339",
   "metadata": {
    "papermill": {
     "duration": 0.018154,
     "end_time": "2021-08-11T18:01:12.398443",
     "exception": false,
     "start_time": "2021-08-11T18:01:12.380289",
     "status": "completed"
    },
    "tags": []
   },
   "source": [
    "# Exercises\n",
    "\n",
    "## Step 1: Specify Prediction Target\n",
    "Select the target variable, which corresponds to the sales price. Save this to a new variable called `y`. You'll need to print a list of the columns to find the name of the column you need.\n"
   ]
  },
  {
   "cell_type": "code",
   "execution_count": 2,
   "id": "9d3264e6",
   "metadata": {
    "execution": {
     "iopub.execute_input": "2021-08-11T18:01:12.441808Z",
     "iopub.status.busy": "2021-08-11T18:01:12.441200Z",
     "iopub.status.idle": "2021-08-11T18:01:12.444900Z",
     "shell.execute_reply": "2021-08-11T18:01:12.444425Z",
     "shell.execute_reply.started": "2021-08-11T17:51:10.400750Z"
    },
    "papermill": {
     "duration": 0.028269,
     "end_time": "2021-08-11T18:01:12.445002",
     "exception": false,
     "start_time": "2021-08-11T18:01:12.416733",
     "status": "completed"
    },
    "tags": []
   },
   "outputs": [
    {
     "data": {
      "text/plain": [
       "Index(['Id', 'MSSubClass', 'MSZoning', 'LotFrontage', 'LotArea', 'Street',\n",
       "       'Alley', 'LotShape', 'LandContour', 'Utilities', 'LotConfig',\n",
       "       'LandSlope', 'Neighborhood', 'Condition1', 'Condition2', 'BldgType',\n",
       "       'HouseStyle', 'OverallQual', 'OverallCond', 'YearBuilt', 'YearRemodAdd',\n",
       "       'RoofStyle', 'RoofMatl', 'Exterior1st', 'Exterior2nd', 'MasVnrType',\n",
       "       'MasVnrArea', 'ExterQual', 'ExterCond', 'Foundation', 'BsmtQual',\n",
       "       'BsmtCond', 'BsmtExposure', 'BsmtFinType1', 'BsmtFinSF1',\n",
       "       'BsmtFinType2', 'BsmtFinSF2', 'BsmtUnfSF', 'TotalBsmtSF', 'Heating',\n",
       "       'HeatingQC', 'CentralAir', 'Electrical', '1stFlrSF', '2ndFlrSF',\n",
       "       'LowQualFinSF', 'GrLivArea', 'BsmtFullBath', 'BsmtHalfBath', 'FullBath',\n",
       "       'HalfBath', 'BedroomAbvGr', 'KitchenAbvGr', 'KitchenQual',\n",
       "       'TotRmsAbvGrd', 'Functional', 'Fireplaces', 'FireplaceQu', 'GarageType',\n",
       "       'GarageYrBlt', 'GarageFinish', 'GarageCars', 'GarageArea', 'GarageQual',\n",
       "       'GarageCond', 'PavedDrive', 'WoodDeckSF', 'OpenPorchSF',\n",
       "       'EnclosedPorch', '3SsnPorch', 'ScreenPorch', 'PoolArea', 'PoolQC',\n",
       "       'Fence', 'MiscFeature', 'MiscVal', 'MoSold', 'YrSold', 'SaleType',\n",
       "       'SaleCondition', 'SalePrice'],\n",
       "      dtype='object')"
      ]
     },
     "execution_count": 2,
     "metadata": {},
     "output_type": "execute_result"
    }
   ],
   "source": [
    "# print the list of columns in the dataset to find the name of the prediction target\n",
    "home_data.columns"
   ]
  },
  {
   "cell_type": "code",
   "execution_count": 3,
   "id": "27a75647",
   "metadata": {
    "execution": {
     "iopub.execute_input": "2021-08-11T18:01:12.482431Z",
     "iopub.status.busy": "2021-08-11T18:01:12.481674Z",
     "iopub.status.idle": "2021-08-11T18:01:12.488272Z",
     "shell.execute_reply": "2021-08-11T18:01:12.488803Z",
     "shell.execute_reply.started": "2021-08-11T17:51:19.642495Z"
    },
    "papermill": {
     "duration": 0.031474,
     "end_time": "2021-08-11T18:01:12.488973",
     "exception": false,
     "start_time": "2021-08-11T18:01:12.457499",
     "status": "completed"
    },
    "tags": []
   },
   "outputs": [
    {
     "data": {
      "application/javascript": [
       "parent.postMessage({\"jupyterEvent\": \"custom.exercise_interaction\", \"data\": {\"outcomeType\": 1, \"valueTowardsCompletion\": 0.25, \"interactionType\": 1, \"questionType\": 2, \"questionId\": \"1_SetTarget\", \"learnToolsVersion\": \"0.3.4\", \"failureMessage\": \"\", \"exceptionClass\": \"\", \"trace\": \"\"}}, \"*\")"
      ],
      "text/plain": [
       "<IPython.core.display.Javascript object>"
      ]
     },
     "metadata": {},
     "output_type": "display_data"
    },
    {
     "data": {
      "text/markdown": [
       "<span style=\"color:#33cc33\">Correct</span>"
      ],
      "text/plain": [
       "Correct"
      ]
     },
     "metadata": {},
     "output_type": "display_data"
    }
   ],
   "source": [
    "y = home_data.SalePrice\n",
    "\n",
    "# Check your answer\n",
    "step_1.check()"
   ]
  },
  {
   "cell_type": "code",
   "execution_count": 4,
   "id": "126b7da7",
   "metadata": {
    "execution": {
     "iopub.execute_input": "2021-08-11T18:01:12.533027Z",
     "iopub.status.busy": "2021-08-11T18:01:12.532573Z",
     "iopub.status.idle": "2021-08-11T18:01:12.535563Z",
     "shell.execute_reply": "2021-08-11T18:01:12.535093Z",
     "shell.execute_reply.started": "2021-08-11T17:51:26.893763Z"
    },
    "papermill": {
     "duration": 0.026683,
     "end_time": "2021-08-11T18:01:12.535698",
     "exception": false,
     "start_time": "2021-08-11T18:01:12.509015",
     "status": "completed"
    },
    "tags": []
   },
   "outputs": [],
   "source": [
    "# The lines below will show you a hint or the solution.\n",
    "# step_1.hint() \n",
    "# step_1.solution()"
   ]
  },
  {
   "cell_type": "markdown",
   "id": "eba360a0",
   "metadata": {
    "papermill": {
     "duration": 0.013569,
     "end_time": "2021-08-11T18:01:12.562858",
     "exception": false,
     "start_time": "2021-08-11T18:01:12.549289",
     "status": "completed"
    },
    "tags": []
   },
   "source": [
    "## Step 2: Create X\n",
    "Now you will create a DataFrame called `X` holding the predictive features.\n",
    "\n",
    "Since you want only some columns from the original data, you'll first create a list with the names of the columns you want in `X`.\n",
    "\n",
    "You'll use just the following columns in the list (you can copy and paste the whole list to save some typing, though you'll still need to add quotes):\n",
    "    * LotArea\n",
    "    * YearBuilt\n",
    "    * 1stFlrSF\n",
    "    * 2ndFlrSF\n",
    "    * FullBath\n",
    "    * BedroomAbvGr\n",
    "    * TotRmsAbvGrd\n",
    "\n",
    "After you've created that list of features, use it to create the DataFrame that you'll use to fit the model."
   ]
  },
  {
   "cell_type": "code",
   "execution_count": 5,
   "id": "5e0f79b6",
   "metadata": {
    "execution": {
     "iopub.execute_input": "2021-08-11T18:01:12.593333Z",
     "iopub.status.busy": "2021-08-11T18:01:12.592684Z",
     "iopub.status.idle": "2021-08-11T18:01:12.606282Z",
     "shell.execute_reply": "2021-08-11T18:01:12.605866Z",
     "shell.execute_reply.started": "2021-08-11T17:55:29.605680Z"
    },
    "papermill": {
     "duration": 0.029463,
     "end_time": "2021-08-11T18:01:12.606393",
     "exception": false,
     "start_time": "2021-08-11T18:01:12.576930",
     "status": "completed"
    },
    "tags": []
   },
   "outputs": [
    {
     "data": {
      "application/javascript": [
       "parent.postMessage({\"jupyterEvent\": \"custom.exercise_interaction\", \"data\": {\"outcomeType\": 1, \"valueTowardsCompletion\": 0.25, \"interactionType\": 1, \"questionType\": 2, \"questionId\": \"2_SelectPredictionData\", \"learnToolsVersion\": \"0.3.4\", \"failureMessage\": \"\", \"exceptionClass\": \"\", \"trace\": \"\"}}, \"*\")"
      ],
      "text/plain": [
       "<IPython.core.display.Javascript object>"
      ]
     },
     "metadata": {},
     "output_type": "display_data"
    },
    {
     "data": {
      "text/markdown": [
       "<span style=\"color:#33cc33\">Correct</span>"
      ],
      "text/plain": [
       "Correct"
      ]
     },
     "metadata": {},
     "output_type": "display_data"
    }
   ],
   "source": [
    "# Create the list of features below\n",
    "feature_names = ['LotArea','YearBuilt','1stFlrSF','2ndFlrSF','FullBath','BedroomAbvGr','TotRmsAbvGrd']\n",
    "\n",
    "# Select data corresponding to features in feature_names\n",
    "X = home_data[feature_names]\n",
    "\n",
    "# Check your answer\n",
    "step_2.check()"
   ]
  },
  {
   "cell_type": "code",
   "execution_count": 6,
   "id": "d1bf3f80",
   "metadata": {
    "collapsed": true,
    "execution": {
     "iopub.execute_input": "2021-08-11T18:01:12.639421Z",
     "iopub.status.busy": "2021-08-11T18:01:12.638789Z",
     "iopub.status.idle": "2021-08-11T18:01:12.641612Z",
     "shell.execute_reply": "2021-08-11T18:01:12.642002Z"
    },
    "jupyter": {
     "outputs_hidden": true
    },
    "papermill": {
     "duration": 0.021104,
     "end_time": "2021-08-11T18:01:12.642144",
     "exception": false,
     "start_time": "2021-08-11T18:01:12.621040",
     "status": "completed"
    },
    "tags": []
   },
   "outputs": [],
   "source": [
    "# step_2.hint()\n",
    "# step_2.solution()"
   ]
  },
  {
   "cell_type": "markdown",
   "id": "6d62653a",
   "metadata": {
    "papermill": {
     "duration": 0.013947,
     "end_time": "2021-08-11T18:01:12.670840",
     "exception": false,
     "start_time": "2021-08-11T18:01:12.656893",
     "status": "completed"
    },
    "tags": []
   },
   "source": [
    "## Review Data\n",
    "Before building a model, take a quick look at **X** to verify it looks sensible"
   ]
  },
  {
   "cell_type": "code",
   "execution_count": 7,
   "id": "b8acc926",
   "metadata": {
    "collapsed": true,
    "execution": {
     "iopub.execute_input": "2021-08-11T18:01:12.703092Z",
     "iopub.status.busy": "2021-08-11T18:01:12.702417Z",
     "iopub.status.idle": "2021-08-11T18:01:12.706645Z",
     "shell.execute_reply": "2021-08-11T18:01:12.707030Z"
    },
    "jupyter": {
     "outputs_hidden": true
    },
    "papermill": {
     "duration": 0.02181,
     "end_time": "2021-08-11T18:01:12.707193",
     "exception": false,
     "start_time": "2021-08-11T18:01:12.685383",
     "status": "completed"
    },
    "tags": []
   },
   "outputs": [],
   "source": [
    "# Review data\n",
    "# print description or statistics from X\n",
    "#print(_)\n",
    "\n",
    "# print the top few lines\n",
    "#print(_)"
   ]
  },
  {
   "cell_type": "markdown",
   "id": "41c673e1",
   "metadata": {
    "papermill": {
     "duration": 0.014317,
     "end_time": "2021-08-11T18:01:12.736191",
     "exception": false,
     "start_time": "2021-08-11T18:01:12.721874",
     "status": "completed"
    },
    "tags": []
   },
   "source": [
    "## Step 3: Specify and Fit Model\n",
    "Create a `DecisionTreeRegressor` and save it iowa_model. Ensure you've done the relevant import from sklearn to run this command.\n",
    "\n",
    "Then fit the model you just created using the data in `X` and `y` that you saved above."
   ]
  },
  {
   "cell_type": "code",
   "execution_count": 8,
   "id": "bdb6cceb",
   "metadata": {
    "execution": {
     "iopub.execute_input": "2021-08-11T18:01:12.769376Z",
     "iopub.status.busy": "2021-08-11T18:01:12.768722Z",
     "iopub.status.idle": "2021-08-11T18:01:12.791930Z",
     "shell.execute_reply": "2021-08-11T18:01:12.791497Z",
     "shell.execute_reply.started": "2021-08-11T17:59:24.776221Z"
    },
    "papermill": {
     "duration": 0.040413,
     "end_time": "2021-08-11T18:01:12.792054",
     "exception": false,
     "start_time": "2021-08-11T18:01:12.751641",
     "status": "completed"
    },
    "tags": []
   },
   "outputs": [
    {
     "data": {
      "application/javascript": [
       "parent.postMessage({\"jupyterEvent\": \"custom.exercise_interaction\", \"data\": {\"outcomeType\": 1, \"valueTowardsCompletion\": 0.25, \"interactionType\": 1, \"questionType\": 2, \"questionId\": \"3_CreateModel\", \"learnToolsVersion\": \"0.3.4\", \"failureMessage\": \"\", \"exceptionClass\": \"\", \"trace\": \"\"}}, \"*\")"
      ],
      "text/plain": [
       "<IPython.core.display.Javascript object>"
      ]
     },
     "metadata": {},
     "output_type": "display_data"
    },
    {
     "data": {
      "text/markdown": [
       "<span style=\"color:#33cc33\">Correct</span>"
      ],
      "text/plain": [
       "Correct"
      ]
     },
     "metadata": {},
     "output_type": "display_data"
    }
   ],
   "source": [
    "from sklearn.tree import DecisionTreeRegressor\n",
    "#specify the model. \n",
    "#For model reproducibility, set a numeric value for random_state when specifying the model\n",
    "iowa_model = DecisionTreeRegressor(random_state = 1)\n",
    "\n",
    "# Fit the model\n",
    "iowa_model.fit(X,y)\n",
    "\n",
    "# Check your answer\n",
    "step_3.check()"
   ]
  },
  {
   "cell_type": "code",
   "execution_count": 9,
   "id": "767e19a9",
   "metadata": {
    "collapsed": true,
    "execution": {
     "iopub.execute_input": "2021-08-11T18:01:12.826687Z",
     "iopub.status.busy": "2021-08-11T18:01:12.826216Z",
     "iopub.status.idle": "2021-08-11T18:01:12.829393Z",
     "shell.execute_reply": "2021-08-11T18:01:12.828942Z"
    },
    "jupyter": {
     "outputs_hidden": true
    },
    "papermill": {
     "duration": 0.021825,
     "end_time": "2021-08-11T18:01:12.829538",
     "exception": false,
     "start_time": "2021-08-11T18:01:12.807713",
     "status": "completed"
    },
    "tags": []
   },
   "outputs": [],
   "source": [
    "# step_3.hint()\n",
    "# step_3.solution()"
   ]
  },
  {
   "cell_type": "markdown",
   "id": "2e9072e0",
   "metadata": {
    "papermill": {
     "duration": 0.015224,
     "end_time": "2021-08-11T18:01:12.860393",
     "exception": false,
     "start_time": "2021-08-11T18:01:12.845169",
     "status": "completed"
    },
    "tags": []
   },
   "source": [
    "## Step 4: Make Predictions\n",
    "Make predictions with the model's `predict` command using `X` as the data. Save the results to a variable called `predictions`."
   ]
  },
  {
   "cell_type": "code",
   "execution_count": 10,
   "id": "04471d85",
   "metadata": {
    "execution": {
     "iopub.execute_input": "2021-08-11T18:01:12.898487Z",
     "iopub.status.busy": "2021-08-11T18:01:12.897903Z",
     "iopub.status.idle": "2021-08-11T18:01:12.907750Z",
     "shell.execute_reply": "2021-08-11T18:01:12.908216Z",
     "shell.execute_reply.started": "2021-08-11T18:00:42.414526Z"
    },
    "papermill": {
     "duration": 0.032308,
     "end_time": "2021-08-11T18:01:12.908357",
     "exception": false,
     "start_time": "2021-08-11T18:01:12.876049",
     "status": "completed"
    },
    "tags": []
   },
   "outputs": [
    {
     "name": "stdout",
     "output_type": "stream",
     "text": [
      "[208500. 181500. 223500. ... 266500. 142125. 147500.]\n"
     ]
    },
    {
     "data": {
      "application/javascript": [
       "parent.postMessage({\"jupyterEvent\": \"custom.exercise_interaction\", \"data\": {\"outcomeType\": 1, \"valueTowardsCompletion\": 0.25, \"interactionType\": 1, \"questionType\": 2, \"questionId\": \"4_MakePredictions\", \"learnToolsVersion\": \"0.3.4\", \"failureMessage\": \"\", \"exceptionClass\": \"\", \"trace\": \"\"}}, \"*\")"
      ],
      "text/plain": [
       "<IPython.core.display.Javascript object>"
      ]
     },
     "metadata": {},
     "output_type": "display_data"
    },
    {
     "data": {
      "text/markdown": [
       "<span style=\"color:#33cc33\">Correct</span>"
      ],
      "text/plain": [
       "Correct"
      ]
     },
     "metadata": {},
     "output_type": "display_data"
    }
   ],
   "source": [
    "predictions = iowa_model.predict(X)\n",
    "print(predictions)\n",
    "\n",
    "# Check your answer\n",
    "step_4.check()"
   ]
  },
  {
   "cell_type": "code",
   "execution_count": 11,
   "id": "b308a7c7",
   "metadata": {
    "collapsed": true,
    "execution": {
     "iopub.execute_input": "2021-08-11T18:01:12.944314Z",
     "iopub.status.busy": "2021-08-11T18:01:12.943794Z",
     "iopub.status.idle": "2021-08-11T18:01:12.947752Z",
     "shell.execute_reply": "2021-08-11T18:01:12.947348Z"
    },
    "jupyter": {
     "outputs_hidden": true
    },
    "papermill": {
     "duration": 0.023247,
     "end_time": "2021-08-11T18:01:12.947853",
     "exception": false,
     "start_time": "2021-08-11T18:01:12.924606",
     "status": "completed"
    },
    "tags": []
   },
   "outputs": [],
   "source": [
    "# step_4.hint()\n",
    "# step_4.solution()"
   ]
  },
  {
   "cell_type": "markdown",
   "id": "8a1bd00c",
   "metadata": {
    "papermill": {
     "duration": 0.015902,
     "end_time": "2021-08-11T18:01:12.979891",
     "exception": false,
     "start_time": "2021-08-11T18:01:12.963989",
     "status": "completed"
    },
    "tags": []
   },
   "source": [
    "## Think About Your Results\n",
    "\n",
    "Use the `head` method to compare the top few predictions to the actual home values (in `y`) for those same homes. Anything surprising?\n"
   ]
  },
  {
   "cell_type": "code",
   "execution_count": 12,
   "id": "1c2a3972",
   "metadata": {
    "execution": {
     "iopub.execute_input": "2021-08-11T18:01:13.017740Z",
     "iopub.status.busy": "2021-08-11T18:01:13.017277Z",
     "iopub.status.idle": "2021-08-11T18:01:13.021916Z",
     "shell.execute_reply": "2021-08-11T18:01:13.021300Z"
    },
    "papermill": {
     "duration": 0.025981,
     "end_time": "2021-08-11T18:01:13.022058",
     "exception": false,
     "start_time": "2021-08-11T18:01:12.996077",
     "status": "completed"
    },
    "tags": []
   },
   "outputs": [],
   "source": [
    "# You can write code in this cell\n"
   ]
  },
  {
   "cell_type": "markdown",
   "id": "8554bfa5",
   "metadata": {
    "papermill": {
     "duration": 0.024367,
     "end_time": "2021-08-11T18:01:13.071863",
     "exception": false,
     "start_time": "2021-08-11T18:01:13.047496",
     "status": "completed"
    },
    "tags": []
   },
   "source": [
    "It's natural to ask how accurate the model's predictions will be and how you can improve that. That will be you're next step.\n",
    "\n",
    "# Keep Going\n",
    "\n",
    "You are ready for **[Model Validation](https://www.kaggle.com/dansbecker/model-validation).**\n"
   ]
  },
  {
   "cell_type": "markdown",
   "id": "ea28535d",
   "metadata": {
    "papermill": {
     "duration": 0.02448,
     "end_time": "2021-08-11T18:01:13.121018",
     "exception": false,
     "start_time": "2021-08-11T18:01:13.096538",
     "status": "completed"
    },
    "tags": []
   },
   "source": [
    "---\n",
    "\n",
    "\n",
    "\n",
    "\n",
    "*Have questions or comments? Visit the [Learn Discussion forum](https://www.kaggle.com/learn-forum/161285) to chat with other Learners.*"
   ]
  }
 ],
 "metadata": {
  "kernelspec": {
   "display_name": "Python 3",
   "language": "python",
   "name": "python3"
  },
  "language_info": {
   "codemirror_mode": {
    "name": "ipython",
    "version": 3
   },
   "file_extension": ".py",
   "mimetype": "text/x-python",
   "name": "python",
   "nbconvert_exporter": "python",
   "pygments_lexer": "ipython3",
   "version": "3.7.10"
  },
  "papermill": {
   "default_parameters": {},
   "duration": 10.853836,
   "end_time": "2021-08-11T18:01:14.600646",
   "environment_variables": {},
   "exception": null,
   "input_path": "__notebook__.ipynb",
   "output_path": "__notebook__.ipynb",
   "parameters": {},
   "start_time": "2021-08-11T18:01:03.746810",
   "version": "2.3.3"
  }
 },
 "nbformat": 4,
 "nbformat_minor": 5
}
